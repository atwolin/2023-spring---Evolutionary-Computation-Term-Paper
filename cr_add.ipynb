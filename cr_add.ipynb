{
 "cells": [
  {
   "cell_type": "code",
   "execution_count": 10,
   "metadata": {},
   "outputs": [],
   "source": [
    "#brew install graphviz"
   ]
  },
  {
   "cell_type": "code",
   "execution_count": 133,
   "metadata": {},
   "outputs": [],
   "source": [
    "import pandas as pd\n",
    "import os\n",
    "import re\n",
    "import random\n",
    "import random\n",
    "from deap import base, creator, gp, tools\n",
    "import operator\n",
    "from collections import defaultdict\n",
    "import matplotlib.pyplot as plt\n",
    "# import networkx as nx\n",
    "# from networkx.drawing.nx_agraph import graphviz_layout\n",
    "#import pygraphviz as pgv"
   ]
  },
  {
   "cell_type": "markdown",
   "metadata": {},
   "source": [
    "### GP setup"
   ]
  },
  {
   "cell_type": "code",
   "execution_count": 129,
   "metadata": {},
   "outputs": [
    {
     "name": "stderr",
     "output_type": "stream",
     "text": [
      "/Library/Frameworks/Python.framework/Versions/3.12/lib/python3.12/site-packages/deap/gp.py:254: RuntimeWarning: Ephemeral rand101 function cannot be pickled because its generating function is a lambda function. Use functools.partial instead.\n",
      "  warnings.warn(\"Ephemeral {name} function cannot be \"\n",
      "/Library/Frameworks/Python.framework/Versions/3.12/lib/python3.12/site-packages/deap/creator.py:185: RuntimeWarning: A class named 'FitnessMax' has already been created and it will be overwritten. Consider deleting previous creation of that class or rename it.\n",
      "  warnings.warn(\"A class named '{0}' has already been created and it \"\n",
      "/Library/Frameworks/Python.framework/Versions/3.12/lib/python3.12/site-packages/deap/creator.py:185: RuntimeWarning: A class named 'Individual' has already been created and it will be overwritten. Consider deleting previous creation of that class or rename it.\n",
      "  warnings.warn(\"A class named '{0}' has already been created and it \"\n"
     ]
    }
   ],
   "source": [
    "# Define the primitive set for a simple arithmetic expression\n",
    "def protected_div(a, b):\n",
    "    if abs(b) < 1e-6:\n",
    "        return 1\n",
    "    return a / b\n",
    "\n",
    "pset = gp.PrimitiveSet(\"MAIN\", 1)  # One input variable\n",
    "pset.addPrimitive(operator.add, 2)\n",
    "pset.addPrimitive(operator.sub, 2)\n",
    "pset.addPrimitive(operator.mul, 2)\n",
    "pset.addPrimitive(protected_div, 2)\n",
    "pset.addPrimitive(pow, 1)\n",
    "pset.addEphemeralConstant(\"rand101\", lambda: random.randint(-1, 1))  # Random constants\n",
    "pset.renameArguments(ARG0='x')\n",
    "\n",
    "# Define fitness and individual classes\n",
    "creator.create(\"FitnessMax\", base.Fitness, weights=(1.0,))\n",
    "creator.create(\"Individual\", gp.PrimitiveTree, fitness=creator.FitnessMax, pset=pset)\n",
    "\n",
    "# Generate example individuals\n",
    "toolbox = base.Toolbox()\n",
    "toolbox.register(\"expr\", gp.genHalfAndHalf, pset=pset, min_=2, max_=5)\n",
    "toolbox.register(\"individual\", tools.initIterate, creator.Individual, toolbox.expr)\n"
   ]
  },
  {
   "cell_type": "code",
   "execution_count": 130,
   "metadata": {},
   "outputs": [],
   "source": [
    "__type__ = object"
   ]
  },
  {
   "cell_type": "markdown",
   "metadata": {},
   "source": [
    "### Function"
   ]
  },
  {
   "cell_type": "code",
   "execution_count": 14,
   "metadata": {},
   "outputs": [],
   "source": [
    "def print_tree(individual, file_name):\n",
    "    nodes, edges, labels = gp.graph(individual)\n",
    "    g = pgv.AGraph()\n",
    "    g.add_nodes_from(nodes)\n",
    "    g.add_edges_from(edges)\n",
    "    g.layout(prog=\"dot\")\n",
    "\n",
    "    for i in nodes:\n",
    "        n = g.get_node(i)\n",
    "        n.attr[\"label\"] = labels[i]\n",
    "\n",
    "    g.draw(f\"{file_name}.pdf\")"
   ]
  },
  {
   "cell_type": "code",
   "execution_count": 123,
   "metadata": {},
   "outputs": [],
   "source": [
    "def combine_child(stack):\n",
    "    while (len(stack[-1][1]) == stack[-1][0].arity and len(stack[-1][1]) < 2):\n",
    "        # print(f\"len(stack[-1][1]={len(stack[-1][1])}, stack[-1][0].arity={stack[-1][0].arity}\")\n",
    "        # Extract child\n",
    "        prim, args, i2 = stack.pop()\n",
    "        string = prim.format(*args)\n",
    "        if len(stack) == 0:\n",
    "            break\n",
    "        # Add to its parent\n",
    "        stack[-1][1].append(string)\n",
    "        # print(f\"[UPDATE] append stack: {stack[-1][1]}\")\n",
    "        # print(f\"stack: {stack}\")"
   ]
  },
  {
   "cell_type": "code",
   "execution_count": 124,
   "metadata": {},
   "outputs": [],
   "source": [
    "def traverse_tree(stack, res, parent, idx):\n",
    "    while (res != 0):\n",
    "        # arity1 += 1\n",
    "        # print(f\"arity1: {arity1}\")\n",
    "\n",
    "        res -= 1\n",
    "        # print(f\"[WHILE -1] res: {res}\")\n",
    "\n",
    "        idx += 1\n",
    "        stack.append((parent[idx], [], idx))\n",
    "        # print(f\"[WHILE] append stack: {parent[idx1].name}\")\n",
    "        res += parent[idx].arity\n",
    "        # print(f\"[WHILE +arity] res: {res}\")\n",
    "\n",
    "        # print(\"combine\")\n",
    "        # combine_child(stack)\n",
    "\n",
    "        # print(f\"stack: {stack}\")\n",
    "    return stack, res, idx"
   ]
  },
  {
   "cell_type": "code",
   "execution_count": 17,
   "metadata": {},
   "outputs": [],
   "source": [
    "def cxOnePoint(ind1, ind2):\n",
    "    \"\"\"Find the common region between two individuals and randomly select the crossover point as the root of the subtree in the region. Note that the subtree must be within the region.\n",
    "\n",
    "    :param ind1: First tree participating in the crossover.\n",
    "    :param ind2: Second tree participating in the crossover.\n",
    "    :returns: A tuple of one tree.\n",
    "    \"\"\"\n",
    "    idx1 = 0\n",
    "    idx2 = 0\n",
    "\n",
    "    # To track the trees\n",
    "    stack1 = []\n",
    "    stack2 = []\n",
    "\n",
    "    # Store the common region\n",
    "    region1 = []\n",
    "    region2 = []\n",
    "\n",
    "    # Start traversing the trees\n",
    "    while (idx1 < len(ind1) and idx2 < len(ind2)):\n",
    "        # Push the nodes to the stack\n",
    "        # print(\"================================NEW================================\")\n",
    "        stack1.append((ind1[idx1], [], idx1))\n",
    "        stack2.append((ind2[idx2], [], idx2))\n",
    "        # print(f\"append stack1: {ind1[idx1].name}\")\n",
    "        # print(f\"append stack2: {ind2[idx2].name}\")\n",
    "        # print(f\"stack1: {stack1}\")\n",
    "        # print(f\"stack2: {stack2}\")\n",
    "\n",
    "\n",
    "        # Not the same region\n",
    "        if (stack1[-1][0].arity != stack2[-1][0].arity):\n",
    "            res1 = stack1[-1][0].arity\n",
    "            res2 = stack2[-1][0].arity\n",
    "            # print(f\"res1: {res1}, res2: {res2}\")\n",
    "            # arity1 = 0  # number of child nodes of the current node\n",
    "            # arity2 = 0\n",
    "            stack1, res1, idx1 = traverse_tree(stack1, res1, ind1, idx1)\n",
    "            # print(\"----------------------------------------STACK 2----------------------------------------\")\n",
    "            stack2, res2, idx2 = traverse_tree(stack2, res2, ind2, idx2)\n",
    "        else:\n",
    "            region1.append([ind1[idx1], idx1])\n",
    "            region2.append([ind2[idx2], idx2])\n",
    "\n",
    "        # print(\"-------------1 loop for combine------------\")\n",
    "        # combine_child(stack1)\n",
    "        # combine_child(stack2)\n",
    "        idx1 += 1\n",
    "        idx2 += 1\n",
    "\n",
    "    for pri, idx in region1:\n",
    "        print(f\"{idx}: {pri.name}\")\n",
    "\n",
    "    # Select crossover point\n",
    "    point = random.randint(0, len(region1) - 1)\n",
    "    print(f\"crossover point: {point}\")\n",
    "    print(f\"crossover point for trees: {region1[point]}, {region2[point]}\")\n",
    "\n",
    "    # Swap subtrees\n",
    "    if (len(region1) > 0):\n",
    "        slice1 = ind1.searchSubtree(region1[point][1])\n",
    "        slice2 = ind2.searchSubtree(region2[point][1])\n",
    "        ind1[slice1], ind2[slice2] = ind2[slice2], ind1[slice1]\n",
    "\n",
    "    # Select the one has higher fitness value\n",
    "    ### TODO ###\n",
    "\n",
    "    return ind1, ind2"
   ]
  },
  {
   "cell_type": "markdown",
   "metadata": {},
   "source": [
    "### Main"
   ]
  },
  {
   "cell_type": "code",
   "execution_count": 18,
   "metadata": {},
   "outputs": [
    {
     "name": "stdout",
     "output_type": "stream",
     "text": [
      "Parent 1: mul(mul(protected_div(x, sub(x, x)), sub(0, x)), sub(protected_div(x, x), sub(x, 1)))\n",
      "Parent 2: protected_div(mul(x, x), mul(mul(1, 1), sub(1, 1)))\n"
     ]
    }
   ],
   "source": [
    "# Define the example trees (Parents)\n",
    "# pare_str = \"mul(mul(protected_div(x, x), pow(x)), sub(protected_div(x, x), x))\"\n",
    "# ind1_str = \"mul(mul(x, pow(x)), sub(protected_div(x, x), x))\"\n",
    "# ind2_str = \"protected_div(mul(pow(x), sub(x, -1)), mul(mul(1, 1), sub(1, 1)))\"\n",
    "ind1_str = \"mul(mul(protected_div(x, sub(x, x)), sub(0, x)), sub(protected_div(x, x), sub(x, 1)))\"\n",
    "ind2_str = \"protected_div(mul(x, x), mul(mul(1, 1), sub(1, 1)))\"\n",
    "\n",
    "ind1 = gp.PrimitiveTree.from_string(ind1_str, pset)\n",
    "ind2 = gp.PrimitiveTree.from_string(ind2_str, pset)\n",
    "\n",
    "print(\"Parent 1:\", ind1)\n",
    "print(\"Parent 2:\", ind2)"
   ]
  },
  {
   "cell_type": "code",
   "execution_count": 19,
   "metadata": {},
   "outputs": [
    {
     "name": "stdout",
     "output_type": "stream",
     "text": [
      "0: mul\n",
      "1: mul\n",
      "10: sub\n",
      "11: protected_div\n",
      "12: ARG0\n",
      "13: ARG0\n",
      "14: sub\n",
      "15: ARG0\n",
      "16: 1\n",
      "crossover point: 1\n",
      "crossover point for trees: [<deap.gp.Primitive object at 0x138294540>, 1], [<deap.gp.Primitive object at 0x138294540>, 1]\n"
     ]
    }
   ],
   "source": [
    "ind1, ind2 = cxOnePoint(ind1, ind2)"
   ]
  },
  {
   "cell_type": "code",
   "execution_count": 20,
   "metadata": {},
   "outputs": [
    {
     "data": {
      "text/plain": [
       "('mul(mul(x, x), sub(protected_div(x, x), sub(x, 1)))',\n",
       " 'protected_div(mul(protected_div(x, sub(x, x)), sub(0, x)), mul(mul(1, 1), sub(1, 1)))')"
      ]
     },
     "execution_count": 20,
     "metadata": {},
     "output_type": "execute_result"
    }
   ],
   "source": [
    "ind1.__str__(), ind2.__str__()"
   ]
  },
  {
   "cell_type": "markdown",
   "metadata": {},
   "source": [
    "### CX_sameheight"
   ]
  },
  {
   "cell_type": "markdown",
   "metadata": {},
   "source": [
    "## deap_sample->cx_fair"
   ]
  },
  {
   "cell_type": "code",
   "execution_count": 131,
   "metadata": {},
   "outputs": [],
   "source": [
    "def subtree_height(tree, index):\n",
    "    \"\"\"Calculate the height of the subtree starting at the given index.\"\"\"\n",
    "    def _height(node_index):\n",
    "        node = tree[node_index]\n",
    "        if node.arity == 0:  # Leaf node\n",
    "            return 1\n",
    "        else:\n",
    "            return 1 + max(_height(child_index) for child_index in range(node_index + 1, node_index + 1 + node.arity))\n",
    "\n",
    "    return _height(index)"
   ]
  },
  {
   "cell_type": "code",
   "execution_count": 132,
   "metadata": {},
   "outputs": [
    {
     "data": {
      "text/plain": [
       "([<deap.gp.Primitive at 0x13899b330>,\n",
       "  <deap.gp.Primitive at 0x13899b330>,\n",
       "  <deap.gp.Primitive at 0x13899b790>,\n",
       "  <deap.gp.Terminal at 0x13e5c5100>,\n",
       "  <deap.gp.Primitive at 0x13899bd30>,\n",
       "  <deap.gp.Terminal at 0x13e5c5100>,\n",
       "  <deap.gp.Terminal at 0x13e4f3640>,\n",
       "  <deap.gp.Primitive at 0x13899bd30>,\n",
       "  <deap.gp.Terminal at 0x13e4f3580>,\n",
       "  <deap.gp.Terminal at 0x13e5c5100>,\n",
       "  <deap.gp.Primitive at 0x13899bd30>,\n",
       "  <deap.gp.Primitive at 0x13899b790>,\n",
       "  <deap.gp.Terminal at 0x13e5c5100>,\n",
       "  <deap.gp.Terminal at 0x13e5c5100>,\n",
       "  <deap.gp.Primitive at 0x13899bd30>,\n",
       "  <deap.gp.Terminal at 0x13e5c5100>,\n",
       "  <deap.gp.Terminal at 0x13e4f13c0>],\n",
       " [<deap.gp.Primitive at 0x13899b790>,\n",
       "  <deap.gp.Primitive at 0x13899b330>,\n",
       "  <deap.gp.Terminal at 0x13e5c5100>,\n",
       "  <deap.gp.Terminal at 0x13e5c5100>,\n",
       "  <deap.gp.Primitive at 0x13899b330>,\n",
       "  <deap.gp.Primitive at 0x13899b330>,\n",
       "  <deap.gp.Terminal at 0x13e557e80>,\n",
       "  <deap.gp.Terminal at 0x13e5c5100>,\n",
       "  <deap.gp.Primitive at 0x13899bd30>,\n",
       "  <deap.gp.Terminal at 0x13e556cc0>,\n",
       "  <deap.gp.Terminal at 0x13e4f3540>])"
      ]
     },
     "execution_count": 132,
     "metadata": {},
     "output_type": "execute_result"
    }
   ],
   "source": [
    "def cx_fair(ind1, ind2):\n",
    "    \"\"\"size fair crossover for two trees.\n",
    "    :param ind1: First tree participating in the crossover.\n",
    "    :param ind2: Second tree participating in the crossover.\n",
    "    :returns: A tuple of two trees.\n",
    "    \"\"\"\n",
    "    if len(ind1) < 2 or len(ind2) < 2:\n",
    "        # No crossover on single node tree\n",
    "        return ind1, ind2\n",
    "\n",
    "    # List all available primitive types in each individual\n",
    "    types1 = defaultdict(list)\n",
    "    types2 = defaultdict(list)\n",
    "    if ind1.root.ret == __type__:\n",
    "        # Not STGP optimization\n",
    "        types1[__type__] = list(range(1, len(ind1)))\n",
    "        types2[__type__] = list(range(1, len(ind2)))\n",
    "        common_types = [__type__]\n",
    "    else:\n",
    "        for idx, node in enumerate(ind1[1:], 1):\n",
    "            types1[node.ret].append(idx)\n",
    "        for idx, node in enumerate(ind2[1:], 1):\n",
    "            types2[node.ret].append(idx)\n",
    "        common_types = set(types1.keys()).intersection(set(types2.keys()))\n",
    "\n",
    "    if len(common_types) > 0:\n",
    "        type_ = random.choice(list(common_types))\n",
    "\n",
    "        index1 = random.choice(types1[type_])\n",
    "        height1 = subtree_height(ind1, index1)\n",
    "        #height = ind1.height\n",
    "\n",
    "        while(1):\n",
    "            index2 = random.choice(types2[type_])\n",
    "            height2 = subtree_height(ind2, index2)\n",
    "            if height2 <= height1:\n",
    "                #print(f\"height1: {height1}, height2: {height2}\")\n",
    "                break\n",
    "        slice1 = ind1.searchSubtree(index1)\n",
    "        slice2 = ind2.searchSubtree(index2)\n",
    "        ind1[slice1], ind2[slice2] = ind2[slice2], ind1[slice1]\n",
    "\n",
    "    #print(f\"Parent 1:{types1}\")\n",
    "    #print(f\"Parent 1:{types1[3]}\")\n",
    "    return ind1, ind2\n",
    "\n",
    "ind1_str = \"mul(mul(protected_div(x, sub(x, x)), sub(0, x)), sub(protected_div(x, x), sub(x, 1)))\"\n",
    "ind2_str = \"protected_div(mul(x, x), mul(mul(1, 1), sub(1, 1)))\"\n",
    "\n",
    "ind1 = gp.PrimitiveTree.from_string(ind1_str, pset)\n",
    "ind2 = gp.PrimitiveTree.from_string(ind2_str, pset)\n",
    "cx_fair(ind1, ind2)"
   ]
  },
  {
   "cell_type": "markdown",
   "metadata": {},
   "source": [
    "### cx_uniform"
   ]
  },
  {
   "cell_type": "code",
   "execution_count": 66,
   "metadata": {},
   "outputs": [
    {
     "name": "stdout",
     "output_type": "stream",
     "text": [
      "1\n"
     ]
    }
   ],
   "source": [
    "import random\n",
    "\n",
    "# 隨機選擇 0 或 1\n",
    "value = random.randint(1, 2)\n",
    "print(value)"
   ]
  },
  {
   "cell_type": "code",
   "execution_count": 141,
   "metadata": {},
   "outputs": [],
   "source": [
    "def searchSubtree_idx(tree, begin):\n",
    "        \"\"\"Return a slice object that corresponds to the\n",
    "        range of values that defines the subtree which has the\n",
    "        element with index *begin* as its root.\n",
    "        \"\"\"\n",
    "        end = begin + 1\n",
    "        total = tree[begin].arity\n",
    "        while total > 0:\n",
    "            total += tree[end].arity - 1\n",
    "            end += 1\n",
    "        return begin, end"
   ]
  },
  {
   "cell_type": "code",
   "execution_count": 167,
   "metadata": {},
   "outputs": [
    {
     "name": "stdout",
     "output_type": "stream",
     "text": [
      "left: [slice(1, 10, None), slice(1, 4, None)]\n",
      "right: [slice(11, 14, None), slice(5, 8, None)]\n",
      "mul(mul(protected_div(x, sub(x, x)), sub(0, x)), sub(protected_div(x, x), sub(x, 1)))\n"
     ]
    }
   ],
   "source": [
    "def cx_uniform(ind1, ind2):\n",
    "    \"\"\"\n",
    "    :param ind1: First tree participating in the crossover.\n",
    "    :param ind2: Second tree participating in the crossover.\n",
    "    :returns: A tuple of two trees.\n",
    "    \"\"\"\n",
    "    if len(ind1) < 2 or len(ind2) < 2:\n",
    "        # No crossover on single node tree\n",
    "        return ind1, ind2\n",
<<<<<<< HEAD
    "    # if len(ind1) >= len(ind2):\n",
    "    #     parent = ind1\n",
    "    # else:\n",
    "    #     parent = ind2\n",
=======
    "\n",
>>>>>>> main
    "    #child1 = creator.Individual(ind1)\n",
    "    #child2 = creator.Individual(ind2)\n",
    "    child = type(ind1)([])\n",
    "    parents = [ind1, ind2]\n",
    "    # p0 = parents[0].searchSubtree(0)\n",
    "    # p1 = parents[1].searchSubtree(0)\n",
    "    left_0 = parents[0].searchSubtree(1)\n",
    "    left_1 = parents[1].searchSubtree(1)\n",
    "    b0, e0 = searchSubtree_idx(parents[0],1)\n",
    "    b1, e1 = searchSubtree_idx(parents[1],1)\n",
    "    right_0 = parents[0].searchSubtree(e0+1)\n",
    "    right_1 = parents[1].searchSubtree(e1+1)\n",
    "    left = [left_0, left_1]\n",
    "    right = [right_0, right_1]\n",
    "    print(f\"left: {left}\")\n",
    "    print(f\"right: {right}\")\n",
    "    r = random.randint(0, 1) #r是root\n",
    "    if parents[r][0].arity == 2:\n",
    "        r1 = random.randint(0, 1) #r1是左邊\n",
    "        #print(f\"r={r}, r1={r1}\")\n",
    "        #print(f\"第一個：{parents[r][left[r]]}/{parents[r1][left[r1]]}\")\n",
    "        parents[r][left[r]] = parents[r1][left[r1]]\n",
    "        r2 = random.randint(0, 1)\n",
    "        parents[r][right[r]] = parents[r2][right[r2]]\n",
    "    else:\n",
    "        print(\"只有一個子點\")\n",
    "        r1 = random.randint(0, 1)\n",
    "        parents[r][left[r1]] = parents[r1][left[r1]]\n",
    "    # print(\"告一段落\")\n",
    "    print(parents[0])\n",
    "    return parents[0]\n",
    "\n",
    "ind1_str = \"mul(mul(protected_div(x, sub(x, x)), sub(0, x)), sub(protected_div(x, x), sub(x, 1)))\"\n",
    "ind2_str = \"protected_div(mul(x, x), mul(mul(1, 1), sub(1, 1)))\"\n",
    "\n",
    "ind1 = gp.PrimitiveTree.from_string(ind1_str, pset)\n",
    "ind2 = gp.PrimitiveTree.from_string(ind2_str, pset)\n",
<<<<<<< HEAD
    "ind = cx_uniform(ind1, ind2)"
=======
    "ind = cx_uniform(ind1, ind2)\n",
    "\n",
    "    #ind1[idx1]\n",
    "\n",
    "    # # List all available primitive types in each individual\n",
    "    # types1 = defaultdict(list)\n",
    "    # types2 = defaultdict(list)\n",
    "    # if ind1.root.ret == __type__:\n",
    "    #     # Not STGP optimization\n",
    "    #     types1[__type__] = list(range(1, len(ind1)))\n",
    "    #     types2[__type__] = list(range(1, len(ind2)))\n",
    "    #     common_types = [__type__]\n",
    "    # else:\n",
    "    #     for idx, node in enumerate(ind1[1:], 1):\n",
    "    #         types1[node.ret].append(idx)\n",
    "    #     for idx, node in enumerate(ind2[1:], 1):\n",
    "    #         types2[node.ret].append(idx)\n",
    "    #     common_types = set(types1.keys()).intersection(set(types2.keys()))\n",
    "\n",
    "\n",
    "\n",
    "    # if len(common_types) > 0:\n",
    "    #     type_ = random.choice(list(common_types))\n",
    "\n",
    "    #     index1 = random.choice(types1[type_])\n",
    "    #     index2 = random.choice(types2[type_])\n",
    "\n",
    "    #     slice1 = ind1.searchSubtree(index1)\n",
    "    #     slice2 = ind2.searchSubtree(index2)\n",
    "    #     ind1[slice1], ind2[slice2] = ind2[slice2], ind1[slice1]\n",
    "\n",
    "    #return ind1, ind2"
>>>>>>> main
   ]
  },
  {
   "cell_type": "code",
   "execution_count": null,
   "metadata": {},
   "outputs": [],
   "source": []
  }
 ],
 "metadata": {
  "kernelspec": {
   "display_name": "Python 3",
   "language": "python",
   "name": "python3"
  },
  "language_info": {
   "codemirror_mode": {
    "name": "ipython",
    "version": 3
   },
   "file_extension": ".py",
   "mimetype": "text/x-python",
   "name": "python",
   "nbconvert_exporter": "python",
   "pygments_lexer": "ipython3",
   "version": "3.12.3"
  }
 },
 "nbformat": 4,
 "nbformat_minor": 2
}
