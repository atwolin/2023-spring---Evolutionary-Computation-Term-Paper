{
 "cells": [
  {
   "cell_type": "code",
   "execution_count": 11,
   "metadata": {},
   "outputs": [],
   "source": [
    "import random\n",
    "from deap import gp as deap_gp\n",
    "import gp\n",
    "from data import get_embeddings"
   ]
  },
  {
   "cell_type": "code",
   "execution_count": 2,
   "metadata": {},
   "outputs": [],
   "source": [
    "seed = 1126\n",
    "random.seed(seed)"
   ]
  },
  {
   "cell_type": "code",
   "execution_count": 3,
   "metadata": {},
   "outputs": [],
   "source": [
    "class config:\n",
    "    def __init__(\n",
    "        self,\n",
    "        algorithm,\n",
    "        embedding_type,\n",
    "        dimension,\n",
    "        population_size,\n",
    "        crossover_method,\n",
    "        cross_prob,\n",
    "        mut_prob,\n",
    "        num_generations,\n",
    "        num_evaluations,\n",
    "        debug,\n",
    "    ):\n",
    "        self.algorithm = algorithm\n",
    "        self.embedding_type = embedding_type\n",
    "        self.dimension = dimension\n",
    "        self.population_size = population_size\n",
    "        self.crossover_method = crossover_method\n",
    "        self.cross_prob = cross_prob\n",
    "        self.mut_prob = mut_prob\n",
    "        self.num_generations = num_generations\n",
    "        self.num_evaluations = num_evaluations\n",
    "        self.debug = debug"
   ]
  },
  {
   "cell_type": "code",
   "execution_count": 4,
   "metadata": {},
   "outputs": [],
   "source": [
    "Config = config(\"simple_gp\",\n",
    "        \"word2vec\",\n",
    "        10,\n",
    "        100,\n",
    "        \"cx_random\",\n",
    "        0.9,\n",
    "        0.1,\n",
    "        100,\n",
    "        1000,\n",
    "        False)"
   ]
  },
  {
   "cell_type": "code",
   "execution_count": 6,
   "metadata": {},
   "outputs": [
    {
     "name": "stderr",
     "output_type": "stream",
     "text": [
      "Warning : `load_model` does not return WordVectorModel or SupervisedModel any more, but a `FastText` object which is very similar.\n"
     ]
    }
   ],
   "source": [
    "data, embeddings, embedding_model = get_embeddings(\n",
    "        Config.embedding_type, Config.dimension\n",
    "    )\n",
    "\n",
    "cx_method = gp.get_cx_num(Config.crossover_method)\n",
    "\n",
    "# Initialize instance weights\n",
    "data[\"weights\"] = 1.0 / len(data)\n",
    "data[\"weights_update\"] = 1.0 / len(data)\n",
    "\n",
    "boosting_interval = 10  # Boosting interval\n",
    "\n",
    "ensemble = []  # Ensemble to store the best individuals\n",
    "\n",
    "gpab = gp.GP(\n",
    "    Config.algorithm,\n",
    "    Config.embedding_type,\n",
    "    Config.dimension,\n",
    "    Config.population_size,\n",
    "    cx_method,\n",
    "    Config.cross_prob,\n",
    "    Config.mut_prob,\n",
    "    Config.num_generations,\n",
    "    Config.num_evaluations,\n",
    "    data,\n",
    "    embeddings,\n",
    ")\n",
    "gpab.initialize_pop()"
   ]
  },
  {
   "cell_type": "code",
   "execution_count": 21,
   "metadata": {},
   "outputs": [
    {
     "data": {
      "text/plain": [
       "69542                [teary, adler, tells, of, family]\n",
       "142293    [ethiopia, tigray, refugees, sudan, eritrea]\n",
       "188137           [vic, corruption, fighter, tells, of]\n",
       "123849                [fowler, fury, set, for, crisis]\n",
       "18781                 [love, pleads, guilty, to, drug]\n",
       "                              ...                     \n",
       "166473      [tendulkar, confident, ahead, of, special]\n",
       "265261               [russia, to, build, reactors, in]\n",
       "17271           [hotel, for, former, academy, cinemas]\n",
       "7032             [voss, out, fletcher, faces, nervous]\n",
       "52567       [abbott, backs, morrisons, asylum, seeker]\n",
       "Name: 0, Length: 2669, dtype: object"
      ]
     },
     "execution_count": 21,
     "metadata": {},
     "output_type": "execute_result"
    }
   ],
   "source": [
    "gpab.inputword"
   ]
  },
  {
   "cell_type": "code",
   "execution_count": 20,
   "metadata": {},
   "outputs": [
    {
     "data": {
      "text/plain": [
       "['teary', 'adler', 'tells', 'of', 'family']"
      ]
     },
     "execution_count": 20,
     "metadata": {},
     "output_type": "execute_result"
    }
   ],
   "source": [
    "gpab.inputword.iloc[0]"
   ]
  },
  {
   "cell_type": "code",
   "execution_count": 39,
   "metadata": {},
   "outputs": [
    {
     "data": {
      "text/plain": [
       "'protected_div(square(c), b)'"
      ]
     },
     "execution_count": 39,
     "metadata": {},
     "output_type": "execute_result"
    }
   ],
   "source": [
    "str(one_tree)"
   ]
  },
  {
   "cell_type": "code",
   "execution_count": 25,
   "metadata": {},
   "outputs": [
    {
     "data": {
      "text/plain": [
       "<function <lambda>(a, b, c, d, e)>"
      ]
     },
     "execution_count": 25,
     "metadata": {},
     "output_type": "execute_result"
    }
   ],
   "source": [
    "one_tree = gpab.pop[0]\n",
    "func = deap_gp.compile(one_tree, gpab.pset)\n",
    "func"
   ]
  },
  {
   "cell_type": "code",
   "execution_count": 49,
   "metadata": {},
   "outputs": [
    {
     "data": {
      "text/plain": [
       "['teary', 'adler', 'tells', 'of', 'family']"
      ]
     },
     "execution_count": 49,
     "metadata": {},
     "output_type": "execute_result"
    }
   ],
   "source": [
    "one_sentence = gpab.inputword.iloc[0]\n",
    "one_sentence"
   ]
  },
  {
   "cell_type": "code",
   "execution_count": 50,
   "metadata": {},
   "outputs": [
    {
     "data": {
      "text/plain": [
       "[array([ 0.11124628, -0.03967056,  0.50254434, -0.04171659,  0.14895481,\n",
       "         0.19047628,  0.05341799,  0.37907898, -0.23943269, -0.20617917],\n",
       "       dtype=float32),\n",
       " array([ 1.109828  , -0.16263524,  0.6663412 , -1.691218  ,  0.04622373,\n",
       "        -0.3450133 ,  0.35859436,  1.5889462 ,  0.04097964, -0.20548895],\n",
       "       dtype=float32),\n",
       " array([ 1.9017696 , -0.95221716,  7.549865  ,  2.2828684 , -1.8736454 ,\n",
       "        -1.5935872 ,  2.3461266 , -1.0195208 , -0.6089801 ,  5.164193  ],\n",
       "       dtype=float32),\n",
       " array([ 0.58717966,  3.8716216 ,  0.51241934, -0.38943842,  0.11221036,\n",
       "        -2.464539  , -0.46076557,  1.6559341 ,  0.10535118,  0.5409529 ],\n",
       "       dtype=float32),\n",
       " array([ 2.8095908 ,  1.0558096 , -1.1745657 , -3.8866315 , -1.1910428 ,\n",
       "        -1.4504529 , -2.4664845 ,  3.022177  ,  0.12800886, -0.97887594],\n",
       "       dtype=float32)]"
      ]
     },
     "execution_count": 50,
     "metadata": {},
     "output_type": "execute_result"
    }
   ],
   "source": [
    "[gpab.embeddings[char] for char in one_sentence]"
   ]
  },
  {
   "cell_type": "code",
   "execution_count": 53,
   "metadata": {},
   "outputs": [
    {
     "data": {
      "text/plain": [
       "13345"
      ]
     },
     "execution_count": 53,
     "metadata": {},
     "output_type": "execute_result"
    }
   ],
   "source": [
    "len([gpab.embeddings[char] for sentence in gpab.inputword for char in sentence])\n"
   ]
  },
  {
   "cell_type": "code",
   "execution_count": 28,
   "metadata": {},
   "outputs": [
    {
     "ename": "AttributeError",
     "evalue": "'list' object has no attribute 'split'",
     "output_type": "error",
     "traceback": [
      "\u001b[0;31m---------------------------------------------------------------------------\u001b[0m",
      "\u001b[0;31mAttributeError\u001b[0m                            Traceback (most recent call last)",
      "Cell \u001b[0;32mIn[28], line 1\u001b[0m\n\u001b[0;32m----> 1\u001b[0m y_pred \u001b[38;5;241m=\u001b[39m [func(words\u001b[38;5;241m.\u001b[39msplit()) \u001b[38;5;28;01mfor\u001b[39;00m words \u001b[38;5;129;01min\u001b[39;00m gpab\u001b[38;5;241m.\u001b[39minputword]\n\u001b[1;32m      2\u001b[0m y_pred\n",
      "Cell \u001b[0;32mIn[28], line 1\u001b[0m, in \u001b[0;36m<listcomp>\u001b[0;34m(.0)\u001b[0m\n\u001b[0;32m----> 1\u001b[0m y_pred \u001b[38;5;241m=\u001b[39m [func(\u001b[43mwords\u001b[49m\u001b[38;5;241;43m.\u001b[39;49m\u001b[43msplit\u001b[49m()) \u001b[38;5;28;01mfor\u001b[39;00m words \u001b[38;5;129;01min\u001b[39;00m gpab\u001b[38;5;241m.\u001b[39minputword]\n\u001b[1;32m      2\u001b[0m y_pred\n",
      "\u001b[0;31mAttributeError\u001b[0m: 'list' object has no attribute 'split'"
     ]
    }
   ],
   "source": [
    "y_pred = [func(words.split()) for words in gpab.inputword]\n",
    "y_pred"
   ]
  },
  {
   "cell_type": "code",
   "execution_count": 13,
   "metadata": {},
   "outputs": [
    {
     "name": "stdout",
     "output_type": "stream",
     "text": [
      "tree: protected_div(square(c), b)\n",
      "func: <function <lambda> at 0x7f5362544ee0>\n",
      "tree: protected_div(protected_div(e, b), protected_sqrt(multiply(a, a)))\n",
      "func: <function <lambda> at 0x7f53629a6820>\n",
      "tree: add(multiply(protected_sqrt(e), subtract(d, c)), multiply(protected_sqrt(a), subtract(b, c)))\n",
      "func: <function <lambda> at 0x7f5362544ee0>\n",
      "tree: square(protected_sqrt(square(square(a))))\n",
      "func: <function <lambda> at 0x7f53629a6820>\n",
      "tree: subtract(e, b)\n",
      "func: <function <lambda> at 0x7f5362544ee0>\n",
      "tree: square(e)\n",
      "func: <function <lambda> at 0x7f53629a6820>\n",
      "tree: multiply(add(b, a), protected_div(b, d))\n",
      "func: <function <lambda> at 0x7f5362544ee0>\n",
      "tree: protected_div(subtract(square(e), protected_sqrt(c)), add(protected_sqrt(d), subtract(a, d)))\n",
      "func: <function <lambda> at 0x7f5362996b80>\n",
      "tree: protected_sqrt(multiply(subtract(b, d), b))\n",
      "func: <function <lambda> at 0x7f5362544ee0>\n",
      "tree: multiply(square(a), protected_div(square(e), subtract(b, d)))\n",
      "func: <function <lambda> at 0x7f5362996b80>\n",
      "tree: protected_sqrt(add(b, b))\n",
      "func: <function <lambda> at 0x7f5362544ee0>\n",
      "tree: protected_sqrt(protected_div(subtract(square(square(d)), multiply(square(e), protected_sqrt(c))), protected_div(subtract(square(c), square(e)), add(protected_div(a, b), add(e, e)))))\n",
      "func: <function <lambda> at 0x7f5362996b80>\n",
      "tree: square(a)\n",
      "func: <function <lambda> at 0x7f5362544ee0>\n",
      "tree: subtract(square(a), protected_div(a, multiply(multiply(subtract(d, c), subtract(a, b)), add(a, d))))\n",
      "func: <function <lambda> at 0x7f5362996b80>\n",
      "tree: multiply(protected_div(protected_div(b, d), subtract(b, c)), subtract(add(a, a), protected_div(a, b)))\n",
      "func: <function <lambda> at 0x7f5362544ee0>\n",
      "tree: protected_sqrt(d)\n",
      "func: <function <lambda> at 0x7f5362996b80>\n",
      "tree: add(d, c)\n",
      "func: <function <lambda> at 0x7f5362544ee0>\n",
      "tree: protected_sqrt(subtract(subtract(protected_div(add(b, a), protected_sqrt(a)), add(multiply(a, e), protected_sqrt(e))), protected_sqrt(protected_div(protected_div(e, e), add(c, b)))))\n",
      "func: <function <lambda> at 0x7f5362996b80>\n",
      "tree: square(e)\n",
      "func: <function <lambda> at 0x7f5362544ee0>\n",
      "tree: subtract(b, subtract(square(d), a))\n",
      "func: <function <lambda> at 0x7f5362996b80>\n",
      "tree: square(add(e, e))\n",
      "func: <function <lambda> at 0x7f5362544ee0>\n",
      "tree: multiply(multiply(b, d), protected_div(a, b))\n",
      "func: <function <lambda> at 0x7f5362996b80>\n",
      "tree: subtract(c, e)\n",
      "func: <function <lambda> at 0x7f5362544ee0>\n",
      "tree: add(d, add(d, protected_sqrt(subtract(protected_div(a, a), b))))\n",
      "func: <function <lambda> at 0x7f53629a6820>\n",
      "tree: subtract(multiply(b, c), c)\n",
      "func: <function <lambda> at 0x7f5362544ee0>\n",
      "tree: add(c, square(multiply(e, b)))\n",
      "func: <function <lambda> at 0x7f5362996b80>\n",
      "tree: square(a)\n",
      "func: <function <lambda> at 0x7f5362544ee0>\n",
      "tree: protected_sqrt(protected_div(e, b))\n",
      "func: <function <lambda> at 0x7f5362996b80>\n",
      "tree: square(square(add(subtract(subtract(a, e), add(b, d)), add(square(a), square(c)))))\n",
      "func: <function <lambda> at 0x7f5362544ee0>\n",
      "tree: square(protected_sqrt(square(square(a))))\n",
      "func: <function <lambda> at 0x7f53629a6820>\n",
      "tree: add(multiply(add(d, a), add(d, e)), protected_sqrt(subtract(b, d)))\n",
      "func: <function <lambda> at 0x7f5362544ee0>\n",
      "tree: protected_div(subtract(multiply(add(multiply(a, b), protected_sqrt(e)), add(multiply(e, e), square(b))), subtract(subtract(protected_div(c, d), square(d)), square(protected_div(c, b)))), protected_div(square(square(add(a, e))), multiply(protected_sqrt(add(b, c)), square(square(b)))))\n",
      "func: <function <lambda> at 0x7f53629a6820>\n",
      "tree: add(protected_sqrt(add(a, d)), add(add(d, c), multiply(d, c)))\n",
      "func: <function <lambda> at 0x7f53629a69d0>\n",
      "tree: protected_div(protected_sqrt(e), d)\n",
      "func: <function <lambda> at 0x7f5362544ee0>\n",
      "tree: square(square(a))\n",
      "func: <function <lambda> at 0x7f53629a69d0>\n",
      "tree: protected_sqrt(protected_sqrt(add(subtract(b, e), square(d))))\n",
      "func: <function <lambda> at 0x7f53629a6820>\n",
      "tree: protected_div(protected_sqrt(multiply(b, b)), protected_div(subtract(b, c), protected_sqrt(e)))\n",
      "func: <function <lambda> at 0x7f5362544ee0>\n",
      "tree: protected_div(add(a, c), protected_div(d, e))\n",
      "func: <function <lambda> at 0x7f53629a6820>\n",
      "tree: subtract(multiply(add(d, d), square(e)), protected_sqrt(protected_div(c, d)))\n",
      "func: <function <lambda> at 0x7f5362544ee0>\n",
      "tree: multiply(d, c)\n",
      "func: <function <lambda> at 0x7f53629a69d0>\n",
      "tree: add(multiply(add(subtract(b, a), add(e, a)), protected_sqrt(protected_sqrt(b))), add(protected_sqrt(protected_div(e, c)), subtract(multiply(d, e), multiply(e, d))))\n",
      "func: <function <lambda> at 0x7f5362544ee0>\n",
      "tree: add(multiply(square(c), protected_div(c, e)), add(square(c), add(b, c)))\n",
      "func: <function <lambda> at 0x7f53629a69d0>\n",
      "tree: protected_div(a, multiply(b, c))\n",
      "func: <function <lambda> at 0x7f5362544ee0>\n",
      "tree: protected_sqrt(multiply(square(subtract(c, d)), square(add(a, d))))\n",
      "func: <function <lambda> at 0x7f53629a69d0>\n",
      "tree: multiply(protected_div(d, d), protected_sqrt(b))\n",
      "func: <function <lambda> at 0x7f5362544ee0>\n",
      "tree: multiply(square(e), protected_div(a, a))\n",
      "func: <function <lambda> at 0x7f53629a69d0>\n",
      "tree: subtract(a, e)\n",
      "func: <function <lambda> at 0x7f5362544ee0>\n",
      "tree: subtract(a, c)\n",
      "func: <function <lambda> at 0x7f53629a69d0>\n",
      "tree: protected_sqrt(d)\n",
      "func: <function <lambda> at 0x7f5362544ee0>\n",
      "tree: subtract(add(subtract(square(b), e), d), square(multiply(square(a), b)))\n",
      "func: <function <lambda> at 0x7f5362faedc0>\n",
      "tree: subtract(b, b)\n",
      "func: <function <lambda> at 0x7f5362544ee0>\n",
      "tree: protected_sqrt(b)\n",
      "func: <function <lambda> at 0x7f5362faedc0>\n",
      "tree: multiply(multiply(d, d), square(a))\n",
      "func: <function <lambda> at 0x7f5362544ee0>\n",
      "tree: protected_sqrt(protected_div(protected_div(c, a), e))\n",
      "func: <function <lambda> at 0x7f5362faedc0>\n",
      "tree: protected_div(a, d)\n",
      "func: <function <lambda> at 0x7f5362544ee0>\n",
      "tree: add(square(protected_div(square(subtract(a, a)), protected_sqrt(protected_div(b, a)))), subtract(subtract(subtract(protected_sqrt(c), multiply(b, b)), square(square(a))), square(add(protected_sqrt(e), protected_sqrt(c)))))\n",
      "func: <function <lambda> at 0x7f5362faedc0>\n",
      "tree: multiply(multiply(b, e), square(b))\n",
      "func: <function <lambda> at 0x7f5362544ee0>\n",
      "tree: multiply(subtract(b, b), protected_div(e, a))\n",
      "func: <function <lambda> at 0x7f5362faedc0>\n",
      "tree: subtract(c, c)\n",
      "func: <function <lambda> at 0x7f5362544ee0>\n",
      "tree: protected_div(multiply(e, b), multiply(b, a))\n",
      "func: <function <lambda> at 0x7f5362faedc0>\n",
      "tree: protected_div(add(protected_div(e, c), protected_sqrt(d)), protected_sqrt(add(d, b)))\n",
      "func: <function <lambda> at 0x7f5362544ee0>\n",
      "tree: multiply(subtract(a, add(d, a)), e)\n",
      "func: <function <lambda> at 0x7f536242c820>\n",
      "tree: subtract(c, e)\n",
      "func: <function <lambda> at 0x7f5362544ee0>\n",
      "tree: square(d)\n",
      "func: <function <lambda> at 0x7f536242c820>\n",
      "tree: square(add(multiply(subtract(d, e), protected_div(a, c)), protected_sqrt(protected_sqrt(a))))\n",
      "func: <function <lambda> at 0x7f5362544ee0>\n",
      "tree: protected_div(subtract(protected_sqrt(subtract(e, c)), square(square(a))), protected_div(protected_div(protected_div(d, e), subtract(a, c)), add(protected_sqrt(d), protected_div(c, e))))\n",
      "func: <function <lambda> at 0x7f536242c820>\n",
      "tree: protected_sqrt(protected_div(add(multiply(d, e), square(a)), protected_div(square(e), protected_div(e, a))))\n",
      "func: <function <lambda> at 0x7f5362544ee0>\n",
      "tree: add(d, d)\n",
      "func: <function <lambda> at 0x7f536242c820>\n",
      "tree: protected_sqrt(b)\n",
      "func: <function <lambda> at 0x7f5362544ee0>\n",
      "tree: add(protected_sqrt(b), multiply(protected_div(subtract(e, b), b), e))\n",
      "func: <function <lambda> at 0x7f536242c820>\n",
      "tree: protected_sqrt(square(multiply(protected_div(d, c), multiply(d, c))))\n",
      "func: <function <lambda> at 0x7f5362544ee0>\n",
      "tree: square(d)\n",
      "func: <function <lambda> at 0x7f536242c820>\n",
      "tree: multiply(c, square(b))\n",
      "func: <function <lambda> at 0x7f5362544ee0>\n",
      "tree: multiply(e, a)\n",
      "func: <function <lambda> at 0x7f536242c820>\n",
      "tree: subtract(c, a)\n",
      "func: <function <lambda> at 0x7f5362544ee0>\n",
      "tree: protected_sqrt(e)\n",
      "func: <function <lambda> at 0x7f536242c820>\n",
      "tree: protected_sqrt(c)\n",
      "func: <function <lambda> at 0x7f5362544ee0>\n",
      "tree: square(a)\n",
      "func: <function <lambda> at 0x7f536242c820>\n",
      "tree: protected_sqrt(protected_sqrt(b))\n",
      "func: <function <lambda> at 0x7f5362544ee0>\n",
      "tree: protected_sqrt(square(protected_sqrt(d)))\n",
      "func: <function <lambda> at 0x7f536242c820>\n",
      "tree: protected_div(c, d)\n",
      "func: <function <lambda> at 0x7f5362544ee0>\n",
      "tree: multiply(protected_div(e, square(d)), a)\n",
      "func: <function <lambda> at 0x7f536242c820>\n",
      "tree: protected_sqrt(b)\n",
      "func: <function <lambda> at 0x7f5362544ee0>\n",
      "tree: protected_sqrt(subtract(a, protected_sqrt(a)))\n",
      "func: <function <lambda> at 0x7f536242c820>\n",
      "tree: add(e, e)\n",
      "func: <function <lambda> at 0x7f5362544ee0>\n",
      "tree: protected_div(a, b)\n",
      "func: <function <lambda> at 0x7f536242c820>\n",
      "tree: protected_div(protected_div(b, protected_sqrt(protected_div(protected_sqrt(a), b))), multiply(a, d))\n",
      "func: <function <lambda> at 0x7f5362544ee0>\n",
      "tree: subtract(multiply(protected_sqrt(protected_div(protected_div(b, a), square(d))), protected_div(protected_sqrt(protected_div(d, d)), add(protected_div(b, a), add(b, a)))), add(square(multiply(add(c, d), square(d))), add(protected_sqrt(multiply(a, c)), square(protected_div(b, a)))))\n",
      "func: <function <lambda> at 0x7f536242c820>\n",
      "tree: protected_sqrt(d)\n",
      "func: <function <lambda> at 0x7f5362544ee0>\n",
      "tree: multiply(protected_div(protected_sqrt(square(d)), protected_sqrt(add(c, a))), protected_div(add(protected_div(e, b), protected_sqrt(a)), subtract(add(c, c), protected_sqrt(c))))\n",
      "func: <function <lambda> at 0x7f536242c820>\n",
      "tree: protected_sqrt(b)\n",
      "func: <function <lambda> at 0x7f5362544ee0>\n",
      "tree: multiply(a, c)\n",
      "func: <function <lambda> at 0x7f536242c820>\n",
      "tree: multiply(protected_sqrt(c), c)\n",
      "func: <function <lambda> at 0x7f5362544ee0>\n",
      "tree: square(protected_div(a, b))\n",
      "func: <function <lambda> at 0x7f536242c820>\n",
      "tree: protected_div(square(d), e)\n",
      "func: <function <lambda> at 0x7f5362544ee0>\n",
      "tree: protected_sqrt(d)\n",
      "func: <function <lambda> at 0x7f536242c820>\n",
      "tree: subtract(protected_sqrt(multiply(b, b)), subtract(b, a))\n",
      "func: <function <lambda> at 0x7f5362544ee0>\n",
      "tree: subtract(b, add(protected_div(d, c), subtract(b, d)))\n",
      "func: <function <lambda> at 0x7f536242c820>\n",
      "tree: protected_sqrt(a)\n",
      "func: <function <lambda> at 0x7f5362544ee0>\n",
      "tree: protected_div(add(a, a), add(d, d))\n",
      "func: <function <lambda> at 0x7f536242c820>\n"
     ]
    },
    {
     "data": {
      "text/plain": [
       "[]"
      ]
     },
     "execution_count": 13,
     "metadata": {},
     "output_type": "execute_result"
    }
   ],
   "source": [
    "def update_weight(trees):\n",
    "    errors = []\n",
    "    for idx, tree in enumerate(trees.pop):\n",
    "        func = deap_gp.compile(tree, trees.pset)\n",
    "        print(f\"tree: {tree}\")\n",
    "        print(f\"func: {func}\")\n",
    "        words = trees.inputwords\n",
    "        # y_pred = (func(a, b, c, d, e))\n",
    "        # y_true = (trees.embeddings[trees.realword.iloc[idx]])\n",
    "\n",
    "        # # Calculate the prediction error (e.g., Euclidean distance)\n",
    "        # error = np.linalg.norm(y_true - y_pred)\n",
    "        # # print(f\"error: {error}\")\n",
    "        # errors.append(error)\n",
    "    return errors\n",
    "\n",
    "error = update_weight(gpab)"
   ]
  }
 ],
 "metadata": {
  "kernelspec": {
   "display_name": "env_p",
   "language": "python",
   "name": "python3"
  },
  "language_info": {
   "codemirror_mode": {
    "name": "ipython",
    "version": 3
   },
   "file_extension": ".py",
   "mimetype": "text/x-python",
   "name": "python",
   "nbconvert_exporter": "python",
   "pygments_lexer": "ipython3",
   "version": "3.9.19"
  }
 },
 "nbformat": 4,
 "nbformat_minor": 2
}
