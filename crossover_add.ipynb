{
 "cells": [
  {
   "cell_type": "code",
   "execution_count": 1,
   "metadata": {},
   "outputs": [],
   "source": [
    "import pandas as pd\n",
    "import os\n",
    "import re\n",
    "import random\n",
    "import random\n",
    "from deap import base, creator, gp, tools\n",
    "import operator\n",
    "from collections import defaultdict\n",
    "import matplotlib.pyplot as plt\n",
    "# import networkx as nx\n",
    "# from networkx.drawing.nx_agraph import graphviz_layout\n",
    "import pygraphviz as pgv"
   ]
  },
  {
   "cell_type": "markdown",
   "metadata": {},
   "source": [
    "### GP setup"
   ]
  },
  {
   "cell_type": "code",
   "execution_count": 2,
   "metadata": {},
   "outputs": [
    {
     "name": "stderr",
     "output_type": "stream",
     "text": [
      "/home/nlplab/atwolin/EC/env_ec/lib/python3.12/site-packages/deap/gp.py:254: RuntimeWarning: Ephemeral rand101 function cannot be pickled because its generating function is a lambda function. Use functools.partial instead.\n",
      "  warnings.warn(\"Ephemeral {name} function cannot be \"\n"
     ]
    }
   ],
   "source": [
    "# Define the primitive set for a simple arithmetic expression\n",
    "def protected_div(a, b):\n",
    "    if abs(b) < 1e-6:\n",
    "        return 1\n",
    "    return a / b\n",
    "\n",
    "pset = gp.PrimitiveSet(\"MAIN\", 1)  # One input variable\n",
    "pset.addPrimitive(operator.add, 2)\n",
    "pset.addPrimitive(operator.sub, 2)\n",
    "pset.addPrimitive(operator.mul, 2)\n",
    "pset.addPrimitive(protected_div, 2)\n",
    "pset.addPrimitive(pow, 1)\n",
    "pset.addEphemeralConstant(\"rand101\", lambda: random.randint(-1, 1))  # Random constants\n",
    "pset.renameArguments(ARG0='x')\n",
    "\n",
    "# Define fitness and individual classes\n",
    "creator.create(\"FitnessMax\", base.Fitness, weights=(1.0,))\n",
    "creator.create(\"Individual\", gp.PrimitiveTree, fitness=creator.FitnessMax, pset=pset)\n",
    "\n",
    "# Generate example individuals\n",
    "toolbox = base.Toolbox()\n",
    "toolbox.register(\"expr\", gp.genHalfAndHalf, pset=pset, min_=2, max_=5)\n",
    "toolbox.register(\"individual\", tools.initIterate, creator.Individual, toolbox.expr)\n"
   ]
  },
  {
   "cell_type": "code",
   "execution_count": 3,
   "metadata": {},
   "outputs": [],
   "source": [
    "__type__ = object"
   ]
  },
  {
   "cell_type": "markdown",
   "metadata": {},
   "source": [
    "### Function"
   ]
  },
  {
   "cell_type": "code",
   "execution_count": 5,
   "metadata": {},
   "outputs": [],
   "source": [
    "def print_tree(individual, file_name):\n",
    "    nodes, edges, labels = gp.graph(individual)\n",
    "    g = pgv.AGraph()\n",
    "    g.add_nodes_from(nodes)\n",
    "    g.add_edges_from(edges)\n",
    "    g.layout(prog=\"dot\")\n",
    "\n",
    "    for i in nodes:\n",
    "        n = g.get_node(i)\n",
    "        n.attr[\"label\"] = labels[i]\n",
    "\n",
    "    g.draw(f\"{file_name}.pdf\")"
   ]
  },
  {
   "cell_type": "code",
   "execution_count": 6,
   "metadata": {},
   "outputs": [],
   "source": [
    "def combine_child(stack):\n",
    "    while (len(stack[-1][1]) == stack[-1][0].arity and len(stack[-1][1]) < 2):\n",
    "        # print(f\"len(stack[-1][1]={len(stack[-1][1])}, stack[-1][0].arity={stack[-1][0].arity}\")\n",
    "        # Extract child\n",
    "        prim, args, i2 = stack.pop()\n",
    "        string = prim.format(*args)\n",
    "        if len(stack) == 0:\n",
    "            break\n",
    "        # Add to its parent\n",
    "        stack[-1][1].append(string)\n",
    "        # print(f\"[UPDATE] append stack: {stack[-1][1]}\")\n",
    "        # print(f\"stack: {stack}\")"
   ]
  },
  {
   "cell_type": "code",
   "execution_count": 37,
   "metadata": {},
   "outputs": [],
   "source": [
    "def traverse_tree(stack, res, parent, idx):\n",
    "    while (res != 0):\n",
    "        # arity1 += 1\n",
    "        # print(f\"arity1: {arity1}\")\n",
    "\n",
    "        res -= 1\n",
    "        # print(f\"[WHILE -1] res: {res}\")\n",
    "\n",
    "        idx += 1\n",
    "        stack.append((parent[idx], [], idx))\n",
    "        # print(f\"[WHILE] append stack: {parent[idx1].name}\")\n",
    "        res += parent[idx].arity\n",
    "        # print(f\"[WHILE +arity] res: {res}\")\n",
    "\n",
    "        # print(\"combine\")\n",
    "        combine_child(stack)\n",
    "\n",
    "        # print(f\"stack: {stack}\")\n",
    "    return stack, res, idx"
   ]
  },
  {
   "cell_type": "code",
   "execution_count": 51,
   "metadata": {},
   "outputs": [],
   "source": [
    "def cxOnePoint(ind1, ind2):\n",
    "    \"\"\"Find the common region between two individuals and randomly select the crossover point as the root of the subtree in the region. Note that the subtree must be within the region.\n",
    "\n",
    "    :param ind1: First tree participating in the crossover.\n",
    "    :param ind2: Second tree participating in the crossover.\n",
    "    :returns: A tuple of one tree.\n",
    "    \"\"\"\n",
    "    idx1 = 0\n",
    "    idx2 = 0\n",
    "\n",
    "    # To track the trees\n",
    "    stack1 = []\n",
    "    stack2 = []\n",
    "\n",
    "    # Store the common region\n",
    "    region1 = []\n",
    "    region2 = []\n",
    "\n",
    "    # Start traversing the trees\n",
    "    while (idx1 < len(ind1) and idx2 < len(ind2)):\n",
    "        # Push the nodes to the stack\n",
    "        # print(\"================================NEW================================\")\n",
    "        stack1.append((ind1[idx1], [], idx1))\n",
    "        stack2.append((ind2[idx2], [], idx2))\n",
    "        # print(f\"append stack1: {ind1[idx1].name}\")\n",
    "        # print(f\"append stack2: {ind2[idx2].name}\")\n",
    "        # print(f\"stack1: {stack1}\")\n",
    "        # print(f\"stack2: {stack2}\")\n",
    "\n",
    "\n",
    "        # Not the same region\n",
    "        if (stack1[-1][0].arity != stack2[-1][0].arity):\n",
    "            res1 = stack1[-1][0].arity\n",
    "            res2 = stack2[-1][0].arity\n",
    "            # print(f\"res1: {res1}, res2: {res2}\")\n",
    "            # arity1 = 0  # number of child nodes of the current node\n",
    "            # arity2 = 0\n",
    "            stack1, res1, idx1 = traverse_tree(stack1, res1, ind1, idx1)\n",
    "            # print(\"----------------------------------------STACK 2----------------------------------------\")\n",
    "            stack2, res2, idx2 = traverse_tree(stack2, res2, ind2, idx2)\n",
    "        else:\n",
    "            region1.append([ind1[idx1], idx1])\n",
    "            region2.append([ind2[idx2], idx2])\n",
    "\n",
    "        # print(\"-------------1 loop for combine------------\")\n",
    "        combine_child(stack1)\n",
    "        combine_child(stack2)\n",
    "        idx1 += 1\n",
    "        idx2 += 1\n",
    "\n",
    "    for pri, idx in region1:\n",
    "        print(f\"{idx}: {pri.name}\")\n",
    "\n",
    "    # Select crossover point\n",
    "    point = random.randint(0, len(region1) - 1)\n",
    "    print(f\"crossover point: {point}\")\n",
    "    print(f\"crossover point for trees: {region1[point]}, {region2[point]}\")\n",
    "\n",
    "    # Swap subtrees\n",
    "    if (len(region1) > 0):\n",
    "        slice1 = ind1.searchSubtree(region1[point][1])\n",
    "        slice2 = ind2.searchSubtree(region2[point][1])\n",
    "        ind1[slice1], ind2[slice2] = ind2[slice2], ind1[slice1]\n",
    "\n",
    "    # Select the one has higher fitness value\n",
    "    ### TODO ###\n",
    "\n",
    "    return ind1, ind2"
   ]
  },
  {
   "cell_type": "markdown",
   "metadata": {},
   "source": [
    "### Main"
   ]
  },
  {
   "cell_type": "code",
   "execution_count": 52,
   "metadata": {},
   "outputs": [
    {
     "name": "stdout",
     "output_type": "stream",
     "text": [
      "Parent 1: mul(mul(protected_div(x, sub(x, x)), sub(0, x)), sub(protected_div(x, x), sub(x, 1)))\n",
      "Parent 2: protected_div(mul(x, x), mul(mul(1, 1), sub(1, 1)))\n"
     ]
    }
   ],
   "source": [
    "# Define the example trees (Parents)\n",
    "# pare_str = \"mul(mul(protected_div(x, x), pow(x)), sub(protected_div(x, x), x))\"\n",
    "# ind1_str = \"mul(mul(x, pow(x)), sub(protected_div(x, x), x))\"\n",
    "# ind2_str = \"protected_div(mul(pow(x), sub(x, -1)), mul(mul(1, 1), sub(1, 1)))\"\n",
    "ind1_str = \"mul(mul(protected_div(x, sub(x, x)), sub(0, x)), sub(protected_div(x, x), sub(x, 1)))\"\n",
    "ind2_str = \"protected_div(mul(x, x), mul(mul(1, 1), sub(1, 1)))\"\n",
    "\n",
    "ind1 = gp.PrimitiveTree.from_string(ind1_str, pset)\n",
    "ind2 = gp.PrimitiveTree.from_string(ind2_str, pset)\n",
    "\n",
    "print(\"Parent 1:\", ind1)\n",
    "print(\"Parent 2:\", ind2)"
   ]
  },
  {
   "cell_type": "code",
   "execution_count": 53,
   "metadata": {},
   "outputs": [
    {
     "name": "stdout",
     "output_type": "stream",
     "text": [
      "0: mul\n",
      "1: mul\n",
      "10: sub\n",
      "11: protected_div\n",
      "12: ARG0\n",
      "13: ARG0\n",
      "14: sub\n",
      "15: ARG0\n",
      "16: 1\n",
      "crossover point: 4\n",
      "crossover point for trees: [<deap.gp.Terminal object at 0x7f9cbb754e40>, 12], [<deap.gp.Terminal object at 0x7f9cb986c700>, 6]\n"
     ]
    }
   ],
   "source": [
    "ind1, ind2 = cxOnePoint(ind1, ind2)"
   ]
  },
  {
   "cell_type": "code",
   "execution_count": 54,
   "metadata": {},
   "outputs": [
    {
     "data": {
      "text/plain": [
       "('mul(mul(protected_div(x, sub(x, x)), sub(0, x)), sub(protected_div(1, x), sub(x, 1)))',\n",
       " 'protected_div(mul(x, x), mul(mul(x, 1), sub(1, 1)))')"
      ]
     },
     "execution_count": 54,
     "metadata": {},
     "output_type": "execute_result"
    }
   ],
   "source": [
    "ind1.__str__(), ind2.__str__()"
   ]
  }
 ],
 "metadata": {
  "kernelspec": {
   "display_name": "Python 3",
   "language": "python",
   "name": "python3"
  },
  "language_info": {
   "codemirror_mode": {
    "name": "ipython",
    "version": 3
   },
   "file_extension": ".py",
   "mimetype": "text/x-python",
   "name": "python",
   "nbconvert_exporter": "python",
   "pygments_lexer": "ipython3",
   "version": "3.12.2"
  }
 },
 "nbformat": 4,
 "nbformat_minor": 2
}
