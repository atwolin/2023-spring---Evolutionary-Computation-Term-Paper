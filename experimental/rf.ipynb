{
 "cells": [
  {
   "cell_type": "code",
   "execution_count": 52,
   "metadata": {},
   "outputs": [],
   "source": [
    "import random\n",
    "import operator\n",
    "import copy\n",
    "import pprint\n",
    "import numpy as np\n",
    "import pandas as pd\n",
    "# import gp\n",
    "from sklearn.metrics.pairwise import cosine_similarity\n",
    "from sklearn.model_selection import KFold\n",
    "import deap.gp as gp\n",
    "from deap import creator, base, tools, algorithms\n",
    "from deap.gp import cxOnePoint as cx_simple\n",
    "from deap.gp import PrimitiveSet\n",
    "from data import get_embeddings"
   ]
  },
  {
   "cell_type": "markdown",
   "metadata": {},
   "source": [
    "#### Set parameters"
   ]
  },
  {
   "cell_type": "code",
   "execution_count": 53,
   "metadata": {},
   "outputs": [],
   "source": [
    "WORD2VEC = \"word2vec\"\n",
    "GLOVE = \"glove\"\n",
    "FASTTEXT = \"fasttext\"\n",
    "CX_RANDOM = 0\n",
    "CX_SIMPLE = 1\n",
    "CX_UNIFORM = 2\n",
    "CX_FAIR = 3\n",
    "CX_ONEPOINT = 4"
   ]
  },
  {
   "cell_type": "markdown",
   "metadata": {},
   "source": [
    "#### Fuctions"
   ]
  },
  {
   "cell_type": "code",
   "execution_count": 54,
   "metadata": {},
   "outputs": [],
   "source": [
    "# Arithmetic operators\n",
    "def protected_div(x, y):\n",
    "    mask = y == 0\n",
    "    safe_y = np.where(mask, 1, y)\n",
    "    return np.where(mask, 1, x / safe_y)\n",
    "\n",
    "\n",
    "def protected_sqrt(x):\n",
    "    sign = np.sign(x)\n",
    "    x = np.abs(x)\n",
    "    return np.sqrt(x) * sign"
   ]
  },
  {
   "cell_type": "code",
   "execution_count": 55,
   "metadata": {},
   "outputs": [],
   "source": [
    "# Crossover method\n",
    "def subtree_height(tree, index):\n",
    "        \"\"\"\n",
    "        Calculate the height of the subtree starting at the given index.\n",
    "        \"\"\"\n",
    "        def height(node_index):\n",
    "            node = tree[node_index]\n",
    "            if node.arity == 0:  # Leaf node\n",
    "                return 1\n",
    "            else:\n",
    "                return 1 + max(\n",
    "                    height(child_index)\n",
    "                    for child_index in range(\n",
    "                        node_index + 1, node_index + 1 + node.arity\n",
    "                    )\n",
    "                )\n",
    "\n",
    "        return height(index)\n",
    "\n",
    "def searchSubtree_idx(tree, begin):\n",
    "        end = begin + 1\n",
    "        total = tree[begin].arity\n",
    "        while total > 0:\n",
    "            total += tree[end].arity - 1\n",
    "            end += 1\n",
    "        return begin, end\n",
    "\n",
    "def cx_uniform(ind1, ind2):\n",
    "        # No crossover on single node tree\n",
    "        if (len(ind1) < 2 or len(ind2) < 2):\n",
    "            return ind1, ind2\n",
    "\n",
    "        child = type(ind1)([])\n",
    "        parents = [ind1, ind2]\n",
    "        flag0, flag1 = 0, 0\n",
    "        left_0 = parents[0].searchSubtree(1)\n",
    "        left_1 = parents[1].searchSubtree(1)\n",
    "        b0, e0 = searchSubtree_idx(parents[0], 1)\n",
    "        b1, e1 = searchSubtree_idx(parents[1], 1)\n",
    "\n",
    "        if e0 + 1 < len(parents[0]):\n",
    "            right_0 = parents[0].searchSubtree(e0 + 1)\n",
    "            flag0 = 1\n",
    "        if e1 + 1 < len(parents[1]):\n",
    "            right_1 = parents[1].searchSubtree(e1 + 1)\n",
    "            flag1 = 1\n",
    "        left = [left_0, left_1]\n",
    "        if flag0 == 1 and flag1 == 1:\n",
    "            right = [right_0, right_1]\n",
    "            r_arity = 0\n",
    "            if parents[0][e0 + 1].arity == parents[1][e1 + 1].arity:\n",
    "                r_arity = 1\n",
    "        r = random.randint(0, 1)  # root\n",
    "        m = 1 - r\n",
    "        if len(parents[r]) < len(parents[m]):\n",
    "            # root = parents[r].root\n",
    "            if flag1 == 0 or flag0 == 0:\n",
    "                return parents[r], parents[m]\n",
    "            parents[m][0] = parents[r].root\n",
    "            m = r\n",
    "        if flag0 == 1 and flag1 == 1:\n",
    "            r1 = random.randint(0, 1)  # 左邊\n",
    "            if parents[r][1] == parents[r1][1]:\n",
    "                parents[r][left[r]] = parents[r1][left[r1]]\n",
    "            if r_arity == 1:\n",
    "                r2 = random.randint(0, 1)\n",
    "                parents[r][right[r]] = parents[r2][right[r2]]\n",
    "        else:\n",
    "            # print(\"只有一個子點\")\n",
    "            r1 = random.randint(0, 1)\n",
    "            parents[r][left[r1]] = parents[r1][left[r1]]\n",
    "        return parents[r], parents[r]\n",
    "\n",
    "def cx_fair(ind1, ind2):\n",
    "    \"\"\"Size fair crossover for two trees.\n",
    "    :param ind1: First tree participating in the crossover.\n",
    "    :param ind2: Second tree participating in the crossover.\n",
    "    :returns: A tuple of two trees.\n",
    "    \"\"\"\n",
    "    # No crossover on single node tree\n",
    "    if len(ind1) < 2 or len(ind2) < 2:\n",
    "        return ind1, ind2\n",
    "\n",
    "    # List all available primitive types in each individual\n",
    "    types1 = gp.defaultdict(list)\n",
    "    types2 = gp.defaultdict(list)\n",
    "    if ind1.root.ret == gp.__type__:\n",
    "        # Not STGP optimization\n",
    "        types1[gp.__type__] = list(range(1, len(ind1)))\n",
    "        types2[gp.__type__] = list(range(1, len(ind2)))\n",
    "        common_types = [gp.__type__]\n",
    "    else:\n",
    "        for idx, node in enumerate(ind1[1:], 1):\n",
    "            types1[node.ret].append(idx)\n",
    "        for idx, node in enumerate(ind2[1:], 1):\n",
    "            types2[node.ret].append(idx)\n",
    "        common_types = set(types1.keys()).intersection(set(types2.keys()))\n",
    "\n",
    "    if len(common_types) > 0:\n",
    "        type_ = random.choice(list(common_types))\n",
    "\n",
    "    index1 = random.choice(types1[type_])\n",
    "    height1 = subtree_height(ind1, index1)\n",
    "    # height = ind1.height\n",
    "\n",
    "    while True:\n",
    "        index2 = random.choice(types2[type_])\n",
    "        height2 = subtree_height(ind2, index2)\n",
    "        if height2 <= height1:\n",
    "            # print(f\"height1: {height1}, height2: {height2}\")\n",
    "            break\n",
    "    slice1 = ind1.searchSubtree(index1)\n",
    "    slice2 = ind2.searchSubtree(index2)\n",
    "    ind1[slice1], ind2[slice2] = ind2[slice2], ind1[slice1]\n",
    "    return ind1, ind2\n",
    "\n",
    "def traverse_tree(stack, res, parent, idx):\n",
    "    while res != 0:\n",
    "        res -= 1\n",
    "        idx += 1\n",
    "        stack.append((parent[idx], [], idx))\n",
    "        res += parent[idx].arity\n",
    "    # print(f\"stack: {stack}\")\n",
    "    return stack, res, idx\n",
    "\n",
    "def cx_one_point(ind1, ind2):\n",
    "    idx1 = 0\n",
    "    idx2 = 0\n",
    "    # To track the trees\n",
    "    stack1 = []\n",
    "    stack2 = []\n",
    "    # Store the common region\n",
    "    region1 = []\n",
    "    region2 = []\n",
    "\n",
    "    # Start traversing the trees\n",
    "    while idx1 < len(ind1) and idx2 < len(ind2):\n",
    "        # Push the nodes to the stack\n",
    "        stack1.append((ind1[idx1], [], idx1))\n",
    "        stack2.append((ind2[idx2], [], idx2))\n",
    "\n",
    "        # Not the same region\n",
    "        if stack1[-1][0].arity != stack2[-1][0].arity:\n",
    "            res1 = stack1[-1][0].arity\n",
    "            res2 = stack2[-1][0].arity\n",
    "            stack1, res1, idx1 = traverse_tree(stack1, res1, ind1, idx1)\n",
    "            stack2, res2, idx2 = traverse_tree(stack2, res2, ind2, idx2)\n",
    "        else:\n",
    "            region1.append([ind1[idx1], idx1])\n",
    "            region2.append([ind2[idx2], idx2])\n",
    "\n",
    "        idx1 += 1\n",
    "        idx2 += 1\n",
    "\n",
    "    # for pri, idx in region1:\n",
    "    #     print(f\"{idx}: {pri.name}\")\n",
    "\n",
    "    # Select crossover point\n",
    "    if len(region1) > 0:\n",
    "        point = random.randint(0, len(region1) - 1)\n",
    "        # print(f\"crossover point: {point}\")\n",
    "        # print(f\"crossover point for trees: {region1[point]}, {region2[point]}\")\n",
    "\n",
    "    # Swap subtrees\n",
    "    if len(region1) > 0:\n",
    "        slice1 = ind1.searchSubtree(region1[point][1])\n",
    "        slice2 = ind2.searchSubtree(region2[point][1])\n",
    "        ind1[slice1], ind2[slice2] = ind2[slice2], ind1[slice1]\n",
    "\n",
    "    return ind1, ind2"
   ]
  },
  {
   "cell_type": "code",
   "execution_count": 82,
   "metadata": {},
   "outputs": [],
   "source": [
    "class GP():\n",
    "    def __init__(self, embeddings, dimension, population_size, crossover_method, cross_prob, mut_prob, num_generations, dataset):\n",
    "        self.embeddings = embeddings\n",
    "        self.dim = dimension\n",
    "        self.pop_size = population_size\n",
    "        self.pop = None\n",
    "        self.cx_method = crossover_method\n",
    "        self.cx_pb = cross_prob\n",
    "        self.mut_pb = mut_prob\n",
    "        self.num_gen = 0\n",
    "        self.inputword = dataset[0].str.split().apply(lambda x: x[:5])\n",
    "        self.realword = dataset[0].str.split().str.get(5)\n",
    "        self.eval_count = 0\n",
    "\n",
    "    def register(self):\n",
    "        # Function set\n",
    "        self.pset = gp.PrimitiveSet(\"MAIN\", 5)\n",
    "        self.pset.addPrimitive(np.add, 2)\n",
    "        self.pset.addPrimitive(np.subtract, 2)\n",
    "        self.pset.addPrimitive(np.multiply, 2)\n",
    "        self.pset.addPrimitive(protected_div, 2)\n",
    "        self.pset.addPrimitive(protected_sqrt, 1)\n",
    "        self.pset.addPrimitive(np.square, 1)\n",
    "        # Terminal set\n",
    "        count = 0\n",
    "        self.pset.renameArguments(ARG0=\"a\", ARG1=\"b\", ARG2=\"c\", ARG3=\"d\", ARG4=\"e\")\n",
    "        # for line in self.inputword:\n",
    "            # for word in line:\n",
    "                # if count < 5:\n",
    "                    # print(f\"conut: {count}\")\n",
    "                    # print(f\"embedding: {embeddings[word]}, {type(embeddings[word])}\")\n",
    "                    # count += 1\n",
    "                # self.pset.addTerminal(word)\n",
    "\n",
    "        # Initialize the individual\n",
    "        if \"Individual\" not in creator.__dict__:\n",
    "            creator.create(\"FitnessMax\", base.Fitness, weights=(1,))\n",
    "            creator.create(\n",
    "                \"Individual\", gp.PrimitiveTree, fitness=creator.FitnessMax, pset=self.pset\n",
    "            )\n",
    "\n",
    "        # Initialize the toolbox\n",
    "        self.toolbox = base.Toolbox()\n",
    "        self.toolbox.register(\"expr\", gp.genHalfAndHalf, pset=self.pset, min_=1, max_=5)\n",
    "        self.toolbox.register(\n",
    "            \"individual\", tools.initIterate, creator.Individual, self.toolbox.expr\n",
    "        )\n",
    "        self.toolbox.register(\n",
    "            \"population\",\n",
    "            tools.initRepeat,\n",
    "            list,\n",
    "            self.toolbox.individual,\n",
    "            n=self.pop_size,\n",
    "        )\n",
    "\n",
    "        # Register the operators\n",
    "        # self.toolbox.register(\"select_candidate\", tools.selRandom, tournsize=3)\n",
    "        self.toolbox.register(\"crossover\", self.crossover)\n",
    "        self.toolbox.register(\n",
    "            \"mutate\", gp.mutUniform, expr=self.toolbox.expr, pset=self.pset\n",
    "        )\n",
    "        self.toolbox.decorate(\n",
    "            \"mutate\", gp.staticLimit(operator.attrgetter(\"height\"), max_value=5)\n",
    "        )\n",
    "        self.toolbox.register(\"evaluate\", self.evaluate)\n",
    "\n",
    "        # Register the record for analyzing\n",
    "        self.stats = tools.Statistics(key=lambda ind: ind.fitness.values)\n",
    "        self.stats.register(\"avg\", np.mean)\n",
    "        self.stats.register(\"std\", np.std)\n",
    "        self.stats.register(\"min\", np.min)\n",
    "        self.stats.register(\"max\", np.max)\n",
    "        self.hof = tools.HallOfFame(10)  # hall of fame size\n",
    "\n",
    "    def clean_data(self, data):\n",
    "        data = np.where(np.isinf(data), np.finfo(np.float32).max, data)\n",
    "        data = np.nan_to_num(data, nan=0.0)\n",
    "        return data\n",
    "\n",
    "    def evaluate(self, individual, input_word):\n",
    "        \"\"\"Evalute the fitness of an individual\"\"\"\n",
    "        # print(f\"individual種類:{type(individual)}\")\n",
    "        func = gp.compile(individual, self.pset)\n",
    "        total_similarity = 0.0\n",
    "        for data_index in range(len(input_word)):\n",
    "            words = self.inputword.iloc[data_index]\n",
    "            in_vectors = [self.embeddings[word] for word in words]\n",
    "            a, b, c, d, e = in_vectors[:5]\n",
    "\n",
    "            y = self.realword.iloc[data_index]\n",
    "            out_vector = self.embeddings[y]\n",
    "\n",
    "            predict = self.clean_data(func(a, b, c, d, e))\n",
    "            similarity = cosine_similarity([predict], [out_vector])[0][0]\n",
    "            total_similarity += similarity\n",
    "\n",
    "        fitness = total_similarity / len(self.inputword)\n",
    "        ftiness = self.clean_data(fitness)\n",
    "        self.eval_count += 1\n",
    "        return (fitness,)\n",
    "\n",
    "    def crossover(self, ind1, ind2):\n",
    "        parents = [ind1, ind2]\n",
    "        if random.uniform(0, 1) < self.cx_pb:\n",
    "            choice = -1\n",
    "            if self.cx_method == CX_RANDOM:\n",
    "                choice = random.randint(1, 4)\n",
    "                print(f\"choice: {choice}\")\n",
    "            if choice == CX_SIMPLE or self.cx_method == CX_SIMPLE:\n",
    "                ind1, ind2 = cx_simple(ind1, ind2)\n",
    "            elif choice == CX_UNIFORM or self.cx_method == CX_UNIFORM:\n",
    "                ind1, ind2 = cx_uniform(ind1, ind2)\n",
    "            elif choice == CX_ONEPOINT or self.cx_method == CX_FAIR:\n",
    "                ind1, ind2 = cx_fair(ind1, ind2)\n",
    "            else:  # self.cx_method == 4:\n",
    "                ind1, ind2 = cx_one_point(ind1, ind2)\n",
    "        # return ind1, ind2\n",
    "\n",
    "        fitness_ind1 = self.toolbox.evaluate(ind1, self.realword)\n",
    "        # ?:\n",
    "        # if self.cx_method == 2:\n",
    "        #     parents.remove(b)\n",
    "        #     return parents\n",
    "        fitness_ind2 = self.toolbox.evaluate(ind2, self.realword)\n",
    "        if fitness_ind1 <= fitness_ind2:\n",
    "            parents.remove(ind1)\n",
    "            return parents\n",
    "        else:\n",
    "            parents.remove(ind2)\n",
    "            return parents\n",
    "\n",
    "    def mutate(self, offspring):\n",
    "        if random.uniform(0, 1) < self.mut_pb:\n",
    "            self.toolbox.mutate(offspring[0])\n",
    "            offspring[0].fitness.values = self.toolbox.evaluate(offspring[0], self.realword)\n",
    "        return offspring"
   ]
  },
  {
   "cell_type": "markdown",
   "metadata": {},
   "source": [
    "## Evolutionary Forest"
   ]
  },
  {
   "cell_type": "markdown",
   "metadata": {},
   "source": [
    "### Setup"
   ]
  },
  {
   "cell_type": "code",
   "execution_count": 113,
   "metadata": {},
   "outputs": [],
   "source": [
    "population_size = s = 5\n",
    "m = 500\n",
    "dim = 10\n",
    "crossover_method = CX_SIMPLE\n",
    "cross_prob = 0.5\n",
    "mut_prob = 0.1\n",
    "num_generations = 100\n",
    "num_evaluations = 1000\n",
    "embedding = WORD2VEC\n",
    "\n",
    "# Number of archive (forest size)\n",
    "num_archive = 200\n",
    "\n",
    "# Record all individuals\n",
    "population_history = []\n"
   ]
  },
  {
   "cell_type": "code",
   "execution_count": null,
   "metadata": {},
   "outputs": [],
   "source": [
    "dataset, embeddings, word2vec_model = get_embeddings(WORD2VEC, 10, 1)\n"
   ]
  },
  {
   "cell_type": "markdown",
   "metadata": {},
   "source": [
    "### Functions"
   ]
  },
  {
   "cell_type": "code",
   "execution_count": 58,
   "metadata": {},
   "outputs": [],
   "source": [
    "def add_trees_to_history(individual, history):\n",
    "    \"\"\"Add the individual to the history\"\"\"\n",
    "    history.extend(tree for tree in individual.pop)\n",
    "    return history"
   ]
  },
  {
   "cell_type": "code",
   "execution_count": 109,
   "metadata": {},
   "outputs": [],
   "source": [
    "# Initialize the population and record trees for each individuals\n",
    "\n",
    "if len(population) % s == 0:\n",
    "    seb_population = len(population) // s\n",
    "elif len(population) % s == 1:\n",
    "    seb_population = len(population) // s + 1\n",
    "...\n",
    "\n",
    "\n",
    "def initialize_population(s, m):\n",
    "    \"\"\"Initialize the population\"\"\"\n",
    "    population = []\n",
    "    for i in range(s):\n",
    "        sub_dataset = dataset.sample(int(len(dataset) / (s / 2)))\n",
    "        # Set up GP tree\n",
    "        trees = GP(embeddings, dim, population_size, crossover_method, cross_prob, mut_prob, num_generations, sub_dataset)\n",
    "        trees.register()\n",
    "        trees.pop = trees.toolbox.population(n=m)\n",
    "        # Evaluate the entire population\n",
    "        fitnesses = map(trees.toolbox.evaluate, trees.pop, trees.inputword)\n",
    "        for ind, fit in zip(trees.pop, fitnesses):\n",
    "            ind.fitness.values = fit\n",
    "        population.append(trees)\n",
    "        # add_trees_to_history(population[i], population_history)\n",
    "    return population\n"
   ]
  },
  {
   "cell_type": "code",
   "execution_count": 60,
   "metadata": {},
   "outputs": [
    {
     "data": {
      "text/plain": [
       "'# Initialize the population and record trees for each individuals\\ndef initialize_population(s, m):\\n    \"\"\"Initialize the population\"\"\"\\n    population = []\\n    for i in range(s):\\n        # Set up GP tree\\n        trees = GP(embeddings, dim, population_size, crossover_method, cross_prob, mut_prob, num_generations, dataset)\\n        trees.register()\\n        trees.pop = trees.toolbox.population(n=m)\\n        # Evaluate the entire population\\n        fitnesses = map(trees.toolbox.evaluate, trees.pop, trees.inputword)\\n        for ind, fit in zip(trees.pop, fitnesses):\\n            ind.fitness.values = fit\\n        population.append(trees)\\n        # add_trees_to_history(population[i], population_history)\\n    return population'"
      ]
     },
     "execution_count": 60,
     "metadata": {},
     "output_type": "execute_result"
    }
   ],
   "source": [
    "'''# Initialize the population and record trees for each individuals\n",
    "def initialize_population(s, m):\n",
    "    \"\"\"Initialize the population\"\"\"\n",
    "    population = []\n",
    "    for i in range(s):\n",
    "        # Set up GP tree\n",
    "        trees = GP(embeddings, dim, population_size, crossover_method, cross_prob, mut_prob, num_generations, dataset)\n",
    "        trees.register()\n",
    "        trees.pop = trees.toolbox.population(n=m)\n",
    "        # Evaluate the entire population\n",
    "        fitnesses = map(trees.toolbox.evaluate, trees.pop, trees.inputword)\n",
    "        for ind, fit in zip(trees.pop, fitnesses):\n",
    "            ind.fitness.values = fit\n",
    "        population.append(trees)\n",
    "        # add_trees_to_history(population[i], population_history)\n",
    "    return population'''"
   ]
  },
  {
   "cell_type": "code",
   "execution_count": 76,
   "metadata": {},
   "outputs": [],
   "source": [
    "def select_p(individual):\n",
    "    \"\"\"Select the parent\"\"\"\n",
    "    # Parent selection\n",
    "    candidates = tools.selRandom(individual.pop, 3)\n",
    "    sorted_candidates = sorted(candidates, key=lambda x: x.fitness.values)  # Small to large\n",
    "    # print(f\"sorted_candidates: {[ind.fitness.values for ind in sorted_candidates]}\")\n",
    "\n",
    "    return sorted_candidates"
   ]
  },
  {
   "cell_type": "code",
   "execution_count": 77,
   "metadata": {},
   "outputs": [],
   "source": [
    "def crossover_for_one_ind(individual, candidates, population_history):\n",
    "    parent1, parent2 = copy.deepcopy(candidates[0]), copy.deepcopy(candidates[1])\n",
    "    offspring = individual.toolbox.crossover(parent1, parent2)\n",
    "\n",
    "\n",
    "    # End if the offspring is not repeated\n",
    "    # is_new_ind = False\n",
    "    # while (not is_new_ind):\n",
    "    #     offspring = individual.toolbox.crossover(parent1, parent2)\n",
    "    #     # print(f\"offspring: {offspring[0]}\")\n",
    "    #     if not (offspring[0] in population_history):\n",
    "    #         is_new_ind = True\n",
    "    # population_history.append(offspring[0])\n",
    "    return offspring"
   ]
  },
  {
   "cell_type": "code",
   "execution_count": 78,
   "metadata": {},
   "outputs": [],
   "source": [
    "def mutate_for_one_ind(offspring, individual, population_history):\n",
    "    # print(f\"offspring[0] in mutation: {offspring[0]}\")\n",
    "    offspring = individual.toolbox.mutate(offspring[0])\n",
    "\n",
    "    # End if the offspring is not repeated\n",
    "    # is_new_ind = False\n",
    "    # while (not is_new_ind):\n",
    "    #     offspring = individual.toolbox.mutate(offspring[0])\n",
    "    #     if not (offspring[0] in population_history):\n",
    "    #         is_new_ind = True\n",
    "    # population_history.append(offspring[0])\n",
    "    return offspring"
   ]
  },
  {
   "cell_type": "code",
   "execution_count": 79,
   "metadata": {},
   "outputs": [],
   "source": [
    "def select_s(individual, sorted_candidates, offspring):\n",
    "    # Evaluate new fitness value\n",
    "    offspring[0].fitness.values = individual.toolbox.evaluate(offspring[0], individual.inputword)\n",
    "\n",
    "    if offspring[0].fitness.values > sorted_candidates[2].fitness.values:\n",
    "        idx = individual.pop.index(sorted_candidates[2])\n",
    "        individual.pop[idx] = offspring[0]"
   ]
  },
  {
   "cell_type": "code",
   "execution_count": 65,
   "metadata": {},
   "outputs": [
    {
     "data": {
      "text/plain": [
       "'def validate(individual):\\n\\n    # Concatenate these five loss values into a fitness vector\\n    cur_fitness = []\\n    for ind in individual.pop:\\n        cur_fitness.append(ind.fitness.values[0])\\n        # print(ind.fitness.values)\\n    return cur_fitness'"
      ]
     },
     "execution_count": 65,
     "metadata": {},
     "output_type": "execute_result"
    }
   ],
   "source": [
    "'''def validate(individual):\n",
    "\n",
    "    # Concatenate these five loss values into a fitness vector\n",
    "    cur_fitness = []\n",
    "    for ind in individual.pop:\n",
    "        cur_fitness.append(ind.fitness.values[0])\n",
    "        # print(ind.fitness.values)\n",
    "    return cur_fitness'''"
   ]
  },
  {
   "cell_type": "code",
   "execution_count": 111,
   "metadata": {},
   "outputs": [],
   "source": [
    "\n",
    "# Evolute groups of population\n",
    "def evolve_group(population):\n",
    "    print(f\"Start evolve groups\")\n",
    "\n",
    "    for i in range(s):\n",
    "        while population[i].num_gen < num_generations:\n",
    "            if population[i].num_gen % 20 == 0:\n",
    "                print(f\"population[{i}].num_gen: {population[i].num_gen}\")\n",
    "            # Parent selection\n",
    "            candidates = select_p(population[i])\n",
    "            # Crossover the two trees\n",
    "            # print(f\"Start crossover\")\n",
    "            offspring = crossover_for_one_ind(population[i], candidates, population_history)\n",
    "            # print(f\"offspring after crossover: {offspring[0]}\")\n",
    "\n",
    "            # Mutation\n",
    "            # print(f\"Start mutation\")\n",
    "            offspring = mutate_for_one_ind(offspring, population[i], population_history)\n",
    "            # print(f\"offspring after mutation: {offspring[0]}\")\n",
    "\n",
    "            # Survivor selection\n",
    "            select_s(population[i], candidates, offspring)\n",
    "            # print(f\"Finish survivor selection\")\n",
    "\n",
    "            if population[i].eval_count % 50 == 0:\n",
    "                print(f\"population[{i}].eval_count: {population[i].eval_count}\")\n",
    "                record = population[i].stats.compile(population[i].pop)\n",
    "                population[i].hof.update(population[i].pop)\n",
    "                print(f\"record: {record}\")\n",
    "            population[i].num_gen += 1\n",
    "\n",
    "    return population\n"
   ]
  },
  {
   "cell_type": "code",
   "execution_count": 67,
   "metadata": {},
   "outputs": [
    {
     "data": {
      "text/plain": [
       "'# Fivefold cross-validation\\ndef cross_validation(population, dataset):\\n    print(f\"Start cross-validation\")\\n    fold_size = 5\\n    kf = KFold(n_splits=fold_size, shuffle=True)\\n\\n    # Fitness vector\\n    fit_vec = np.zeros((s, fold_size))\\n    theta_j = 0\\n    count = 0\\n\\n    for train_index, valid_index in kf.split(dataset):\\n        print(f\"Fold: {count}, TRAIN: {len(train_index)}, TEST: {len(valid_index)}\")\\n        train, valid = dataset.iloc[train_index], dataset.iloc[valid_index]\\n        # For four folds: train the DT model\\n        for i in range(s):\\n            # print(f\"=== Individual {i} is training ===\")\\n            population[i].inputword = train[0].str.split().apply(lambda x: x[:5])\\n            population[i].realword = train[0].str.split().str.get(5)\\n\\n            while population[i].eval_count < num_evaluations:\\n                # Parent selection\\n                candidates = select_p(population[i])\\n                # Crossover the two trees\\n                # print(f\"Start crossover\")\\n                offspring = crossover_for_one_ind(population[i], candidates, population_history)\\n                # print(f\"offspring after crossover: {offspring[0]}\")\\n\\n                # Mutation\\n                # print(f\"Start mutation\")\\n                offspring = mutate_for_one_ind(offspring, population[i], population_history)\\n                # print(f\"offspring after mutation: {offspring[0]}\")\\n\\n                # Survivor selection\\n                select_s(population[i], candidates, offspring)\\n                # print(f\"Finish survivor selection\")\\n\\n                if population[i].eval_count % 20 == 0:\\n                    print(f\"population[{i}].eval_count: {population[i].eval_count}\")\\n                    record = population[i].stats.compile(population[i].pop)\\n                    population[i].hof.update(population[i].pop)\\n                    print(f\"record: {record}\")\\n\\n        # For the remaining fold: validate the model\\n            population[i].inputword = valid[0].str.split().apply(lambda x: x[:5])\\n            population[i].realword = valid[0].str.split().str.get(5)\\n\\n            # Concatenate these five loss values into a fitness vector\\n            fitnesses = map(population[0].toolbox.evaluate, population[0].pop, population[0].inputword)\\n            for ind, fit in zip(population[0].pop, fitnesses):\\n                ind.fitness.values = fit\\n            cur_fitness = validate(population[i])\\n            fit_vec[count] = np.array(cur_fitness)\\n        count += 1\\n    return fit_vec\\n'"
      ]
     },
     "execution_count": 67,
     "metadata": {},
     "output_type": "execute_result"
    }
   ],
   "source": [
    "'''# Fivefold cross-validation\n",
    "def cross_validation(population, dataset):\n",
    "    print(f\"Start cross-validation\")\n",
    "    fold_size = 5\n",
    "    kf = KFold(n_splits=fold_size, shuffle=True)\n",
    "\n",
    "    # Fitness vector\n",
    "    fit_vec = np.zeros((s, fold_size))\n",
    "    theta_j = 0\n",
    "    count = 0\n",
    "\n",
    "    for train_index, valid_index in kf.split(dataset):\n",
    "        print(f\"Fold: {count}, TRAIN: {len(train_index)}, TEST: {len(valid_index)}\")\n",
    "        train, valid = dataset.iloc[train_index], dataset.iloc[valid_index]\n",
    "        # For four folds: train the DT model\n",
    "        for i in range(s):\n",
    "            # print(f\"=== Individual {i} is training ===\")\n",
    "            population[i].inputword = train[0].str.split().apply(lambda x: x[:5])\n",
    "            population[i].realword = train[0].str.split().str.get(5)\n",
    "\n",
    "            while population[i].eval_count < num_evaluations:\n",
    "                # Parent selection\n",
    "                candidates = select_p(population[i])\n",
    "                # Crossover the two trees\n",
    "                # print(f\"Start crossover\")\n",
    "                offspring = crossover_for_one_ind(population[i], candidates, population_history)\n",
    "                # print(f\"offspring after crossover: {offspring[0]}\")\n",
    "\n",
    "                # Mutation\n",
    "                # print(f\"Start mutation\")\n",
    "                offspring = mutate_for_one_ind(offspring, population[i], population_history)\n",
    "                # print(f\"offspring after mutation: {offspring[0]}\")\n",
    "\n",
    "                # Survivor selection\n",
    "                select_s(population[i], candidates, offspring)\n",
    "                # print(f\"Finish survivor selection\")\n",
    "\n",
    "                if population[i].eval_count % 20 == 0:\n",
    "                    print(f\"population[{i}].eval_count: {population[i].eval_count}\")\n",
    "                    record = population[i].stats.compile(population[i].pop)\n",
    "                    population[i].hof.update(population[i].pop)\n",
    "                    print(f\"record: {record}\")\n",
    "\n",
    "        # For the remaining fold: validate the model\n",
    "            population[i].inputword = valid[0].str.split().apply(lambda x: x[:5])\n",
    "            population[i].realword = valid[0].str.split().str.get(5)\n",
    "\n",
    "            # Concatenate these five loss values into a fitness vector\n",
    "            fitnesses = map(population[0].toolbox.evaluate, population[0].pop, population[0].inputword)\n",
    "            for ind, fit in zip(population[0].pop, fitnesses):\n",
    "                ind.fitness.values = fit\n",
    "            cur_fitness = validate(population[i])\n",
    "            fit_vec[count] = np.array(cur_fitness)\n",
    "        count += 1\n",
    "    return fit_vec\n",
    "'''"
   ]
  },
  {
   "cell_type": "code",
   "execution_count": 68,
   "metadata": {},
   "outputs": [
    {
     "data": {
      "text/plain": [
       "'def compute_threshold(fit_vec):\\n    print(f\"Number of computing individuals: {len(fit_vec)}\")\\n    j = np.random.randint(0, m)  # Randomly choose an index j\\n    # Threshold theta = min(L_i[j]) + median(abs(L_i[j] + median(L_k[j]))\\n    # Calculate the median absolute deviation (MAD)\\n    fitness_j = [ind[j] for ind in fit_vec]\\n    median_j = np.median(fitness_j)\\n    mad_j = np.median([abs(f - median_j) for f in fitness_j])\\n    theta_j = np.min(fitness_j) + mad_j  # Calculate the threshold theta\\n\\n    return j, theta_j'"
      ]
     },
     "execution_count": 68,
     "metadata": {},
     "output_type": "execute_result"
    }
   ],
   "source": [
    "'''def compute_threshold(fit_vec):\n",
    "    print(f\"Number of computing individuals: {len(fit_vec)}\")\n",
    "    j = np.random.randint(0, m)  # Randomly choose an index j\n",
    "    # Threshold theta = min(L_i[j]) + median(abs(L_i[j] + median(L_k[j]))\n",
    "    # Calculate the median absolute deviation (MAD)\n",
    "    fitness_j = [ind[j] for ind in fit_vec]\n",
    "    median_j = np.median(fitness_j)\n",
    "    mad_j = np.median([abs(f - median_j) for f in fitness_j])\n",
    "    theta_j = np.min(fitness_j) + mad_j  # Calculate the threshold theta\n",
    "\n",
    "    return j, theta_j'''"
   ]
  },
  {
   "cell_type": "code",
   "execution_count": 69,
   "metadata": {},
   "outputs": [
    {
     "data": {
      "text/plain": [
       "'# Select the best individual: Automatic lexicase selection\\ndef lexicase_selection(fit_vec, s, m):\\n    indices = np.arange(len(fit_vec))\\n    select_ind = None\\n\\n    find_best_individual_count = 0\\n    while (len(indices) > 1):\\n        print(f\"find_best_individual_count: {find_best_individual_count}\")\\n        # print(f\"indices: {len(indices)}, {indices}\")\\n        j, theta_j = compute_threshold(fit_vec[indices])\\n\\n        # For each individual\\n        for i in range(len(indices)):\\n            # j-th fitness element > theta\\n            # print(f\"fit_vec[{i}][{j}]: {fit_vec[i][j]}, theta_j: {theta_j}\")\\n            if fit_vec[i][j] > theta_j:\\n                # preserve the individual\\n                pass\\n            else:\\n                indices = np.delete(indices, np.where(indices == i))\\n            # print(f\"{i}: indices: {len(indices)}, {indices}\")\\n\\n            # Case 1: > 1, then repeat the filtering process\\n            if len(indices) > 1:\\n                continue\\n            # Case 2: == 1, then select the individual\\n            elif len(indices) == 1:\\n                select_ind = indices[0]\\n            # Case 3: == 0, then randomly select an individual\\n            else:\\n                select_ind = np.random.randint(0, s)\\n\\n    return select_ind\\n'"
      ]
     },
     "execution_count": 69,
     "metadata": {},
     "output_type": "execute_result"
    }
   ],
   "source": [
    "'''# Select the best individual: Automatic lexicase selection\n",
    "def lexicase_selection(fit_vec, s, m):\n",
    "    indices = np.arange(len(fit_vec))\n",
    "    select_ind = None\n",
    "\n",
    "    find_best_individual_count = 0\n",
    "    while (len(indices) > 1):\n",
    "        print(f\"find_best_individual_count: {find_best_individual_count}\")\n",
    "        # print(f\"indices: {len(indices)}, {indices}\")\n",
    "        j, theta_j = compute_threshold(fit_vec[indices])\n",
    "\n",
    "        # For each individual\n",
    "        for i in range(len(indices)):\n",
    "            # j-th fitness element > theta\n",
    "            # print(f\"fit_vec[{i}][{j}]: {fit_vec[i][j]}, theta_j: {theta_j}\")\n",
    "            if fit_vec[i][j] > theta_j:\n",
    "                # preserve the individual\n",
    "                pass\n",
    "            else:\n",
    "                indices = np.delete(indices, np.where(indices == i))\n",
    "            # print(f\"{i}: indices: {len(indices)}, {indices}\")\n",
    "\n",
    "            # Case 1: > 1, then repeat the filtering process\n",
    "            if len(indices) > 1:\n",
    "                continue\n",
    "            # Case 2: == 1, then select the individual\n",
    "            elif len(indices) == 1:\n",
    "                select_ind = indices[0]\n",
    "            # Case 3: == 0, then randomly select an individual\n",
    "            else:\n",
    "                select_ind = np.random.randint(0, s)\n",
    "\n",
    "    return select_ind\n",
    "'''"
   ]
  },
  {
   "cell_type": "code",
   "execution_count": 70,
   "metadata": {},
   "outputs": [
    {
     "data": {
      "text/plain": [
       "'def add_to_archive(archive, num_archive, individual, avg_fitness_value):\\n    # If the number of selected individuals < remain num_archive\\n    if len(archive) < num_archive:\\n        archive.append((individual, avg_fitness_value))  # Add to the archive\\n        archive = sorted(archive, key=lambda ind: (ind[1]))\\n    # replace the worst individual in the archive with the best individual\\n    else:\\n        # Find the minimum fitness value; fitness value = average of the fitness vector\\n        archive[0] = (individual, avg_fitness_value) if avg_fitness_value > archive[0][1] else archive[0]\\n    return archive'"
      ]
     },
     "execution_count": 70,
     "metadata": {},
     "output_type": "execute_result"
    }
   ],
   "source": [
    "'''def add_to_archive(archive, num_archive, individual, avg_fitness_value):\n",
    "    # If the number of selected individuals < remain num_archive\n",
    "    if len(archive) < num_archive:\n",
    "        archive.append((individual, avg_fitness_value))  # Add to the archive\n",
    "        archive = sorted(archive, key=lambda ind: (ind[1]))\n",
    "    # replace the worst individual in the archive with the best individual\n",
    "    else:\n",
    "        # Find the minimum fitness value; fitness value = average of the fitness vector\n",
    "        archive[0] = (individual, avg_fitness_value) if avg_fitness_value > archive[0][1] else archive[0]\n",
    "    return archive'''"
   ]
  },
  {
   "cell_type": "markdown",
   "metadata": {},
   "source": [
    "### Evolution"
   ]
  },
  {
   "cell_type": "code",
   "execution_count": 112,
   "metadata": {},
   "outputs": [
    {
     "name": "stdout",
     "output_type": "stream",
     "text": [
      "Start evolve groups\n",
      "population[0].num_gen: 0\n",
      "population[0].num_gen: 20\n",
      "population[0].num_gen: 40\n",
      "population[0].eval_count: 650\n",
      "record: {'avg': 0.011133004053323601, 'std': 0.05083545969342669, 'min': -0.0023590957548647365, 'max': 0.4440107989513805}\n",
      "population[0].num_gen: 60\n",
      "population[0].num_gen: 80\n",
      "population[0].eval_count: 800\n",
      "record: {'avg': 0.016746608969047408, 'std': 0.062145317340245795, 'min': -0.0023590957548647365, 'max': 0.4440107989513805}\n",
      "population[1].num_gen: 0\n",
      "population[1].num_gen: 20\n",
      "population[1].num_gen: 40\n",
      "population[1].eval_count: 650\n",
      "record: {'avg': 0.0076799282420676514, 'std': 0.04406729436271467, 'min': -0.002025596511174053, 'max': 0.4710164433624508}\n",
      "population[1].num_gen: 60\n",
      "population[1].num_gen: 80\n",
      "population[1].eval_count: 800\n",
      "record: {'avg': 0.016983996790577507, 'std': 0.06750367542227506, 'min': -0.002025596511174053, 'max': 0.4710164433624508}\n",
      "population[2].num_gen: 0\n",
      "population[2].num_gen: 20\n",
      "population[2].num_gen: 40\n",
      "population[2].eval_count: 650\n",
      "record: {'avg': 0.005664093631432817, 'std': 0.03750277100111054, 'min': -0.0015817473257604669, 'max': 0.36131495975414873}\n",
      "population[2].num_gen: 60\n",
      "population[2].num_gen: 80\n",
      "population[2].eval_count: 800\n",
      "record: {'avg': 0.010170229840114092, 'std': 0.04853939855551302, 'min': -0.0015817473257604669, 'max': 0.4253166894683575}\n",
      "population[3].num_gen: 0\n",
      "population[3].num_gen: 20\n",
      "population[3].num_gen: 40\n",
      "population[3].eval_count: 650\n",
      "record: {'avg': 0.005642914775828794, 'std': 0.032851674225384146, 'min': -0.0023321831684416437, 'max': 0.44232580739975974}\n",
      "population[3].num_gen: 60\n",
      "population[3].num_gen: 80\n",
      "population[3].eval_count: 800\n",
      "record: {'avg': 0.011668012596147104, 'std': 0.05035601364741761, 'min': -0.0023321831684416437, 'max': 0.44551955836652907}\n",
      "population[4].num_gen: 0\n",
      "population[4].num_gen: 20\n",
      "population[4].num_gen: 40\n",
      "population[4].eval_count: 650\n",
      "record: {'avg': 0.007668986377254493, 'std': 0.0396703897429674, 'min': -0.0020545445201043894, 'max': 0.40783983187736017}\n",
      "population[4].num_gen: 60\n"
     ]
    },
    {
     "name": "stderr",
     "output_type": "stream",
     "text": [
      "<string>:1: RuntimeWarning: overflow encountered in square\n"
     ]
    },
    {
     "name": "stdout",
     "output_type": "stream",
     "text": [
      "population[4].num_gen: 80\n",
      "population[4].eval_count: 800\n",
      "record: {'avg': 0.014124907418025336, 'std': 0.05567434458984742, 'min': -0.0020545445201043894, 'max': 0.41053181442030817}\n"
     ]
    }
   ],
   "source": [
    "archive = []\n",
    "\n",
    "# Initialize the population\n",
    "population = initialize_population(s=5, m=500)\n",
    "\n",
    "# Evolutionary process for each group\n",
    "population = evolve_group(population)\n",
    "\n",
    "# Select the best num_archive individuals\n",
    "population_merged = [ind for trees in population for ind in trees.pop]\n"
   ]
  },
  {
   "cell_type": "code",
   "execution_count": null,
   "metadata": {},
   "outputs": [],
   "source": [
    "population_merged[:5]"
   ]
  },
  {
   "cell_type": "code",
   "execution_count": 114,
   "metadata": {},
   "outputs": [],
   "source": [
    "population_merged = sorted(population_merged, key=lambda x: x.fitness.values, reverse=True)"
   ]
  },
  {
   "cell_type": "code",
   "execution_count": 115,
   "metadata": {},
   "outputs": [],
   "source": [
    "archive.extend(population_merged[:num_archive])"
   ]
  },
  {
   "cell_type": "code",
   "execution_count": 116,
   "metadata": {},
   "outputs": [
    {
     "name": "stdout",
     "output_type": "stream",
     "text": [
      "0.4710164433624508, add(e, subtract(c, subtract(multiply(d, d), add(a, square(d)))))\n",
      "0.44551955836652907, add(subtract(protected_sqrt(e), subtract(e, c)), add(b, e))\n",
      "0.4440107989513805, add(protected_sqrt(c), add(b, a))\n",
      "0.44232580739975974, add(add(b, protected_sqrt(e)), e)\n",
      "0.43918907105130156, add(add(c, a), protected_sqrt(d))\n",
      "0.4256158527304334, add(e, c)\n",
      "0.4253166894683575, add(add(subtract(add(c, c), protected_sqrt(c)), d), a)\n",
      "0.4176096860808168, add(e, multiply(c, square(protected_div(c, c))))\n",
      "0.41053181442030817, add(a, d)\n",
      "0.40930214414334637, protected_sqrt(e)\n",
      "0.4079763448694389, add(a, c)\n",
      "0.40783983187736017, protected_div(e, protected_div(d, d))\n",
      "0.4065900233623527, protected_sqrt(add(add(e, d), multiply(multiply(subtract(a, a), add(c, d)), b)))\n",
      "0.4001176507548702, protected_sqrt(add(c, a))\n",
      "0.39985633246673075, add(e, protected_sqrt(e))\n",
      "0.3897028422621825, add(protected_sqrt(a), c)\n",
      "0.38780475172427836, protected_sqrt(protected_sqrt(e))\n",
      "0.3748911334118337, add(protected_sqrt(protected_sqrt(a)), d)\n",
      "0.37434101424240196, protected_sqrt(a)\n",
      "0.37050163485096715, protected_sqrt(a)\n",
      "0.36760922588834377, add(add(d, b), subtract(a, a))\n",
      "0.36131495975414873, multiply(e, protected_sqrt(square(c)))\n",
      "0.36124105471343015, add(d, protected_sqrt(b))\n",
      "0.35989926861020394, protected_sqrt(add(d, c))\n",
      "0.3571561138651219, add(b, add(b, d))\n",
      "0.35446788300825555, protected_sqrt(protected_sqrt(a))\n",
      "0.35417408889815066, add(d, b)\n",
      "0.34877591353028076, subtract(add(e, b), subtract(d, c))\n",
      "0.3419702965611262, protected_sqrt(protected_sqrt(protected_sqrt(protected_sqrt(e))))\n",
      "0.3410012522925542, protected_sqrt(multiply(protected_sqrt(c), multiply(a, c)))\n",
      "0.33841145218552054, protected_sqrt(protected_sqrt(protected_sqrt(a)))\n",
      "0.3375095769021295, multiply(protected_sqrt(a), square(protected_sqrt(c)))\n",
      "0.3166733053192102, add(add(protected_sqrt(b), e), protected_sqrt(square(c)))\n",
      "0.316338071777417, add(multiply(add(multiply(a, a), protected_sqrt(e)), d), e)\n",
      "0.3156526063808049, add(protected_sqrt(add(e, a)), protected_sqrt(protected_div(a, c)))\n",
      "0.30199705119493075, protected_sqrt(b)\n",
      "0.29606705950665824, multiply(square(d), a)\n",
      "0.290681919888087, protected_sqrt(b)\n",
      "0.28891967210875896, protected_sqrt(d)\n",
      "0.28754928643398875, subtract(b, protected_div(protected_sqrt(square(b)), protected_sqrt(multiply(b, b))))\n",
      "0.27638068705661467, protected_div(multiply(multiply(a, e), add(subtract(protected_sqrt(e), b), square(a))), protected_sqrt(protected_sqrt(a)))\n",
      "0.27487649954342647, protected_div(a, protected_sqrt(square(multiply(protected_sqrt(c), subtract(a, e)))))\n",
      "0.27441943066829155, multiply(multiply(square(c), multiply(a, c)), multiply(a, square(e)))\n",
      "0.27229648174180354, add(protected_div(a, protected_sqrt(protected_sqrt(d))), a)\n",
      "0.2717854640099212, protected_sqrt(multiply(add(b, b), square(c)))\n",
      "0.27035690836650744, protected_sqrt(subtract(add(square(subtract(c, e)), multiply(a, square(a))), add(square(subtract(a, c)), protected_sqrt(square(d)))))\n",
      "0.2493968937854128, multiply(multiply(a, d), add(b, c))\n",
      "0.2463802412655702, add(d, add(d, square(protected_sqrt(d))))\n",
      "0.24467264963593793, multiply(c, square(square(a)))\n",
      "0.2433723906562323, protected_sqrt(subtract(add(a, d), multiply(b, e)))\n",
      "0.241051962429936, add(e, subtract(c, multiply(e, e)))\n",
      "0.23057939374513686, protected_sqrt(subtract(multiply(add(subtract(a, d), add(e, d)), multiply(protected_div(e, d), multiply(d, b))), protected_div(protected_div(protected_div(e, c), subtract(c, d)), subtract(add(a, d), multiply(e, d)))))\n",
      "0.2305270438377646, subtract(add(protected_sqrt(a), add(c, a)), square(subtract(b, a)))\n",
      "0.22842316542801838, protected_sqrt(protected_sqrt(add(multiply(d, b), e)))\n",
      "0.2260154411603944, subtract(e, protected_div(multiply(protected_sqrt(subtract(d, e)), protected_div(square(c), protected_sqrt(d))), multiply(multiply(protected_sqrt(b), subtract(d, e)), multiply(add(c, c), subtract(d, a)))))\n",
      "0.2260001438893308, protected_div(e, add(square(protected_sqrt(add(c, a))), square(protected_div(square(e), add(d, b)))))\n",
      "0.22306395033923773, multiply(d, square(multiply(square(d), add(d, add(b, b)))))\n",
      "0.222151155308397, add(b, protected_div(b, b))\n",
      "0.22060875388687926, protected_sqrt(protected_div(add(square(multiply(b, e)), protected_sqrt(c)), b))\n",
      "0.22026420600695715, multiply(add(protected_sqrt(d), square(c)), b)\n",
      "0.21612331264450685, add(b, protected_sqrt(multiply(e, c)))\n",
      "0.21390217009298118, protected_sqrt(add(subtract(add(subtract(a, c), add(e, e)), protected_sqrt(multiply(c, d))), protected_sqrt(subtract(protected_div(e, c), add(b, e)))))\n",
      "0.2121585559126316, add(subtract(d, multiply(b, b)), a)\n",
      "0.20962032927912655, subtract(b, protected_sqrt(subtract(a, d)))\n",
      "0.20833392440039847, subtract(add(e, c), square(c))\n",
      "0.20736709108114446, protected_sqrt(add(protected_sqrt(e), protected_div(d, e)))\n",
      "0.20417681621631342, add(protected_div(a, subtract(e, protected_div(a, subtract(c, e)))), a)\n",
      "0.20415688126680512, subtract(subtract(e, subtract(subtract(c, c), c)), b)\n",
      "0.20377380136904963, protected_div(protected_sqrt(multiply(a, d)), a)\n",
      "0.20315448989464982, add(e, protected_div(b, e))\n",
      "0.20230525655519424, multiply(c, multiply(e, b))\n",
      "0.1965227568872978, subtract(b, subtract(e, a))\n",
      "0.1963672130098069, multiply(multiply(c, e), d)\n",
      "0.19234978886871731, multiply(b, multiply(c, a))\n",
      "0.18946416428590987, subtract(subtract(a, protected_sqrt(a)), protected_sqrt(square(b)))\n",
      "0.18863770234270455, protected_div(multiply(square(d), protected_div(e, c)), c)\n",
      "0.18825528660352492, add(multiply(b, protected_sqrt(c)), b)\n",
      "0.1876824068003208, add(subtract(protected_sqrt(a), multiply(b, b)), c)\n",
      "0.18600660232407382, protected_sqrt(multiply(add(subtract(b, a), b), multiply(b, add(b, b))))\n",
      "0.18361392202281943, add(subtract(multiply(e, protected_div(c, d)), subtract(c, a)), b)\n",
      "0.180961914128129, subtract(add(protected_sqrt(add(e, a)), multiply(add(d, a), square(b))), square(square(e)))\n",
      "0.17844041853201784, protected_sqrt(protected_sqrt(add(protected_div(c, a), c)))\n",
      "0.17784973384787162, protected_sqrt(subtract(b, multiply(protected_div(b, b), square(e))))\n",
      "0.17680102639719553, protected_div(multiply(c, c), add(e, c))\n",
      "0.1757491996435225, subtract(a, protected_div(a, c))\n",
      "0.16922875518275377, subtract(b, square(a))\n",
      "0.16380601817500431, subtract(a, multiply(protected_sqrt(subtract(subtract(c, c), protected_sqrt(a))), add(d, b)))\n",
      "0.15956223428761826, add(add(protected_div(square(b), protected_div(add(c, d), a)), b), add(d, d))\n",
      "0.15679763010759215, subtract(protected_div(protected_sqrt(protected_sqrt(b)), add(b, b)), subtract(subtract(e, b), a))\n",
      "0.15358142986743198, protected_div(protected_div(a, d), d)\n",
      "0.15289919070588592, add(b, protected_div(b, c))\n",
      "0.15237269884827717, subtract(add(b, protected_sqrt(b)), protected_sqrt(multiply(protected_div(protected_div(b, a), e), multiply(c, protected_div(d, e)))))\n",
      "0.15054527676042176, protected_div(multiply(c, c), protected_div(a, add(multiply(c, a), subtract(d, e))))\n",
      "0.14755806730858412, add(multiply(square(c), subtract(c, d)), subtract(protected_sqrt(c), multiply(c, d)))\n",
      "0.14611058265663926, subtract(protected_sqrt(c), square(a))\n",
      "0.14174751340393302, multiply(subtract(c, protected_div(a, d)), square(multiply(a, c)))\n",
      "0.13602713576513825, subtract(d, protected_div(protected_div(e, d), subtract(b, a)))\n",
      "0.13309449077982738, add(add(subtract(c, add(a, c)), d), b)\n",
      "0.13285842640603918, add(protected_sqrt(square(subtract(d, a))), b)\n",
      "0.12995428572665907, multiply(square(protected_div(add(protected_div(protected_sqrt(e), subtract(d, c)), subtract(add(e, a), add(a, c))), add(subtract(add(a, a), square(a)), square(protected_sqrt(b))))), a)\n",
      "0.12861928518679544, protected_div(e, square(subtract(square(a), add(d, d))))\n",
      "0.12823778843202113, protected_div(e, square(a))\n",
      "0.1268344247857045, multiply(c, square(protected_div(a, e)))\n",
      "0.1267836132679146, add(b, multiply(protected_sqrt(e), protected_div(a, subtract(protected_sqrt(b), d))))\n",
      "0.12532719917493482, multiply(protected_sqrt(add(add(e, c), add(b, d))), protected_div(b, a))\n",
      "0.12210211311004386, add(add(subtract(d, square(a)), square(a)), multiply(b, e))\n",
      "0.12085156762946453, protected_div(add(b, square(multiply(protected_sqrt(c), multiply(a, a)))), b)\n",
      "0.11879270673304405, multiply(add(protected_sqrt(multiply(multiply(a, c), add(a, b))), protected_div(square(protected_div(b, d)), multiply(add(a, a), subtract(a, e)))), square(subtract(protected_div(multiply(d, e), protected_div(b, b)), add(add(e, d), protected_sqrt(c)))))\n",
      "0.11789000663875132, add(protected_sqrt(square(protected_div(add(c, d), add(b, e)))), protected_sqrt(add(protected_sqrt(add(d, c)), subtract(protected_sqrt(c), subtract(c, b)))))\n",
      "0.11620376175535702, protected_div(protected_div(b, b), protected_sqrt(add(multiply(e, c), add(c, a))))\n",
      "0.11546157799847075, square(multiply(add(protected_sqrt(c), protected_div(c, e)), square(protected_sqrt(e))))\n",
      "0.11375937295416759, multiply(protected_div(a, e), add(b, d))\n",
      "0.11323523637958677, protected_sqrt(subtract(protected_sqrt(a), subtract(e, c)))\n",
      "0.11311822202106399, add(subtract(protected_div(c, d), multiply(e, c)), b)\n",
      "0.10997832782659069, protected_div(b, multiply(e, b))\n",
      "0.10837563679201923, protected_div(multiply(multiply(add(c, a), protected_div(e, d)), b), b)\n",
      "0.1069418276915887, protected_div(c, protected_div(a, e))\n",
      "0.1047018868214098, protected_div(c, multiply(e, e))\n",
      "0.1039794800404722, protected_div(e, square(e))\n",
      "0.10292321120287011, protected_div(add(c, c), protected_div(a, c))\n",
      "0.10215014619585834, protected_div(subtract(protected_sqrt(a), subtract(multiply(subtract(e, d), add(e, b)), b)), square(d))\n",
      "0.10144735437906464, subtract(d, add(square(add(a, a)), multiply(e, a)))\n",
      "0.10072561473853628, subtract(e, multiply(d, protected_div(a, a)))\n",
      "0.10071754059034217, subtract(c, add(protected_sqrt(e), square(e)))\n",
      "0.09931199501267256, subtract(protected_sqrt(protected_sqrt(b)), protected_div(multiply(c, e), square(c)))\n",
      "0.09667612596912721, subtract(add(multiply(multiply(protected_div(c, c), protected_div(b, c)), subtract(a, d)), protected_sqrt(protected_sqrt(e))), protected_sqrt(protected_sqrt(subtract(a, c))))\n",
      "0.0956937835093338, subtract(protected_sqrt(b), protected_div(b, c))\n",
      "0.0949992782069663, protected_div(b, subtract(add(protected_div(add(e, b), e), square(protected_sqrt(b))), add(a, protected_sqrt(a))))\n",
      "0.08795896365462529, multiply(protected_div(b, a), c)\n",
      "0.08775732968290159, protected_div(b, protected_div(c, e))\n",
      "0.08625793049866752, protected_div(e, multiply(e, b))\n",
      "0.08618238840496338, subtract(square(add(multiply(protected_sqrt(d), add(d, c)), b)), subtract(d, multiply(c, add(protected_sqrt(b), square(e)))))\n",
      "0.08579182530031693, add(multiply(protected_div(add(add(c, d), protected_sqrt(b)), subtract(square(a), subtract(e, c))), multiply(add(protected_div(e, c), protected_div(c, b)), add(multiply(e, c), square(c)))), protected_sqrt(protected_div(subtract(add(b, b), protected_div(c, c)), subtract(protected_sqrt(a), protected_sqrt(c)))))\n",
      "0.08483501024336502, multiply(square(c), subtract(protected_sqrt(d), square(e)))\n",
      "0.08250243364787034, subtract(protected_sqrt(b), multiply(b, d))\n",
      "0.08160453304825586, subtract(a, d)\n",
      "0.08160453304825586, subtract(a, d)\n",
      "0.08093640910167615, subtract(square(square(protected_sqrt(c))), subtract(square(protected_div(a, d)), protected_div(square(c), d)))\n",
      "0.0783035845779216, multiply(subtract(multiply(e, c), multiply(a, c)), e)\n",
      "0.07788985126074438, subtract(a, d)\n",
      "0.07654995843615373, add(add(multiply(protected_div(a, a), multiply(e, a)), protected_sqrt(multiply(c, b))), protected_sqrt(multiply(multiply(e, c), add(d, b))))\n",
      "0.07597532344079945, square(add(a, multiply(d, a)))\n",
      "0.0759324909740417, subtract(add(b, add(b, b)), multiply(subtract(protected_div(add(a, b), protected_sqrt(b)), protected_sqrt(b)), d))\n",
      "0.0753025859028907, protected_div(protected_div(a, a), protected_div(e, add(multiply(multiply(a, c), protected_div(e, e)), multiply(multiply(e, b), protected_sqrt(a)))))\n",
      "0.07451470464673339, add(subtract(multiply(d, protected_sqrt(a)), protected_sqrt(a)), b)\n",
      "0.07441036588047137, protected_div(multiply(protected_div(b, e), protected_div(multiply(c, a), c)), protected_div(add(c, e), add(e, c)))\n",
      "0.0727066452809825, multiply(multiply(add(e, multiply(c, c)), add(square(e), subtract(b, c))), multiply(protected_div(d, b), protected_sqrt(square(b))))\n",
      "0.07184269866181539, multiply(e, add(b, protected_sqrt(protected_div(e, b))))\n",
      "0.07133155570187866, protected_div(protected_div(square(protected_sqrt(b)), a), multiply(a, e))\n",
      "0.06770100639373651, add(add(multiply(multiply(multiply(e, e), square(d)), add(multiply(d, b), a)), square(protected_div(add(d, b), add(c, e)))), protected_sqrt(multiply(multiply(multiply(a, a), protected_div(b, a)), square(square(c)))))\n",
      "0.06649487280397481, subtract(c, square(multiply(protected_div(e, d), multiply(c, b))))\n",
      "0.06618933810903693, protected_div(square(protected_sqrt(protected_div(a, c))), protected_div(add(protected_sqrt(b), subtract(c, square(b))), subtract(square(a), multiply(b, d))))\n",
      "0.06567353382848479, protected_div(subtract(multiply(protected_div(c, c), protected_sqrt(a)), subtract(protected_sqrt(d), multiply(c, b))), d)\n",
      "0.06038171629943284, add(multiply(protected_div(protected_sqrt(subtract(c, a)), subtract(subtract(b, e), protected_sqrt(c))), subtract(subtract(protected_sqrt(c), subtract(a, b)), protected_sqrt(square(b)))), c)\n",
      "0.06023237954515522, add(e, add(square(e), subtract(b, protected_sqrt(a))))\n",
      "0.05698654842884357, add(protected_div(square(subtract(protected_sqrt(c), protected_sqrt(b))), subtract(protected_sqrt(square(e)), protected_div(subtract(b, d), subtract(e, e)))), protected_sqrt(protected_sqrt(multiply(square(a), protected_sqrt(e)))))\n",
      "0.055417348966927404, protected_div(add(add(b, c), multiply(e, a)), multiply(protected_div(d, d), b))\n",
      "0.05533434125740887, add(subtract(protected_div(square(add(d, c)), protected_div(subtract(c, b), protected_div(c, b))), protected_div(subtract(protected_div(b, e), protected_div(b, c)), multiply(square(c), multiply(b, a)))), e)\n",
      "0.051885302472573114, protected_div(square(add(square(protected_sqrt(c)), protected_sqrt(e))), square(subtract(subtract(add(e, a), subtract(d, d)), subtract(protected_div(c, b), protected_sqrt(a)))))\n",
      "0.051485615508585485, protected_div(multiply(e, a), multiply(square(a), add(b, b)))\n",
      "0.050749102473524536, subtract(multiply(subtract(add(multiply(c, d), subtract(b, e)), protected_sqrt(protected_div(e, a))), subtract(add(protected_div(d, a), add(c, a)), protected_div(multiply(c, c), protected_div(c, a)))), square(multiply(square(subtract(e, b)), protected_div(add(c, b), square(e)))))\n",
      "0.0499978705757945, protected_div(multiply(a, d), add(multiply(square(square(a)), multiply(protected_div(d, e), protected_div(c, d))), add(add(add(c, d), subtract(a, d)), subtract(add(d, a), subtract(d, d)))))\n",
      "0.04968784260293517, subtract(protected_div(multiply(e, b), subtract(b, a)), add(protected_div(protected_sqrt(protected_sqrt(a)), multiply(add(c, c), add(c, d))), square(c)))\n",
      "0.04925497086706568, multiply(square(multiply(d, a)), multiply(protected_div(b, d), square(c)))\n",
      "0.04922586824544077, subtract(multiply(protected_div(e, b), square(protected_div(c, c))), square(square(add(e, d))))\n",
      "0.0484512290246776, add(multiply(protected_div(add(add(c, d), protected_sqrt(b)), subtract(square(a), subtract(e, c))), multiply(protected_sqrt(c), add(multiply(e, c), square(c)))), protected_sqrt(protected_div(subtract(add(b, b), protected_div(c, c)), subtract(protected_sqrt(a), protected_sqrt(c)))))\n",
      "0.046326787257043346, protected_sqrt(subtract(a, c))\n",
      "0.043889069280297136, protected_div(square(multiply(d, protected_div(c, e))), e)\n",
      "0.04329440295552239, protected_div(c, subtract(protected_sqrt(square(e)), d))\n",
      "0.043048285473323136, protected_div(add(protected_div(square(square(b)), add(protected_div(c, c), multiply(b, d))), protected_sqrt(add(b, b))), protected_div(square(protected_sqrt(protected_sqrt(a))), add(subtract(protected_sqrt(c), protected_sqrt(c)), multiply(square(e), square(b)))))\n",
      "0.041311611568698385, add(d, subtract(subtract(b, add(b, d)), add(square(a), multiply(b, a))))\n",
      "0.04131082774193621, add(protected_sqrt(a), square(b))\n",
      "0.04114685810627455, protected_div(square(square(b)), multiply(square(a), add(a, protected_div(e, d))))\n",
      "0.03804740448562636, protected_div(protected_sqrt(c), protected_div(multiply(subtract(e, protected_sqrt(e)), multiply(c, a)), a))\n",
      "0.03756853921809214, protected_div(protected_div(protected_sqrt(d), multiply(a, a)), protected_sqrt(protected_div(b, c)))\n",
      "0.03700927820270196, add(square(b), d)\n",
      "0.036741967683622215, multiply(add(protected_div(multiply(a, a), square(a)), add(e, protected_sqrt(d))), e)\n",
      "0.03483848992804211, subtract(add(multiply(subtract(a, c), subtract(a, d)), protected_sqrt(protected_sqrt(e))), protected_sqrt(protected_sqrt(subtract(a, c))))\n",
      "0.034313969478410894, add(a, square(multiply(d, a)))\n",
      "0.032003288261752555, multiply(multiply(protected_sqrt(multiply(a, b)), d), protected_sqrt(a))\n",
      "0.030975092014654836, multiply(protected_div(protected_sqrt(c), subtract(b, a)), subtract(add(e, b), multiply(a, c)))\n",
      "0.029475444642146752, protected_div(multiply(subtract(multiply(c, d), subtract(d, a)), subtract(add(a, e), protected_sqrt(c))), b)\n",
      "0.02836109390927456, multiply(c, protected_sqrt(b))\n",
      "0.027533725379309277, protected_div(subtract(add(add(protected_div(d, d), subtract(e, e)), e), b), e)\n",
      "0.02747581752743427, subtract(protected_div(add(d, c), subtract(d, add(a, b))), square(protected_div(c, a)))\n",
      "0.02716461467515632, protected_div(protected_sqrt(protected_sqrt(protected_div(multiply(b, a), protected_div(b, b)))), multiply(subtract(protected_div(protected_div(b, c), subtract(b, a)), add(protected_div(e, b), multiply(d, c))), multiply(protected_sqrt(square(d)), protected_sqrt(square(d)))))\n",
      "0.026451014217581503, add(subtract(square(b), d), protected_div(add(c, c), square(a)))\n",
      "0.025967124821081402, protected_div(subtract(e, d), d)\n",
      "0.025322305363377744, protected_div(protected_div(subtract(d, subtract(protected_div(e, e), square(d))), a), protected_div(protected_div(b, b), protected_sqrt(b)))\n",
      "0.024991064685981217, subtract(a, b)\n",
      "0.02384908663980914, multiply(protected_div(multiply(protected_sqrt(multiply(e, c)), multiply(multiply(d, e), multiply(a, a))), b), b)\n",
      "0.023842721126821755, protected_div(d, c)\n",
      "0.02219418840935727, subtract(protected_div(subtract(subtract(b, b), d), a), square(multiply(multiply(b, e), protected_div(d, e))))\n",
      "0.021249727386426557, protected_div(add(protected_sqrt(add(d, c)), subtract(subtract(c, a), subtract(e, a))), add(square(add(a, a)), add(add(a, e), protected_sqrt(d))))\n",
      "0.02123371840721073, multiply(a, protected_div(a, multiply(add(subtract(a, b), square(d)), e)))\n",
      "0.019695161172667137, protected_sqrt(subtract(add(square(e), add(a, e)), subtract(c, protected_div(d, e))))\n",
      "0.01942455316823929, protected_sqrt(protected_sqrt(add(protected_sqrt(d), square(a))))\n",
      "0.01914106178022867, protected_div(b, protected_sqrt(c))\n",
      "0.019035238736980545, multiply(c, multiply(square(e), a))\n",
      "0.018599609540146535, subtract(protected_sqrt(square(b)), square(protected_div(a, b)))\n"
     ]
    }
   ],
   "source": [
    "for ind in archive:\n",
    "    print(f\"{ind.fitness.values[0]}, {str(ind)}\")"
   ]
  },
  {
   "cell_type": "code",
   "execution_count": null,
   "metadata": {},
   "outputs": [],
   "source": [
    "archive = []  # Archive the best individual\n",
    "total_eval_count = 0\n",
    "\n",
    "\n",
    "    # For each individual (DT) (s individuals)\n",
    "        # For each GP tree (m trees)\n",
    "            # Randomly initialize the tree\n",
    "population = initialize_population(s, m)\n",
    "\n",
    "# Fivefold cross-validation\n",
    "fit_vec = cross_validation(population, dataset)\n",
    "\n",
    "# Select the best individual: Automatic lexicase selection\n",
    "select_ind = lexicase_selection(fit_vec, s, m)\n",
    "\n",
    "# Archive the best individual\n",
    "archive = add_to_archive(archive, num_archive, population[select_ind], np.mean(fit_vec[select_ind]))\n",
    "\n",
    "# Return the archive\n",
    "\n",
    "total_eval_count = sum([ind.eval_count for ind in population])\n",
    "\n",
    "# Show current prediction\n",
    "# 1. Mean all GP trees in the archive\n",
    "# mean_predictions = []\n",
    "\n",
    "for population, avg_fitness in archive:\n",
    "    record = population.stats.compile(population.pop)\n",
    "    population.hof.update(population.pop)\n",
    "    print(f\"record: {record}\")\n",
    "#     population_predictions = []\n",
    "#     for ind in population.pop:\n",
    "#         func = gp.compile(ind, population.pset)\n",
    "#         a, b, c, d, e = [population.embeddings[word] for word in population.inputword.iloc[1]]\n",
    "#         predict_vector = func(a, b, c, d, e)\n",
    "#         population.predictions.append(predict_vector)\n",
    "\n",
    "#     mean_population_prediction = np.mean(population_predictions, axis=0)\n",
    "#     mean_predictions.append(mean_population_prediction)\n",
    "# final_prediction = np.mean(mean_predictions, axis=0)\n",
    "\n",
    "# # 2. Print current inputword (five words), realword (1 word) and predict word\n",
    "# print(\"Input words: \", dataset['inputword'].iloc[:5])\n",
    "# print(\"Real word: \", dataset['realword'].iloc[0])\n",
    "# print(\"Predicted word: \", final_prediction)"
   ]
  },
  {
   "cell_type": "markdown",
   "metadata": {},
   "source": [
    "#### Try"
   ]
  },
  {
   "cell_type": "code",
   "execution_count": null,
   "metadata": {},
   "outputs": [],
   "source": [
    "population = initialize_population(s, m)\n",
    "\n",
    "# Fivefold cross-validation\n",
    "fit_vec = cross_validation(population, dataset)\n",
    "\n",
    "# Select the best individual: Automatic lexicase selection\n",
    "select_ind = lexicase_selection(fit_vec, s, m)"
   ]
  },
  {
   "cell_type": "code",
   "execution_count": null,
   "metadata": {},
   "outputs": [],
   "source": [
    "for ind in population:\n",
    "    print(f\"ind eval count: {ind.eval_count}\")"
   ]
  },
  {
   "cell_type": "code",
   "execution_count": 53,
   "metadata": {},
   "outputs": [
    {
     "data": {
      "text/plain": [
       "{'avg': 0.000557741725970799,\n",
       " 'std': 0.0009850077197091109,\n",
       " 'min': -0.00039808267172886417,\n",
       " 'max': 0.0024288598350371312}"
      ]
     },
     "execution_count": 53,
     "metadata": {},
     "output_type": "execute_result"
    }
   ],
   "source": [
    "record = population[0].stats.compile(population[0].pop)\n",
    "record"
   ]
  },
  {
   "cell_type": "code",
   "execution_count": 27,
   "metadata": {},
   "outputs": [
    {
     "data": {
      "text/plain": [
       "533"
      ]
     },
     "execution_count": 27,
     "metadata": {},
     "output_type": "execute_result"
    }
   ],
   "source": [
    "len(population.inputword)"
   ]
  },
  {
   "cell_type": "code",
   "execution_count": 39,
   "metadata": {},
   "outputs": [
    {
     "data": {
      "text/plain": [
       "[(<__main__.GP at 0x7fd1037d41f0>, 0.05257447638766555)]"
      ]
     },
     "execution_count": 39,
     "metadata": {},
     "output_type": "execute_result"
    }
   ],
   "source": [
    "archive"
   ]
  },
  {
   "cell_type": "code",
   "execution_count": 38,
   "metadata": {},
   "outputs": [
    {
     "data": {
      "text/plain": [
       "(533, 5)"
      ]
     },
     "execution_count": 38,
     "metadata": {},
     "output_type": "execute_result"
    }
   ],
   "source": [
    "predict_vectors = np.zeros((len(population.inputword), m * len(archive)))\n",
    "predict_vectors.shape"
   ]
  },
  {
   "cell_type": "code",
   "execution_count": 41,
   "metadata": {},
   "outputs": [
    {
     "data": {
      "text/plain": [
       "(533, 5)"
      ]
     },
     "execution_count": 41,
     "metadata": {},
     "output_type": "execute_result"
    }
   ],
   "source": [
    "target_vectors = np.zeros((len(population.inputword), m * len(archive)))\n",
    "target_vectors.shape"
   ]
  },
  {
   "cell_type": "code",
   "execution_count": null,
   "metadata": {},
   "outputs": [],
   "source": [
    "# Save the prediction and target vectors for each sentence\n",
    "for population, avg_fitness in archive:\n",
    "    # print(f\"population: {population}\")\n",
    "    for ind in population.pop:\n",
    "        func = gp.compile(ind, population.pset)\n",
    "        for data_index in range(len(population.inputword)):\n",
    "            five_words = population.inputword.iloc[data_index]\n",
    "            a, b, c, d, e = [population.embeddings[word] for word in five_words]\n",
    "            predict_vector = func(a, b, c, d, e)\n",
    "            predict_vectors[data_index] = predict_vector\n",
    "\n",
    "            y = population.realword.iloc[0]\n",
    "            target_vector[data_index] = population.embeddings[y]\n"
   ]
  },
  {
   "cell_type": "code",
   "execution_count": null,
   "metadata": {},
   "outputs": [],
   "source": [
    "# Print the prediction and target word\n",
    "\n",
    "print(f\"predict_vectors: {np.mean(predict_vectors, axis=0)}\")\n",
    "predict_word = word2vec_model.wv.similar_by_vector(np.mean(predict_vectors, axis=0), topn=1)\n"
   ]
  },
  {
   "cell_type": "code",
   "execution_count": 36,
   "metadata": {},
   "outputs": [
    {
     "data": {
      "text/plain": [
       "[('ulirach', 0.915840208530426)]"
      ]
     },
     "execution_count": 36,
     "metadata": {},
     "output_type": "execute_result"
    }
   ],
   "source": [
    "predict_word"
   ]
  },
  {
   "cell_type": "code",
   "execution_count": null,
   "metadata": {},
   "outputs": [],
   "source": [
    "similarity = cosine_similarity([np.mean(predict_vectors)], [target_vectors])[0][0]"
   ]
  },
  {
   "cell_type": "markdown",
   "metadata": {},
   "source": [
    "### Build functions"
   ]
  },
  {
   "cell_type": "code",
   "execution_count": null,
   "metadata": {},
   "outputs": [],
   "source": [
    "# For each generation (n_gen generations)\n",
    "    # For each individual (DT) (s individuals)\n",
    "        # For each GP tree (m trees)\n",
    "            # Randomly initialize the tree\n",
    "\n",
    "\n",
    "    # Fivefold cross-validation\n",
    "    # Traing dataset: divided into five folds\n",
    "    # For four folds: train the DT model\n",
    "    # For the remaining fold: test the model\n",
    "    # Concatenate these five loss values into a fitness vector\n",
    "\n",
    "        # Select the best individual: Automatic lexicase selection\n",
    "        # Fitness vector L: i-th individual's fitness vector\n",
    "        # While the number of selected individuals == s\n",
    "            # Randomly choose an index j\n",
    "                # j = np.random.randint(m)\n",
    "            # Threshold theta = min(L_i[j]) + median(abs(L_i[j] + median(L_k[j]))\n",
    "                # Calculate the median absolute deviation (MAD)\n",
    "                    # fitness_j = [L[j] for L in individauls]\n",
    "                    # median_j = np.median(fitness_j)\n",
    "                    # mad_j = np.median([abs(f - median_j) for f in fitness_j])\n",
    "                # Calculate the threshold theta\n",
    "                    # theta_j = np.min(fitness_j) + mad_j\n",
    "            # For each individual\n",
    "                # j-th fitness element > theta -> preserve the individual\n",
    "                # Number of selected individuals\n",
    "                # Case 1: > 1, then repeat the filtering process\n",
    "                # Case 2: == 1, then select the individual\n",
    "                # Case 3: == 0, then randomly select an individual\n",
    "        # Archive the best individual\n",
    "        # For each selected individual\n",
    "            # If the number of selected individuals < remain num_archive\n",
    "                # Add to the archive\n",
    "            # Else, replace the worst individual in the archive with the best individual\n",
    "                # Find the minimum fitness value; fitness value = average of the fitness vector\n",
    "    # Return the archive"
   ]
  },
  {
   "cell_type": "markdown",
   "metadata": {},
   "source": [
    "#### Initialization"
   ]
  },
  {
   "cell_type": "code",
   "execution_count": null,
   "metadata": {},
   "outputs": [],
   "source": [
    "# Record all individuals\n",
    "population_history = []\n",
    "\n",
    "# Initialize the population and record trees for each individuals\n",
    "population = []\n",
    "for i in range(s):\n",
    "    # Set up GP tree\n",
    "    trees = GP(embeddings, dim, population_size, crossover_method, cross_prob, mut_prob, num_generations, dataset)\n",
    "    trees.register()\n",
    "    trees.pop = trees.toolbox.population(n=m)\n",
    "    # Evaluate the entire population\n",
    "    fitnesses = map(trees.toolbox.evaluate, trees.pop, trees.inputword)\n",
    "    for ind, fit in zip(trees.pop, fitnesses):\n",
    "        ind.fitness.values = fit\n",
    "    population.append(trees)\n",
    "    add_trees_to_history(population[i], population_history)\n",
    "# for i in range(s):\n",
    "#     if i % 3 == 0:\n",
    "#         population.append([WORD2VEC] +word2vec_setup.toolbox.population(n=m))\n",
    "#         population_history.extend(tree for tree in population[i])\n",
    "#     elif i % 3 == 1:\n",
    "#         population.append([GLOVE] + glove_setup.toolbox.population(n=m))\n",
    "#         population_history.extend(tree for tree in population[i])\n",
    "#     else:  # i % 3 == 2\n",
    "#         population.append([FASTTEXT] + fasttext_setup.toolbox.population(n=m))\n",
    "#         population_history.extend(tree for tree in population[i])\n"
   ]
  },
  {
   "cell_type": "markdown",
   "metadata": {},
   "source": [
    "##### Test"
   ]
  },
  {
   "cell_type": "code",
   "execution_count": null,
   "metadata": {},
   "outputs": [],
   "source": [
    "tree = GP(embeddings, dim, population_size, crossover_method, cross_prob, mut_prob, num_generations, dataset)\n",
    "tree.register()\n",
    "# print(self.pop_size)\n",
    "tree.pop = tree.toolbox.population(n=tree.pop_size)\n",
    "# for ind in tree.pop:\n",
    "#     print(str(ind))\n",
    "# Evaluate the entire population\n",
    "# fitnesses = map(tree.toolbox.evaluate, tree.pop)\n",
    "# for ind, fit in zip(tree.pop, fitnesses):\n",
    "#     ind.fitness.values = fit\n",
    "print(f\"tree.pop type: {type(tree.pop)}\")\n"
   ]
  },
  {
   "cell_type": "code",
   "execution_count": null,
   "metadata": {},
   "outputs": [],
   "source": [
    "type(tree)"
   ]
  },
  {
   "cell_type": "code",
   "execution_count": 209,
   "metadata": {},
   "outputs": [
    {
     "data": {
      "text/plain": [
       "[<__main__.GP at 0x7fda7545b1c0>,\n",
       " <__main__.GP at 0x7fda742fbfd0>,\n",
       " <__main__.GP at 0x7fdaee9dce50>,\n",
       " <__main__.GP at 0x7fda7595c0a0>,\n",
       " <__main__.GP at 0x7fda73ac35b0>,\n",
       " <__main__.GP at 0x7fdaf7449a90>,\n",
       " <__main__.GP at 0x7fdabc1d1fd0>,\n",
       " <__main__.GP at 0x7fdb246ec520>,\n",
       " <__main__.GP at 0x7fdab3c81fa0>,\n",
       " <__main__.GP at 0x7fdab3c81940>,\n",
       " <__main__.GP at 0x7fda73a76fa0>,\n",
       " <__main__.GP at 0x7fdaf72ab6a0>,\n",
       " <__main__.GP at 0x7fda750efcd0>,\n",
       " <__main__.GP at 0x7fdafffc6310>,\n",
       " <__main__.GP at 0x7fdaf74df820>,\n",
       " <__main__.GP at 0x7fdb24666df0>,\n",
       " <__main__.GP at 0x7fda6e7163d0>,\n",
       " <__main__.GP at 0x7fda6e5dea00>,\n",
       " <__main__.GP at 0x7fda6e4a6f70>,\n",
       " <__main__.GP at 0x7fda6e2f1640>,\n",
       " <__main__.GP at 0x7fda6e17ac70>,\n",
       " <__main__.GP at 0x7fda6df982b0>,\n",
       " <__main__.GP at 0x7fda6df0e8b0>,\n",
       " <__main__.GP at 0x7fda6ddd8fa0>,\n",
       " <__main__.GP at 0x7fda6dca07f0>,\n",
       " <__main__.GP at 0x7fda6dae8df0>,\n",
       " <__main__.GP at 0x7fda6d9063d0>,\n",
       " <__main__.GP at 0x7fda6d87c880>,\n",
       " <__main__.GP at 0x7fda6d745df0>,\n",
       " <__main__.GP at 0x7fda6d612460>,\n",
       " <__main__.GP at 0x7fda6d4dbac0>,\n",
       " <__main__.GP at 0x7fda6d27b160>,\n",
       " <__main__.GP at 0x7fda6d1f08e0>,\n",
       " <__main__.GP at 0x7fda6d0b9e50>,\n",
       " <__main__.GP at 0x7fda6ced7430>,\n",
       " <__main__.GP at 0x7fda6ce4ea90>,\n",
       " <__main__.GP at 0x7fda6cbef100>,\n",
       " <__main__.GP at 0x7fda6cbe4700>,\n",
       " <__main__.GP at 0x7fda6ca2fd00>,\n",
       " <__main__.GP at 0x7fda6c84f340>,\n",
       " <__main__.GP at 0x7fda6c7c5940>,\n",
       " <__main__.GP at 0x7fda6c68ff40>,\n",
       " <__main__.GP at 0x7fda6c55b580>,\n",
       " <__main__.GP at 0x7fda6c425be0>,\n",
       " <__main__.GP at 0x7fda6c1c4280>,\n",
       " <__main__.GP at 0x7fda6c13ba00>,\n",
       " <__main__.GP at 0x7fda6bf5d1c0>,\n",
       " <__main__.GP at 0x7fda6bed37c0>,\n",
       " <__main__.GP at 0x7fda6bc76040>,\n",
       " <__main__.GP at 0x7fda6bb3d3a0>]"
      ]
     },
     "execution_count": 209,
     "metadata": {},
     "output_type": "execute_result"
    }
   ],
   "source": [
    "population"
   ]
  },
  {
   "cell_type": "code",
   "execution_count": 210,
   "metadata": {},
   "outputs": [
    {
     "name": "stdout",
     "output_type": "stream",
     "text": [
      "subtract(subtract(subtract(e, c), subtract(b, a)), subtract(protected_div(d, e), protected_sqrt(c)))\n",
      "multiply(c, subtract(e, e))\n",
      "protected_sqrt(c)\n",
      "add(subtract(a, d), e)\n",
      "add(e, b)\n",
      "protected_sqrt(d)\n",
      "square(a)\n",
      "subtract(a, subtract(square(a), a))\n",
      "add(a, c)\n",
      "protected_sqrt(protected_div(square(protected_div(e, c)), square(multiply(c, b))))\n",
      "multiply(subtract(a, a), multiply(d, add(a, b)))\n",
      "protected_sqrt(d)\n",
      "multiply(d, c)\n",
      "protected_sqrt(a)\n",
      "square(protected_sqrt(protected_div(square(e), protected_div(c, e))))\n",
      "square(multiply(e, d))\n",
      "protected_div(multiply(square(add(multiply(e, a), square(e))), protected_div(square(add(d, c)), multiply(protected_sqrt(e), protected_div(d, c)))), protected_sqrt(square(multiply(subtract(b, c), add(a, a)))))\n",
      "multiply(b, subtract(a, d))\n",
      "multiply(square(multiply(add(add(e, d), add(a, b)), add(subtract(e, a), protected_sqrt(e)))), protected_div(add(subtract(protected_sqrt(a), add(c, e)), multiply(subtract(e, b), square(d))), subtract(square(protected_sqrt(e)), square(protected_sqrt(d)))))\n",
      "add(c, b)\n",
      "protected_sqrt(add(protected_div(a, a), add(a, b)))\n",
      "multiply(a, b)\n",
      "add(a, protected_sqrt(c))\n",
      "subtract(protected_sqrt(e), d)\n",
      "protected_div(c, d)\n",
      "protected_div(protected_sqrt(multiply(e, a)), add(protected_sqrt(d), square(e)))\n",
      "protected_sqrt(c)\n",
      "multiply(protected_div(a, b), protected_sqrt(protected_sqrt(c)))\n",
      "add(subtract(b, multiply(e, a)), add(subtract(b, b), e))\n",
      "square(add(subtract(e, c), protected_div(b, d)))\n",
      "add(protected_sqrt(subtract(multiply(e, d), square(c))), subtract(multiply(multiply(c, c), square(a)), add(add(b, e), protected_sqrt(c))))\n",
      "subtract(subtract(subtract(protected_sqrt(c), protected_div(multiply(a, d), protected_div(b, d))), d), d)\n",
      "protected_sqrt(b)\n",
      "square(protected_div(add(multiply(protected_div(c, c), add(b, b)), square(protected_sqrt(d))), square(add(subtract(d, c), multiply(e, d)))))\n",
      "square(e)\n",
      "subtract(protected_div(subtract(protected_sqrt(d), protected_div(d, d)), square(square(c))), multiply(protected_sqrt(multiply(e, e)), protected_div(subtract(b, c), protected_sqrt(c))))\n",
      "square(multiply(protected_sqrt(e), protected_sqrt(a)))\n",
      "protected_sqrt(square(subtract(add(c, a), protected_sqrt(c))))\n",
      "square(c)\n",
      "square(multiply(multiply(c, c), protected_div(c, d)))\n",
      "protected_sqrt(multiply(subtract(protected_sqrt(multiply(c, d)), d), square(subtract(a, multiply(e, c)))))\n",
      "add(a, d)\n",
      "protected_sqrt(e)\n",
      "add(add(multiply(add(protected_sqrt(a), subtract(e, e)), subtract(square(c), protected_sqrt(b))), multiply(square(protected_div(d, c)), protected_div(add(c, c), multiply(b, d)))), subtract(protected_sqrt(add(protected_sqrt(b), protected_div(d, b))), protected_sqrt(square(subtract(b, b)))))\n",
      "protected_div(protected_sqrt(add(e, e)), e)\n",
      "protected_div(protected_div(b, d), a)\n",
      "protected_sqrt(e)\n",
      "square(square(d))\n",
      "add(add(multiply(b, e), subtract(b, c)), protected_sqrt(subtract(b, b)))\n",
      "subtract(subtract(square(multiply(e, a)), subtract(protected_sqrt(e), protected_div(a, d))), protected_sqrt(square(protected_div(e, c))))\n",
      "multiply(b, multiply(c, a))\n",
      "add(a, add(d, e))\n",
      "protected_sqrt(c)\n",
      "add(b, b)\n",
      "multiply(b, a)\n",
      "protected_div(square(protected_sqrt(add(e, e))), protected_div(add(subtract(c, d), protected_sqrt(b)), d))\n",
      "protected_sqrt(protected_sqrt(square(subtract(c, a))))\n",
      "subtract(c, square(b))\n",
      "protected_sqrt(e)\n",
      "multiply(subtract(protected_sqrt(protected_sqrt(protected_sqrt(b))), subtract(protected_sqrt(square(e)), subtract(multiply(d, b), subtract(d, b)))), protected_sqrt(add(multiply(square(c), protected_div(a, e)), add(add(d, e), protected_sqrt(d)))))\n",
      "square(protected_sqrt(subtract(multiply(e, c), protected_div(b, c))))\n",
      "protected_div(multiply(subtract(square(protected_sqrt(b)), square(protected_sqrt(c))), square(square(multiply(e, b)))), protected_div(multiply(subtract(square(c), add(e, e)), add(multiply(d, c), add(d, b))), subtract(protected_sqrt(subtract(a, d)), square(subtract(a, a)))))\n",
      "multiply(square(add(e, a)), multiply(protected_div(d, d), protected_div(b, c)))\n",
      "add(e, a)\n",
      "add(protected_div(square(subtract(e, c)), c), a)\n",
      "square(e)\n",
      "add(d, add(a, d))\n",
      "protected_div(subtract(square(square(a)), subtract(protected_sqrt(d), subtract(e, d))), multiply(protected_sqrt(b), square(e)))\n",
      "protected_div(protected_sqrt(protected_sqrt(e)), multiply(protected_sqrt(c), subtract(b, a)))\n",
      "multiply(multiply(a, b), multiply(d, c))\n",
      "subtract(subtract(multiply(square(a), add(c, a)), protected_sqrt(subtract(b, b))), add(add(square(e), protected_div(c, b)), square(add(c, b))))\n",
      "subtract(protected_div(add(c, e), b), c)\n",
      "protected_sqrt(b)\n",
      "protected_sqrt(add(square(c), protected_sqrt(a)))\n",
      "protected_div(protected_sqrt(multiply(add(c, d), square(e))), protected_sqrt(protected_sqrt(subtract(d, b))))\n",
      "subtract(protected_div(square(e), add(e, b)), square(multiply(a, b)))\n",
      "protected_sqrt(add(protected_div(multiply(protected_div(d, c), protected_sqrt(d)), protected_div(add(c, a), add(c, c))), square(protected_div(protected_sqrt(c), protected_div(d, b)))))\n",
      "add(b, b)\n",
      "protected_div(b, multiply(e, multiply(multiply(subtract(c, b), multiply(a, e)), e)))\n",
      "square(multiply(protected_sqrt(c), protected_div(b, e)))\n",
      "subtract(d, a)\n",
      "protected_div(multiply(square(subtract(multiply(c, d), protected_div(a, a))), square(protected_div(add(b, e), protected_sqrt(d)))), subtract(add(subtract(square(b), subtract(e, b)), add(protected_div(a, d), square(e))), subtract(add(protected_div(c, b), square(d)), protected_sqrt(multiply(d, a)))))\n",
      "multiply(protected_div(protected_sqrt(subtract(protected_sqrt(d), add(b, b))), add(add(multiply(e, c), subtract(c, d)), protected_div(subtract(d, d), add(c, b)))), multiply(subtract(square(multiply(b, c)), add(protected_sqrt(a), subtract(b, e))), add(protected_sqrt(subtract(d, c)), multiply(protected_div(b, e), square(e)))))\n",
      "protected_div(subtract(d, b), protected_sqrt(protected_div(b, b)))\n",
      "protected_sqrt(square(protected_sqrt(e)))\n",
      "square(add(square(add(c, d)), multiply(square(c), multiply(d, a))))\n",
      "protected_div(square(d), square(multiply(b, d)))\n",
      "subtract(multiply(e, square(d)), c)\n",
      "square(protected_sqrt(c))\n",
      "multiply(protected_div(d, e), multiply(e, a))\n",
      "square(protected_sqrt(b))\n",
      "square(protected_div(a, a))\n",
      "square(c)\n",
      "multiply(square(protected_sqrt(multiply(c, b))), b)\n",
      "protected_sqrt(e)\n",
      "multiply(d, a)\n",
      "add(protected_sqrt(square(subtract(square(a), add(b, c)))), protected_sqrt(square(multiply(multiply(b, c), multiply(c, d)))))\n",
      "subtract(e, b)\n",
      "add(a, a)\n",
      "add(protected_div(d, a), add(a, e))\n",
      "square(protected_div(e, c))\n",
      "multiply(protected_sqrt(add(e, d)), square(protected_sqrt(protected_div(d, b))))\n",
      "add(protected_div(c, b), protected_sqrt(e))\n",
      "protected_div(protected_div(c, d), c)\n",
      "subtract(protected_div(square(subtract(subtract(a, e), multiply(a, e))), protected_sqrt(protected_sqrt(subtract(d, c)))), subtract(protected_div(subtract(protected_div(a, e), square(d)), square(square(a))), add(add(protected_div(b, c), multiply(c, d)), add(protected_sqrt(a), multiply(b, d)))))\n",
      "protected_sqrt(c)\n",
      "multiply(subtract(e, e), multiply(b, b))\n",
      "add(square(add(b, a)), protected_sqrt(square(c)))\n",
      "multiply(protected_div(a, b), b)\n",
      "subtract(protected_sqrt(protected_div(square(square(b)), protected_sqrt(subtract(c, c)))), protected_div(protected_div(protected_sqrt(c), b), b))\n",
      "protected_div(square(b), b)\n",
      "subtract(multiply(add(subtract(protected_sqrt(c), d), protected_div(multiply(a, e), e)), protected_div(protected_sqrt(d), a)), e)\n",
      "square(subtract(subtract(subtract(square(c), subtract(b, c)), square(multiply(b, e))), multiply(multiply(multiply(d, c), subtract(d, a)), square(protected_sqrt(a)))))\n",
      "add(multiply(a, subtract(subtract(protected_div(e, e), multiply(b, d)), add(add(b, a), d))), c)\n",
      "multiply(protected_sqrt(protected_sqrt(b)), add(square(a), square(d)))\n",
      "multiply(e, protected_sqrt(e))\n",
      "square(e)\n",
      "protected_sqrt(d)\n",
      "protected_div(protected_div(b, b), protected_div(d, square(protected_sqrt(b))))\n",
      "subtract(e, protected_div(c, square(protected_sqrt(d))))\n",
      "multiply(protected_div(e, protected_sqrt(subtract(a, multiply(c, a)))), multiply(subtract(protected_div(c, c), b), subtract(b, a)))\n",
      "protected_sqrt(protected_div(subtract(a, a), multiply(c, a)))\n",
      "protected_sqrt(add(subtract(e, subtract(d, c)), protected_sqrt(multiply(e, e))))\n",
      "subtract(e, b)\n",
      "add(b, a)\n",
      "subtract(c, a)\n",
      "subtract(multiply(protected_div(protected_sqrt(c), protected_div(b, e)), protected_sqrt(add(b, a))), protected_sqrt(add(add(e, e), square(c))))\n",
      "multiply(protected_sqrt(square(add(a, e))), subtract(protected_sqrt(protected_div(d, c)), subtract(protected_div(b, a), protected_div(c, d))))\n",
      "multiply(protected_sqrt(subtract(subtract(protected_sqrt(c), multiply(a, d)), subtract(square(a), subtract(b, d)))), add(square(add(add(d, d), square(d))), square(protected_div(square(b), protected_sqrt(b)))))\n",
      "square(subtract(square(square(a)), multiply(protected_div(e, c), add(c, c))))\n",
      "multiply(d, b)\n",
      "add(protected_div(protected_div(a, a), multiply(a, a)), add(square(e), protected_sqrt(e)))\n",
      "protected_div(d, square(protected_sqrt(b)))\n",
      "protected_div(c, c)\n",
      "square(a)\n",
      "multiply(square(e), protected_div(b, e))\n",
      "multiply(a, d)\n",
      "protected_sqrt(subtract(protected_sqrt(multiply(a, b)), multiply(subtract(e, e), subtract(b, c))))\n",
      "add(protected_sqrt(a), c)\n",
      "protected_div(protected_div(a, a), square(e))\n",
      "multiply(c, d)\n",
      "protected_div(protected_sqrt(protected_sqrt(square(d))), square(square(multiply(a, c))))\n",
      "multiply(subtract(square(c), protected_sqrt(a)), protected_sqrt(square(a)))\n",
      "square(protected_div(square(b), b))\n",
      "add(square(a), multiply(c, c))\n",
      "multiply(b, square(a))\n",
      "protected_sqrt(a)\n",
      "protected_div(multiply(b, b), subtract(a, b))\n",
      "subtract(square(c), add(d, d))\n",
      "add(subtract(b, b), square(b))\n",
      "protected_div(a, a)\n",
      "protected_div(protected_div(subtract(c, d), protected_div(d, e)), protected_sqrt(protected_sqrt(b)))\n",
      "square(d)\n",
      "subtract(protected_div(multiply(protected_div(a, e), square(e)), add(multiply(c, c), square(b))), protected_sqrt(subtract(subtract(b, d), add(e, c))))\n",
      "protected_sqrt(multiply(c, a))\n",
      "square(subtract(b, add(d, e)))\n",
      "square(e)\n",
      "multiply(multiply(protected_div(e, b), add(e, e)), square(multiply(d, a)))\n",
      "add(c, a)\n",
      "multiply(protected_sqrt(protected_sqrt(add(e, e))), protected_sqrt(square(protected_div(c, d))))\n",
      "add(e, c)\n",
      "protected_sqrt(multiply(d, c))\n",
      "multiply(multiply(b, d), c)\n",
      "add(square(d), multiply(e, a))\n",
      "square(a)\n",
      "protected_div(square(add(a, a)), protected_div(add(b, d), protected_sqrt(c)))\n",
      "add(add(c, e), subtract(d, d))\n",
      "multiply(b, a)\n",
      "add(protected_div(a, a), e)\n",
      "protected_div(square(protected_sqrt(c)), multiply(multiply(multiply(e, b), e), c))\n",
      "multiply(b, e)\n",
      "square(protected_div(protected_sqrt(d), multiply(c, c)))\n",
      "add(protected_sqrt(d), b)\n",
      "add(add(subtract(protected_sqrt(e), add(a, a)), protected_div(multiply(e, c), protected_div(b, e))), protected_div(protected_sqrt(subtract(e, b)), square(add(d, d))))\n",
      "add(d, a)\n",
      "add(d, b)\n",
      "protected_sqrt(subtract(protected_sqrt(b), protected_div(e, b)))\n",
      "protected_sqrt(add(add(subtract(subtract(b, b), square(a)), protected_sqrt(protected_div(a, c))), multiply(add(square(a), protected_div(c, c)), add(protected_sqrt(d), protected_sqrt(b)))))\n",
      "square(add(add(multiply(e, b), multiply(c, d)), multiply(square(b), protected_div(a, b))))\n",
      "protected_sqrt(add(protected_sqrt(add(subtract(b, e), subtract(c, b))), multiply(square(subtract(c, a)), protected_div(subtract(e, d), subtract(e, a)))))\n",
      "multiply(d, b)\n",
      "square(multiply(c, b))\n",
      "protected_sqrt(subtract(add(subtract(subtract(e, c), add(d, d)), subtract(square(b), protected_div(b, e))), protected_sqrt(square(protected_sqrt(a)))))\n",
      "subtract(protected_sqrt(a), b)\n",
      "protected_div(protected_div(c, b), protected_div(c, c))\n",
      "protected_div(b, d)\n",
      "protected_sqrt(d)\n",
      "multiply(d, b)\n",
      "protected_div(subtract(square(subtract(add(d, e), add(e, a))), protected_div(square(protected_sqrt(a)), protected_div(square(b), protected_sqrt(c)))), add(multiply(square(protected_sqrt(c)), subtract(protected_div(d, d), multiply(e, c))), add(multiply(subtract(d, c), add(e, a)), add(subtract(e, a), square(e)))))\n",
      "multiply(protected_sqrt(square(protected_div(d, a))), subtract(add(protected_div(a, d), protected_div(c, b)), add(protected_sqrt(e), subtract(a, c))))\n",
      "protected_sqrt(protected_div(subtract(multiply(add(b, a), multiply(c, e)), square(square(b))), protected_sqrt(protected_sqrt(subtract(a, b)))))\n",
      "subtract(c, e)\n",
      "protected_div(subtract(protected_div(c, add(add(d, a), protected_div(a, a))), protected_div(b, d)), a)\n",
      "subtract(subtract(a, d), protected_div(protected_sqrt(b), multiply(b, multiply(b, e))))\n",
      "subtract(protected_sqrt(multiply(subtract(add(c, a), square(d)), square(multiply(d, c)))), add(protected_sqrt(subtract(protected_div(c, c), protected_sqrt(d))), square(protected_sqrt(protected_div(b, b)))))\n",
      "square(multiply(c, d))\n",
      "square(multiply(multiply(c, b), square(protected_div(e, c))))\n",
      "protected_div(c, c)\n",
      "protected_sqrt(b)\n",
      "protected_div(protected_sqrt(multiply(e, e)), protected_div(subtract(a, b), protected_sqrt(b)))\n",
      "subtract(protected_sqrt(b), protected_sqrt(d))\n",
      "add(a, e)\n",
      "add(protected_div(multiply(protected_sqrt(add(e, a)), protected_div(square(c), protected_sqrt(d))), square(protected_sqrt(protected_sqrt(b)))), protected_sqrt(protected_sqrt(protected_div(protected_sqrt(d), protected_div(b, d)))))\n",
      "subtract(square(d), protected_div(d, d))\n",
      "protected_div(e, c)\n",
      "protected_sqrt(add(e, c))\n",
      "protected_div(subtract(square(e), a), d)\n",
      "add(b, e)\n",
      "subtract(d, c)\n",
      "subtract(square(d), multiply(d, d))\n",
      "protected_div(e, b)\n",
      "multiply(protected_sqrt(e), multiply(b, c))\n",
      "multiply(subtract(a, d), square(c))\n",
      "protected_div(subtract(d, d), subtract(a, d))\n",
      "add(protected_div(add(c, c), protected_div(b, a)), add(protected_sqrt(a), add(b, e)))\n",
      "add(d, add(b, c))\n",
      "subtract(protected_sqrt(protected_div(protected_div(square(a), add(e, e)), subtract(protected_div(e, b), add(b, c)))), multiply(protected_sqrt(multiply(multiply(a, d), multiply(e, d))), subtract(multiply(subtract(d, d), subtract(a, a)), multiply(protected_div(c, c), multiply(d, d)))))\n",
      "subtract(a, b)\n",
      "protected_div(a, d)\n",
      "subtract(b, a)\n",
      "protected_div(protected_div(add(square(b), multiply(c, a)), multiply(add(a, c), subtract(e, e))), multiply(protected_sqrt(protected_div(d, a)), subtract(square(a), protected_sqrt(b))))\n",
      "add(protected_sqrt(protected_div(e, a)), multiply(square(d), protected_sqrt(d)))\n",
      "protected_sqrt(a)\n",
      "protected_sqrt(subtract(multiply(square(protected_div(e, c)), multiply(multiply(b, a), add(a, b))), square(square(protected_div(b, a)))))\n",
      "square(e)\n",
      "add(protected_sqrt(e), protected_div(c, add(protected_sqrt(add(b, a)), c)))\n",
      "multiply(square(add(b, c)), protected_sqrt(add(e, c)))\n",
      "protected_sqrt(add(c, subtract(square(subtract(d, c)), protected_div(d, a))))\n",
      "add(add(square(protected_div(d, e)), protected_div(subtract(a, b), multiply(e, d))), protected_sqrt(add(protected_div(d, e), protected_div(a, c))))\n",
      "protected_sqrt(e)\n",
      "add(square(multiply(protected_sqrt(c), subtract(c, a))), c)\n",
      "multiply(a, protected_sqrt(square(add(c, c))))\n",
      "protected_sqrt(c)\n",
      "square(subtract(add(protected_sqrt(add(b, a)), protected_div(multiply(e, b), subtract(e, b))), square(protected_div(add(e, d), protected_sqrt(c)))))\n",
      "protected_div(protected_div(a, e), add(e, c))\n",
      "protected_sqrt(e)\n",
      "subtract(protected_sqrt(add(d, a)), square(subtract(e, d)))\n",
      "add(protected_div(a, square(c)), protected_sqrt(e))\n",
      "add(a, subtract(multiply(b, b), a))\n",
      "protected_div(square(protected_div(square(e), e)), a)\n",
      "square(add(protected_sqrt(protected_sqrt(d)), add(multiply(c, a), protected_sqrt(b))))\n",
      "add(protected_sqrt(add(protected_div(square(b), multiply(a, e)), add(add(c, d), subtract(c, c)))), multiply(subtract(protected_div(subtract(c, e), multiply(d, a)), protected_sqrt(multiply(e, d))), protected_div(protected_div(square(d), square(a)), protected_div(add(a, d), protected_div(a, a)))))\n",
      "add(d, d)\n",
      "subtract(e, d)\n",
      "protected_div(subtract(a, d), d)\n",
      "protected_div(subtract(multiply(b, protected_div(b, b)), e), e)\n",
      "protected_div(d, c)\n",
      "protected_sqrt(protected_div(protected_div(c, protected_sqrt(b)), a))\n",
      "add(d, add(square(e), multiply(a, d)))\n",
      "protected_div(multiply(d, protected_div(b, c)), add(square(e), protected_sqrt(protected_sqrt(b))))\n"
     ]
    }
   ],
   "source": [
    "for ind in population_history:\n",
    "    print(str(ind))"
   ]
  },
  {
   "cell_type": "code",
   "execution_count": 26,
   "metadata": {},
   "outputs": [
    {
     "data": {
      "text/plain": [
       "__main__.GP"
      ]
     },
     "execution_count": 26,
     "metadata": {},
     "output_type": "execute_result"
    }
   ],
   "source": [
    "type(population[0])"
   ]
  },
  {
   "cell_type": "code",
   "execution_count": 27,
   "metadata": {},
   "outputs": [
    {
     "data": {
      "text/plain": [
       "5"
      ]
     },
     "execution_count": 27,
     "metadata": {},
     "output_type": "execute_result"
    }
   ],
   "source": [
    "len(population[0].pop)"
   ]
  },
  {
   "cell_type": "code",
   "execution_count": 28,
   "metadata": {},
   "outputs": [
    {
     "data": {
      "text/plain": [
       "11"
      ]
     },
     "execution_count": 28,
     "metadata": {},
     "output_type": "execute_result"
    }
   ],
   "source": [
    "len((population[0].pop)[0])"
   ]
  },
  {
   "cell_type": "code",
   "execution_count": 29,
   "metadata": {},
   "outputs": [
    {
     "data": {
      "text/plain": [
       "5"
      ]
     },
     "execution_count": 29,
     "metadata": {},
     "output_type": "execute_result"
    }
   ],
   "source": [
    "test2 = []\n",
    "test2.extend(tree for tree in population[0].pop)\n",
    "len(test2)"
   ]
  },
  {
   "cell_type": "markdown",
   "metadata": {},
   "source": [
    "#### Parent selection"
   ]
  },
  {
   "cell_type": "code",
   "execution_count": null,
   "metadata": {},
   "outputs": [],
   "source": [
    "# Fivefold cross-validation\n",
    "fold_size = 5\n",
    "kf = KFold(n_splits=fold_size)\n",
    "\n",
    "# Fitness vector\n",
    "fit_vec = np.zeros((s, fold_size))\n",
    "count = 0\n",
    "\n",
    "for train_index, valid_index in kf.split(dataset):\n",
    "    print(\"TRAIN:\", len(train_index), \"TEST:\", len(valid_index))\n",
    "    train, valid = dataset.iloc[train_index], dataset.iloc[valid_index]\n",
    "    for i in range(1):\n",
    "        population[i].inputword = train[0].str.split().apply(lambda x: x[:5])\n",
    "        population[i].realword = train[0].str.split().str.get(5)\n",
    "        # Parent selection\n",
    "        # parent_num = random.randint(0, s - 1)  # Randomly select another individual\n",
    "        # tree_num = random.randint(0, m - 1)  # Randomly select a tree from each individual\n",
    "        candidates = tools.selRandom(population[i].pop, 3)\n",
    "        sorted_candidates = sorted(candidates, key=lambda x: x.fitness.values)  # Small to large\n",
    "        print(f\"sorted_candidates: {[ind.fitness.values for ind in sorted_candidates]}\")\n"
   ]
  },
  {
   "cell_type": "markdown",
   "metadata": {},
   "source": [
    "#### Crossover"
   ]
  },
  {
   "cell_type": "code",
   "execution_count": 213,
   "metadata": {},
   "outputs": [
    {
     "name": "stdout",
     "output_type": "stream",
     "text": [
      "offspring: add(subtract(a, d), e)\n",
      "offspring: add(subtract(a, d), e)\n",
      "offspring: add(subtract(subtract(e, c), subtract(b, a)), e)\n"
     ]
    }
   ],
   "source": [
    "for i in range(1):\n",
    "    parent1, parent2 = copy.deepcopy(candidates[0]), copy.deepcopy(candidates[1])\n",
    "\n",
    "    # End if the offspring is not repeated\n",
    "    is_new_ind = False\n",
    "    while (not is_new_ind):\n",
    "        offspring = population[i].toolbox.crossover(parent1, parent2)\n",
    "        print(f\"offspring: {offspring[0]}\")\n",
    "        if not (offspring[0] in population_history):\n",
    "            is_new_ind = True\n",
    "    population_history.append(offspring[0])\n",
    "    # Evaluate new fitness value\n",
    "    # offspring[0].fitness.values = population[i].toolbox.evaluate(offspring[0], population[i].inputword)\n"
   ]
  },
  {
   "cell_type": "markdown",
   "metadata": {},
   "source": [
    "##### Test"
   ]
  },
  {
   "cell_type": "code",
   "execution_count": 30,
   "metadata": {},
   "outputs": [],
   "source": [
    "parent_test1 = copy.deepcopy((population[0].pop)[0])\n",
    "parent_test2 = copy.deepcopy((population[3].pop)[3])"
   ]
  },
  {
   "cell_type": "code",
   "execution_count": null,
   "metadata": {},
   "outputs": [],
   "source": [
    "parent_test2.__str__()"
   ]
  },
  {
   "cell_type": "code",
   "execution_count": null,
   "metadata": {},
   "outputs": [],
   "source": [
    "type(parent_test2)"
   ]
  },
  {
   "cell_type": "code",
   "execution_count": null,
   "metadata": {},
   "outputs": [],
   "source": [
    "for ind in population_history:\n",
    "    print(str(ind))"
   ]
  },
  {
   "cell_type": "code",
   "execution_count": null,
   "metadata": {},
   "outputs": [],
   "source": [
    "test3 = gp.PrimitiveTree.from_string(\"add(protected_div(c, c), c)\", pset=population[0].pset)\n",
    "test3"
   ]
  },
  {
   "cell_type": "code",
   "execution_count": 77,
   "metadata": {},
   "outputs": [],
   "source": [
    "for ind in population_history:\n",
    "    if str(ind) == str(test3):\n",
    "        print(\"found\")"
   ]
  },
  {
   "cell_type": "code",
   "execution_count": null,
   "metadata": {},
   "outputs": [],
   "source": [
    "test3 in population_history"
   ]
  },
  {
   "cell_type": "code",
   "execution_count": 214,
   "metadata": {},
   "outputs": [
    {
     "name": "stdout",
     "output_type": "stream",
     "text": [
      "add\n",
      "subtract\n",
      "subtract\n",
      "ARG4\n",
      "ARG2\n",
      "subtract\n",
      "ARG1\n",
      "ARG0\n",
      "ARG4\n"
     ]
    }
   ],
   "source": [
    "for node in offspring[0]:\n",
    "    print(node.name)"
   ]
  },
  {
   "cell_type": "code",
   "execution_count": 215,
   "metadata": {},
   "outputs": [
    {
     "data": {
      "text/plain": [
       "'add(subtract(subtract(e, c), subtract(b, a)), e)'"
      ]
     },
     "execution_count": 215,
     "metadata": {},
     "output_type": "execute_result"
    }
   ],
   "source": [
    "offspring[0].__str__()"
   ]
  },
  {
   "cell_type": "code",
   "execution_count": 216,
   "metadata": {},
   "outputs": [
    {
     "data": {
      "text/plain": [
       "9"
      ]
     },
     "execution_count": 216,
     "metadata": {},
     "output_type": "execute_result"
    }
   ],
   "source": [
    "len(offspring[0])"
   ]
  },
  {
   "cell_type": "code",
   "execution_count": 181,
   "metadata": {},
   "outputs": [
    {
     "data": {
      "text/plain": [
       "deap.creator.Individual"
      ]
     },
     "execution_count": 181,
     "metadata": {},
     "output_type": "execute_result"
    }
   ],
   "source": [
    "type(offspring[0])"
   ]
  },
  {
   "cell_type": "code",
   "execution_count": 217,
   "metadata": {},
   "outputs": [
    {
     "data": {
      "text/plain": [
       "[<deap.gp.Primitive at 0x7fdab3faa3b0>,\n",
       " <deap.gp.Primitive at 0x7fdab3faa540>,\n",
       " <deap.gp.Primitive at 0x7fdab3faa540>,\n",
       " <deap.gp.Terminal at 0x7fda74f95f00>,\n",
       " <deap.gp.Terminal at 0x7fda74f95a40>,\n",
       " <deap.gp.Primitive at 0x7fdab3faa540>,\n",
       " <deap.gp.Terminal at 0x7fda74f95780>,\n",
       " <deap.gp.Terminal at 0x7fda74f95d40>,\n",
       " <deap.gp.Terminal at 0x7fda74f95f00>]"
      ]
     },
     "execution_count": 217,
     "metadata": {},
     "output_type": "execute_result"
    }
   ],
   "source": [
    "offspring[0]"
   ]
  },
  {
   "cell_type": "markdown",
   "metadata": {},
   "source": [
    "#### Mutation"
   ]
  },
  {
   "cell_type": "code",
   "execution_count": 218,
   "metadata": {},
   "outputs": [
    {
     "name": "stdout",
     "output_type": "stream",
     "text": [
      "offspring: add(subtract(subtract(e, c), subtract(b, add(c, b))), e)\n",
      "offspring: add(subtract(protected_sqrt(multiply(b, d)), subtract(b, add(c, b))), e)\n",
      "offspring: add(add(c, d), e)\n",
      "offspring: add(protected_sqrt(square(d)), e)\n",
      "offspring: add(add(protected_div(c, a), b), e)\n",
      "offspring: add(add(protected_div(multiply(b, subtract(a, e)), a), b), e)\n",
      "offspring: add(add(protected_div(multiply(b, subtract(a, e)), a), b), e)\n"
     ]
    }
   ],
   "source": [
    "# Mutation\n",
    "# count = 0\n",
    "for i in range(1):\n",
    "    # End if the offspring is not repeated\n",
    "    is_new_ind = False\n",
    "    while (not is_new_ind):\n",
    "        # offspring = population[i].toolbox.mutate(offspring)\n",
    "        offspring = [population[i].toolbox.mutate(individual)[0] for individual in offspring]\n",
    "        # print(f\"count: {count}\")\n",
    "        # count += 1\n",
    "        print(f\"offspring: {offspring[0]}\")\n",
    "        if not (offspring[0] in population_history):\n",
    "            is_new_ind = True\n",
    "    population_history.append(offspring[0])\n",
    "\n",
    "    # Evaluate new fitness value\n",
    "    # offspring[0].fitness.values = population[i].toolbox.evaluate(offspring[0], population[i].inputword)\n"
   ]
  },
  {
   "cell_type": "markdown",
   "metadata": {},
   "source": [
    "##### Test"
   ]
  },
  {
   "cell_type": "code",
   "execution_count": 219,
   "metadata": {},
   "outputs": [
    {
     "data": {
      "text/plain": [
       "'add(add(protected_div(multiply(b, subtract(a, e)), a), b), e)'"
      ]
     },
     "execution_count": 219,
     "metadata": {},
     "output_type": "execute_result"
    }
   ],
   "source": [
    "str(offspring[0])"
   ]
  },
  {
   "cell_type": "markdown",
   "metadata": {},
   "source": [
    "#### Survivor selection"
   ]
  },
  {
   "cell_type": "code",
   "execution_count": 232,
   "metadata": {},
   "outputs": [],
   "source": [
    "for i in range(1):\n",
    "    # Evaluate new fitness value\n",
    "    offspring[0].fitness.values = population[i].toolbox.evaluate(offspring[0], population[i].inputword)\n",
    "\n",
    "    if offspring[0].fitness.values > sorted_candidates[2].fitness.values:\n",
    "        idx = population[i].pop.index(sorted_candidates[2])\n",
    "        population[i].pop[idx] = offspring[0]"
   ]
  },
  {
   "cell_type": "markdown",
   "metadata": {},
   "source": [
    "##### Test"
   ]
  },
  {
   "cell_type": "code",
   "execution_count": null,
   "metadata": {},
   "outputs": [],
   "source": [
    "offspring[0].fitness.values = population[i].toolbox.evaluate(offspring[0], population[i].inputword)"
   ]
  },
  {
   "cell_type": "code",
   "execution_count": null,
   "metadata": {},
   "outputs": [
    {
     "name": "stdout",
     "output_type": "stream",
     "text": [
      "offspring: (0.21631643317361815,)\n",
      "sorted_candidates[2]: (0.0005105780727209425,)\n"
     ]
    },
    {
     "data": {
      "text/plain": [
       "True"
      ]
     },
     "metadata": {},
     "output_type": "display_data"
    }
   ],
   "source": [
    "print(f\"offspring: {offspring[0].fitness.values}\")\n",
    "print(f\"sorted_candidates[2]: {sorted_candidates[2].fitness.values}\")\n",
    "offspring[0].fitness.values > sorted_candidates[2].fitness.values"
   ]
  },
  {
   "cell_type": "code",
   "execution_count": 223,
   "metadata": {},
   "outputs": [
    {
     "data": {
      "text/plain": [
       "'subtract(subtract(subtract(e, c), subtract(b, a)), subtract(protected_div(d, e), protected_sqrt(c)))'"
      ]
     },
     "execution_count": 223,
     "metadata": {},
     "output_type": "execute_result"
    }
   ],
   "source": [
    "str(sorted_candidates[2])"
   ]
  },
  {
   "cell_type": "code",
   "execution_count": 224,
   "metadata": {},
   "outputs": [
    {
     "data": {
      "text/plain": [
       "(0.0005105780727209425,)"
      ]
     },
     "execution_count": 224,
     "metadata": {},
     "output_type": "execute_result"
    }
   ],
   "source": [
    "sorted_candidates[2].fitness.values"
   ]
  },
  {
   "cell_type": "code",
   "execution_count": 229,
   "metadata": {},
   "outputs": [
    {
     "data": {
      "text/plain": [
       "0"
      ]
     },
     "execution_count": 229,
     "metadata": {},
     "output_type": "execute_result"
    }
   ],
   "source": [
    "idx = population[0].pop.index(sorted_candidates[2])\n",
    "idx"
   ]
  },
  {
   "cell_type": "code",
   "execution_count": 230,
   "metadata": {},
   "outputs": [
    {
     "data": {
      "text/plain": [
       "'subtract(subtract(subtract(e, c), subtract(b, a)), subtract(protected_div(d, e), protected_sqrt(c)))'"
      ]
     },
     "execution_count": 230,
     "metadata": {},
     "output_type": "execute_result"
    }
   ],
   "source": [
    "str(population[0].pop[idx])"
   ]
  },
  {
   "cell_type": "code",
   "execution_count": 233,
   "metadata": {},
   "outputs": [
    {
     "data": {
      "text/plain": [
       "'add(add(protected_div(multiply(b, subtract(a, e)), a), b), e)'"
      ]
     },
     "execution_count": 233,
     "metadata": {},
     "output_type": "execute_result"
    }
   ],
   "source": [
    "str(population[0].pop[idx])"
   ]
  },
  {
   "cell_type": "markdown",
   "metadata": {},
   "source": [
    "#### Validation"
   ]
  },
  {
   "cell_type": "code",
   "execution_count": 234,
   "metadata": {},
   "outputs": [
    {
     "name": "stdout",
     "output_type": "stream",
     "text": [
      "(0.21631643317361815,)\n",
      "(0.0,)\n",
      "(0.0007900872193458331,)\n",
      "(0.00032505390795039164,)\n",
      "(0.00039713937229500946,)\n"
     ]
    }
   ],
   "source": [
    "# For the remaining fold: validate the model\n",
    "count = 0\n",
    "for i in range(1):\n",
    "    population[i].inputword = valid[0].str.split().apply(lambda x: x[:5])\n",
    "    population[i].realword = valid[0].str.split().str.get(5)\n",
    "\n",
    "    # Concatenate these five loss values into a fitness vector\n",
    "    cur_fitness = []\n",
    "    for ind in population[i].pop:\n",
    "        cur_fitness.append(ind.fitness.values[0])\n",
    "        print(ind.fitness.values)\n",
    "    fit_vec[count] = np.array(cur_fitness)"
   ]
  },
  {
   "cell_type": "markdown",
   "metadata": {},
   "source": [
    "##### Test"
   ]
  },
  {
   "cell_type": "code",
   "execution_count": 235,
   "metadata": {},
   "outputs": [
    {
     "data": {
      "text/plain": [
       "array([0.21631643, 0.        , 0.00079009, 0.00032505, 0.00039714])"
      ]
     },
     "execution_count": 235,
     "metadata": {},
     "output_type": "execute_result"
    }
   ],
   "source": [
    "fit_vec[0]"
   ]
  },
  {
   "cell_type": "code",
   "execution_count": 252,
   "metadata": {},
   "outputs": [
    {
     "data": {
      "text/plain": [
       "(50, 5)"
      ]
     },
     "execution_count": 252,
     "metadata": {},
     "output_type": "execute_result"
    }
   ],
   "source": [
    "fit_vec.shape"
   ]
  },
  {
   "cell_type": "markdown",
   "metadata": {},
   "source": [
    "#### Fivefold cross-validation"
   ]
  },
  {
   "cell_type": "code",
   "execution_count": null,
   "metadata": {},
   "outputs": [],
   "source": [
    "# Fivefold cross-validation\n",
    "fold_size = 5\n",
    "kf = KFold(n_splits=fold_size)\n",
    "\n",
    "# Fitness vector\n",
    "fit_vec = np.zeros((s, fold_size))\n",
    "theta_j = 0\n",
    "count = 0\n",
    "\n",
    "for train_index, valid_index in kf.split(dataset):\n",
    "    print(\"TRAIN:\", len(train_index), \"TEST:\", len(valid_index))\n",
    "    train, valid = dataset.iloc[train_index], dataset.iloc[valid_index]\n",
    "    # For four folds: train the DT model\n",
    "    for i in range(s):\n",
    "        population[i].inputword = train[0].str.split().apply(lambda x: x[:5])\n",
    "        population[i].realword = train[0].str.split().str.get(5)\n",
    "\n",
    "        # Parent selection\n",
    "        candidates = select_p(population[i])\n",
    "        # Crossover the two trees\n",
    "        offspring = crossover_for_one_ind(population[i], candidates)\n",
    "\n",
    "        # Mutation\n",
    "        offspring = mutate_for_one_ind(population[i])\n",
    "\n",
    "        # Survivor selection\n",
    "        select_s(population[i], candidates, offspring)\n",
    "\n",
    "    # For the remaining fold: validate the model\n",
    "        population[i].inputword = valid[0].str.split().apply(lambda x: x[:5])\n",
    "        population[i].realword = valid[0].str.split().str.get(5)\n",
    "\n",
    "        # Concatenate these five loss values into a fitness vector\n",
    "        cur_fitness = validate(individual)\n",
    "        fit_vec[count] = np.array(cur_fitness)\n",
    "\n",
    "        # Select the best individual: Automatic lexicase selection\n",
    "        theta_j = compute_threshold(fit_vec)\n",
    "\n",
    "    count += 1\n",
    "\n"
   ]
  },
  {
   "cell_type": "markdown",
   "metadata": {},
   "source": [
    "#### Forest selection"
   ]
  },
  {
   "cell_type": "markdown",
   "metadata": {},
   "source": [
    "##### Test"
   ]
  },
  {
   "cell_type": "code",
   "execution_count": 337,
   "metadata": {},
   "outputs": [],
   "source": [
    "fit_vec2 = np.zeros((s, m))"
   ]
  },
  {
   "cell_type": "code",
   "execution_count": 339,
   "metadata": {},
   "outputs": [
    {
     "data": {
      "text/plain": [
       "(50, 5)"
      ]
     },
     "execution_count": 339,
     "metadata": {},
     "output_type": "execute_result"
    }
   ],
   "source": [
    "indices2 = np.arange(len(fit_vec2))\n",
    "fit_vec2[indices2].shape"
   ]
  },
  {
   "cell_type": "code",
   "execution_count": 256,
   "metadata": {},
   "outputs": [],
   "source": [
    "# Select the best individual: Automatic lexicase selection\n",
    "    # Fitness vector L: i-th individual's fitness vector\n",
    "    # While the number of selected individuals == s\n",
    "        # Randomly choose an index j\n",
    "            # j = np.random.randint(m)\n",
    "        # Threshold theta = min(L_i[j]) + medien(abs(L_i[j] + median(L_k[j]))\n",
    "            # Calculate the median absolute deviation (MAD)\n",
    "                # fitness_j = [L[j] for L in individauls]\n",
    "                # median_j = np.median(fitness_j)\n",
    "                # mad_j = np.median([abs(f - median_j) for f in fitness_j])\n",
    "\n",
    "                # theta_j = np.min(fitness_j) + mad_j\n",
    "\n",
    "\n",
    "# Select the best individual: Automatic lexicase selection\n",
    "j = np.random.randint(0, m)\n",
    "# Threshold theta = min(L_i[j]) + median(abs(L_i[j] + median(L_k[j]))\n",
    "# Calculate the median absolute deviation (MAD)\n",
    "fitness_j = [individual[j] for individual in fit_vec]\n",
    "median_j = np.median(fitness_j)\n",
    "mad_j = np.median([abs(f - median_j) for f in fitness_j])\n",
    "theta_j = np.min(fitness_j) + mad_j  # Calculate the threshold theta\n"
   ]
  },
  {
   "cell_type": "code",
   "execution_count": 292,
   "metadata": {},
   "outputs": [],
   "source": [
    "\n",
    "indices = np.arange(s)\n",
    "select_ind = None\n",
    "# For each individual\n",
    "for i in range(s):\n",
    "    # j-th fitness element > theta\n",
    "    if fit_vec[i][j] > theta_j:\n",
    "        # preserve the individual\n",
    "        pass\n",
    "    else:\n",
    "        indices = np.delete(indices, np.where(indices == i))\n",
    "    # print(f\"{i}: indices: {len(indices)}, {indices}\")\n",
    "\n",
    "    # Case 1: > 1, then repeat the filtering process\n",
    "    if len(indices) > 1:\n",
    "        continue\n",
    "    # Case 2: == 1, then select the individual\n",
    "    elif len(indices) == 1:\n",
    "        select_ind = indices[0]\n",
    "    # Case 3: == 0, then randomly select an individual\n",
    "    else:\n",
    "        select_ind = np.random.randint(0, s)\n"
   ]
  },
  {
   "cell_type": "code",
   "execution_count": 255,
   "metadata": {},
   "outputs": [
    {
     "data": {
      "text/plain": [
       "50"
      ]
     },
     "execution_count": 255,
     "metadata": {},
     "output_type": "execute_result"
    }
   ],
   "source": [
    "len([individual[j] for individual in fit_vec])"
   ]
  },
  {
   "cell_type": "code",
   "execution_count": 257,
   "metadata": {},
   "outputs": [
    {
     "data": {
      "text/plain": [
       "3"
      ]
     },
     "execution_count": 257,
     "metadata": {},
     "output_type": "execute_result"
    }
   ],
   "source": [
    "j"
   ]
  },
  {
   "cell_type": "code",
   "execution_count": 258,
   "metadata": {},
   "outputs": [
    {
     "data": {
      "text/plain": [
       "50"
      ]
     },
     "execution_count": 258,
     "metadata": {},
     "output_type": "execute_result"
    }
   ],
   "source": [
    "len(fitness_j)"
   ]
  },
  {
   "cell_type": "code",
   "execution_count": 259,
   "metadata": {},
   "outputs": [
    {
     "data": {
      "text/plain": [
       "0.0"
      ]
     },
     "execution_count": 259,
     "metadata": {},
     "output_type": "execute_result"
    }
   ],
   "source": [
    "median_j"
   ]
  },
  {
   "cell_type": "code",
   "execution_count": 260,
   "metadata": {},
   "outputs": [
    {
     "data": {
      "text/plain": [
       "0.0"
      ]
     },
     "execution_count": 260,
     "metadata": {},
     "output_type": "execute_result"
    }
   ],
   "source": [
    "mad_j"
   ]
  },
  {
   "cell_type": "code",
   "execution_count": 261,
   "metadata": {},
   "outputs": [
    {
     "data": {
      "text/plain": [
       "0.0"
      ]
     },
     "execution_count": 261,
     "metadata": {},
     "output_type": "execute_result"
    }
   ],
   "source": [
    "theta_j"
   ]
  },
  {
   "cell_type": "code",
   "execution_count": 265,
   "metadata": {},
   "outputs": [
    {
     "data": {
      "text/plain": [
       "True"
      ]
     },
     "execution_count": 265,
     "metadata": {},
     "output_type": "execute_result"
    }
   ],
   "source": [
    "fit_vec[0][j] > theta_j"
   ]
  },
  {
   "cell_type": "code",
   "execution_count": 266,
   "metadata": {},
   "outputs": [
    {
     "data": {
      "text/plain": [
       "<__main__.GP at 0x7fda6bb3d3a0>"
      ]
     },
     "execution_count": 266,
     "metadata": {},
     "output_type": "execute_result"
    }
   ],
   "source": [
    "last_ind = population[-1]\n",
    "last_ind"
   ]
  },
  {
   "cell_type": "code",
   "execution_count": 267,
   "metadata": {},
   "outputs": [],
   "source": [
    "del population[-1]"
   ]
  },
  {
   "cell_type": "code",
   "execution_count": 269,
   "metadata": {},
   "outputs": [],
   "source": [
    "population.append(last_ind)"
   ]
  },
  {
   "cell_type": "code",
   "execution_count": 270,
   "metadata": {},
   "outputs": [
    {
     "data": {
      "text/plain": [
       "50"
      ]
     },
     "execution_count": 270,
     "metadata": {},
     "output_type": "execute_result"
    }
   ],
   "source": [
    "len(population)"
   ]
  },
  {
   "cell_type": "code",
   "execution_count": 280,
   "metadata": {},
   "outputs": [
    {
     "data": {
      "text/plain": [
       "array([0, 1])"
      ]
     },
     "execution_count": 280,
     "metadata": {},
     "output_type": "execute_result"
    }
   ],
   "source": [
    "test4 = np.arange(2)\n",
    "test4"
   ]
  },
  {
   "cell_type": "code",
   "execution_count": 281,
   "metadata": {},
   "outputs": [
    {
     "data": {
      "text/plain": [
       "array([1])"
      ]
     },
     "execution_count": 281,
     "metadata": {},
     "output_type": "execute_result"
    }
   ],
   "source": [
    "test4 = np.delete(test4, 0)\n",
    "test4"
   ]
  },
  {
   "cell_type": "code",
   "execution_count": 282,
   "metadata": {},
   "outputs": [
    {
     "data": {
      "text/plain": [
       "1"
      ]
     },
     "execution_count": 282,
     "metadata": {},
     "output_type": "execute_result"
    }
   ],
   "source": [
    "test4[0]"
   ]
  },
  {
   "cell_type": "code",
   "execution_count": 293,
   "metadata": {},
   "outputs": [
    {
     "data": {
      "text/plain": [
       "0"
      ]
     },
     "execution_count": 293,
     "metadata": {},
     "output_type": "execute_result"
    }
   ],
   "source": [
    "select_ind"
   ]
  },
  {
   "cell_type": "markdown",
   "metadata": {},
   "source": [
    "#### Archive"
   ]
  },
  {
   "cell_type": "code",
   "execution_count": null,
   "metadata": {},
   "outputs": [],
   "source": [
    "# Archive the best individual\n",
    "archive = []\n",
    "\n",
    "#?: For each selected individual\n",
    "\n",
    "# If the number of selected individuals < remain num_archive\n",
    "if len(archive) < num_archive:\n",
    "    archive.append((population[select_ind], np.average(fit_vec[select_ind])))  # Add to the archive\n",
    "    archive = sorted(archive, key=lambda ind: ind[1])\n",
    "# replace the worst individual in the archive with the best individual\n",
    "else:\n",
    "    # Find the minimum fitness value; fitness value = average of the fitness vector\n",
    "    archive[0] = (population[select_ind], fit_vec[select_ind]) if fit_vec[select_ind] > archive[0][1] else archive[0]\n"
   ]
  },
  {
   "cell_type": "markdown",
   "metadata": {},
   "source": [
    "##### Test"
   ]
  },
  {
   "cell_type": "code",
   "execution_count": 322,
   "metadata": {},
   "outputs": [
    {
     "name": "stdout",
     "output_type": "stream",
     "text": [
      "1\n"
     ]
    },
    {
     "data": {
      "text/plain": [
       "[(<__main__.GP at 0x7fda7545b1c0>, 0.04356574273464188)]"
      ]
     },
     "execution_count": 322,
     "metadata": {},
     "output_type": "execute_result"
    }
   ],
   "source": [
    "archive = []\n",
    "archive.append((population[select_ind], np.average(fit_vec[select_ind])))\n",
    "print(len(archive))\n",
    "archive"
   ]
  },
  {
   "cell_type": "code",
   "execution_count": 323,
   "metadata": {},
   "outputs": [
    {
     "data": {
      "text/plain": [
       "[(<__main__.GP at 0x7fda742fbfd0>, 0.0),\n",
       " (<__main__.GP at 0x7fda7545b1c0>, 0.04356574273464188)]"
      ]
     },
     "execution_count": 323,
     "metadata": {},
     "output_type": "execute_result"
    }
   ],
   "source": [
    "archive.append((population[1], np.average(fit_vec[1])))\n",
    "archive = sorted(archive, key=lambda ind: ind[1])\n",
    "archive"
   ]
  },
  {
   "cell_type": "code",
   "execution_count": 315,
   "metadata": {},
   "outputs": [
    {
     "name": "stdout",
     "output_type": "stream",
     "text": [
      "[(0.00039713937229500946,), (0.0007900872193458331,), (0.0007900872193458331,), (0.21631643317361815,), (0.21631643317361815,)]\n"
     ]
    }
   ],
   "source": [
    "if fit_vec[select_ind] > archive[0][1]:\n",
    "    archive[0] = (population[select_ind], fit_vec[select_ind])"
   ]
  }
 ],
 "metadata": {
  "kernelspec": {
   "display_name": "env_p",
   "language": "python",
   "name": "python3"
  },
  "language_info": {
   "codemirror_mode": {
    "name": "ipython",
    "version": 3
   },
   "file_extension": ".py",
   "mimetype": "text/x-python",
   "name": "python",
   "nbconvert_exporter": "python",
   "pygments_lexer": "ipython3",
   "version": "3.9.19"
  }
 },
 "nbformat": 4,
 "nbformat_minor": 2
}
