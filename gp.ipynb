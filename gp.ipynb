{
 "cells": [
  {
   "cell_type": "code",
   "execution_count": 1,
   "metadata": {},
   "outputs": [
    {
     "name": "stdout",
     "output_type": "stream",
     "text": [
      "/home/nlplab/atwolin/EC/EC-term-paper\n"
     ]
    }
   ],
   "source": [
    "import deap\n",
    "import numpy as np\n",
    "from data import get_embeddings"
   ]
  },
  {
   "cell_type": "code",
   "execution_count": null,
   "metadata": {},
   "outputs": [],
   "source": [
    "# Load embeddings\n",
    "embeddings = get_embeddings(\"word2vec\", 10)"
   ]
  },
  {
   "cell_type": "code",
   "execution_count": null,
   "metadata": {},
   "outputs": [],
   "source": [
    "# Initiate primitive set\n",
    "def protected_div(a, b):\n",
    "    return np.divide(a, b, out=np.zeros_like(a), whrere=(b != 0))\n",
    "\n",
    "# pset = PrimitiveSetTyped(\"prim_set\", [float, float])\n",
    "# pset.addPrimitive(np.add, [float, float], float)\n",
    "# pset.addPrimitive(np.sub, [float, float], float)\n",
    "# pset.addPrimitive(np.mul, [float, float], float)\n",
    "# pset.addPrimitive(protected_div, [float, float], float)\n",
    "# pset.addPrimitive(np.squre, [float], float)\n",
    "# pset.addPrimitive(np.sqrt, [float], float)\n",
    "\n",
    "# Function set\n",
    "pset = PrimitiveSetTyped(\"prim_set\", 2)\n",
    "pset.addPrimitive(np.add, 2)\n",
    "pset.addPrimitive(np.sub, 2)\n",
    "pset.addPrimitive(np.mul, 2)\n",
    "pset.addPrimitive(protected_div, 2)\n",
    "pset.addPrimitive(np.squre, 2)\n",
    "pset.addPrimitive(np.sqrt, 2)\n",
    "# Terminal set\n",
    "pset.addTerminal(embeddings)"
   ]
  },
  {
   "cell_type": "code",
   "execution_count": null,
   "metadata": {},
   "outputs": [],
   "source": [
    "# Crossover\n",
    "def replace_subtree(ind, path, subtree):\n",
    "    node = ind\n",
    "    for p in path[:-1]:\n",
    "        node = node.args[p]\n",
    "    node.args[path[-1]] = subtree[0]\n",
    "\n",
    "def cxOnePoint(ind1, ind2):\n",
    "    \"\"\"Find the common region between two individuals and randomly select the crossover point as the root of the subtree in the region. Note that the subtree must be within the region.\n",
    "\n",
    "    :param ind1: First tree participating in the crossover.\n",
    "    :param ind2: Second tree participating in the crossover.\n",
    "    :returns: A tuple of one tree.\n",
    "    \"\"\"\n",
    "    # Find common regions in the trees\n",
    "    region = []\n",
    "    stack1 = [(ind1, [])]\n",
    "    stack2 = [(ind2, [])]\n",
    "\n",
    "    while stack1 and stack2:\n",
    "        node1, path1 = stack1.pop()\n",
    "        node2, path2 = stack2.pop()\n",
    "\n",
    "        # If paths are the same, add to the region\n",
    "        if path1 == path2:\n",
    "            region.append(node1, node2, path1)\n",
    "\n",
    "        # Traverse children if both nodes are primitives with children\n",
    "        if isinstance(node1, gp.Primitive) and isinstance(node2, gp.Primitive):\n",
    "            for i, (child1, child2) in enumerate(zip(node1.args, node2.args)):\n",
    "                stack1.append((child1, path1 + [i]))\n",
    "                stack2.append((child2, path2 + [i]))\n",
    "\n",
    "    # Select a crossover point from the region at random\n",
    "    if region:\n",
    "        node1, node2, path = random.choice(region)\n",
    "        subtree1 = gp.PrimitiveTree([node1])\n",
    "        subtree2 = gp.PrimitiveTree([node2])\n",
    "\n",
    "        # Swap subtrees\n",
    "        replace_subtree(ind, path, subtree2)\n",
    "        replace_subtree(in2, path, subtree1)\n",
    "\n",
    "    return ind1, ind2"
   ]
  }
 ],
 "metadata": {
  "kernelspec": {
   "display_name": "env_gp",
   "language": "python",
   "name": "python3"
  },
  "language_info": {
   "codemirror_mode": {
    "name": "ipython",
    "version": 3
   },
   "file_extension": ".py",
   "mimetype": "text/x-python",
   "name": "python",
   "nbconvert_exporter": "python",
   "pygments_lexer": "ipython3",
   "version": "3.10.4"
  }
 },
 "nbformat": 4,
 "nbformat_minor": 2
}
