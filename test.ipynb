{
 "cells": [
  {
   "cell_type": "code",
   "execution_count": 2,
   "metadata": {},
   "outputs": [],
   "source": [
    "import pandas as pd\n",
    "import os\n",
    "import re\n",
    "import random\n",
    "import random\n",
    "from deap import base, creator, gp, tools\n",
    "import operator\n",
    "from collections import defaultdict\n",
    "import matplotlib.pyplot as plt\n",
    "# import networkx as nx\n",
    "# from networkx.drawing.nx_agraph import graphviz_layout\n",
    "import pygraphviz as pgv"
   ]
  },
  {
   "cell_type": "markdown",
   "metadata": {},
   "source": [
    "# Data"
   ]
  },
  {
   "cell_type": "code",
   "execution_count": 3,
   "metadata": {},
   "outputs": [],
   "source": [
    "cur_path = os.getcwd()\n",
    "PATH = re.search(r\"(.*EC-term-paper)\", cur_path).group(0)\n",
    "# print(PATH)"
   ]
  },
  {
   "cell_type": "code",
   "execution_count": null,
   "metadata": {},
   "outputs": [],
   "source": [
    "partition_idx = 0\n",
    "n = 500\n",
    "df = pd.read_csv(\n",
    "        f\"./data/partition/partition_{partition_idx}.txt\", sep=\"\\t\", header=None\n",
    "    )\n",
    "# Get a sub-dataset\n",
    "idx = random.sample(range(0, len(df)), n)\n",
    "\n",
    "data = df.iloc[idx]"
   ]
  },
  {
   "cell_type": "code",
   "execution_count": null,
   "metadata": {},
   "outputs": [
    {
     "data": {
      "text/html": [
       "<div>\n",
       "<style scoped>\n",
       "    .dataframe tbody tr th:only-of-type {\n",
       "        vertical-align: middle;\n",
       "    }\n",
       "\n",
       "    .dataframe tbody tr th {\n",
       "        vertical-align: top;\n",
       "    }\n",
       "\n",
       "    .dataframe thead th {\n",
       "        text-align: right;\n",
       "    }\n",
       "</style>\n",
       "<table border=\"1\" class=\"dataframe\">\n",
       "  <thead>\n",
       "    <tr style=\"text-align: right;\">\n",
       "      <th></th>\n",
       "      <th>0</th>\n",
       "    </tr>\n",
       "  </thead>\n",
       "  <tbody>\n",
       "    <tr>\n",
       "      <th>2769</th>\n",
       "      <td>authority says protesters not bright sparks</td>\n",
       "    </tr>\n",
       "    <tr>\n",
       "      <th>2026</th>\n",
       "      <td>witnesses questioned over head on crash</td>\n",
       "    </tr>\n",
       "    <tr>\n",
       "      <th>1518</th>\n",
       "      <td>victory aware of disciplinary issues allsopp</td>\n",
       "    </tr>\n",
       "    <tr>\n",
       "      <th>2753</th>\n",
       "      <td>no tennant creek wind farm guarantee</td>\n",
       "    </tr>\n",
       "    <tr>\n",
       "      <th>1776</th>\n",
       "      <td>howard denies govt ignoring renewable energy</td>\n",
       "    </tr>\n",
       "    <tr>\n",
       "      <th>...</th>\n",
       "      <td>...</td>\n",
       "    </tr>\n",
       "    <tr>\n",
       "      <th>1770</th>\n",
       "      <td>owen to retire at seasons end</td>\n",
       "    </tr>\n",
       "    <tr>\n",
       "      <th>630</th>\n",
       "      <td>govt on attack over budget leaks</td>\n",
       "    </tr>\n",
       "    <tr>\n",
       "      <th>983</th>\n",
       "      <td>wallabies rest stars ahead of cup</td>\n",
       "    </tr>\n",
       "    <tr>\n",
       "      <th>260</th>\n",
       "      <td>brazil dam desperate search for survivors</td>\n",
       "    </tr>\n",
       "    <tr>\n",
       "      <th>1385</th>\n",
       "      <td>storm founder gives evidence at inquiry</td>\n",
       "    </tr>\n",
       "  </tbody>\n",
       "</table>\n",
       "<p>500 rows × 1 columns</p>\n",
       "</div>"
      ],
      "text/plain": [
       "                                                 0\n",
       "2769   authority says protesters not bright sparks\n",
       "2026       witnesses questioned over head on crash\n",
       "1518  victory aware of disciplinary issues allsopp\n",
       "2753          no tennant creek wind farm guarantee\n",
       "1776  howard denies govt ignoring renewable energy\n",
       "...                                            ...\n",
       "1770                 owen to retire at seasons end\n",
       "630               govt on attack over budget leaks\n",
       "983              wallabies rest stars ahead of cup\n",
       "260      brazil dam desperate search for survivors\n",
       "1385       storm founder gives evidence at inquiry\n",
       "\n",
       "[500 rows x 1 columns]"
      ]
     },
     "execution_count": 30,
     "metadata": {},
     "output_type": "execute_result"
    }
   ],
   "source": [
    "data"
   ]
  },
  {
   "cell_type": "code",
   "execution_count": null,
   "metadata": {},
   "outputs": [
    {
     "name": "stdout",
     "output_type": "stream",
     "text": [
      "/home/nlplab/atwolin/EC/EC-term-paper\n"
     ]
    }
   ],
   "source": [
    "cur_path = os.getcwd()\n",
    "match = re.search(r'(.*EC-term-paper)', cur_path).group(0)\n",
    "print(match)"
   ]
  },
  {
   "cell_type": "code",
   "execution_count": 4,
   "metadata": {},
   "outputs": [
    {
     "data": {
      "text/html": [
       "<div>\n",
       "<style scoped>\n",
       "    .dataframe tbody tr th:only-of-type {\n",
       "        vertical-align: middle;\n",
       "    }\n",
       "\n",
       "    .dataframe tbody tr th {\n",
       "        vertical-align: top;\n",
       "    }\n",
       "\n",
       "    .dataframe thead th {\n",
       "        text-align: right;\n",
       "    }\n",
       "</style>\n",
       "<table border=\"1\" class=\"dataframe\">\n",
       "  <thead>\n",
       "    <tr style=\"text-align: right;\">\n",
       "      <th></th>\n",
       "      <th>0</th>\n",
       "    </tr>\n",
       "  </thead>\n",
       "  <tbody>\n",
       "    <tr>\n",
       "      <th>0</th>\n",
       "      <td>federer captures connors grand slam mark</td>\n",
       "    </tr>\n",
       "    <tr>\n",
       "      <th>1</th>\n",
       "      <td>body building drugs worry mine industry</td>\n",
       "    </tr>\n",
       "    <tr>\n",
       "      <th>2</th>\n",
       "      <td>arts centre delay prompts lease plan</td>\n",
       "    </tr>\n",
       "    <tr>\n",
       "      <th>3</th>\n",
       "      <td>us troops aid philippines flood rescue</td>\n",
       "    </tr>\n",
       "    <tr>\n",
       "      <th>4</th>\n",
       "      <td>us italy consult over abbas extradition</td>\n",
       "    </tr>\n",
       "    <tr>\n",
       "      <th>...</th>\n",
       "      <td>...</td>\n",
       "    </tr>\n",
       "    <tr>\n",
       "      <th>266915</th>\n",
       "      <td>rain whitsundays brisbane bom flood watch</td>\n",
       "    </tr>\n",
       "    <tr>\n",
       "      <th>266916</th>\n",
       "      <td>new zealands tsunami warning downgraded after</td>\n",
       "    </tr>\n",
       "    <tr>\n",
       "      <th>266917</th>\n",
       "      <td>eye gaze technology helps nowra woman</td>\n",
       "    </tr>\n",
       "    <tr>\n",
       "      <th>266918</th>\n",
       "      <td>indi mp backs wangaratta meatworks plan</td>\n",
       "    </tr>\n",
       "    <tr>\n",
       "      <th>266919</th>\n",
       "      <td>tim cahill sits out aussie training</td>\n",
       "    </tr>\n",
       "  </tbody>\n",
       "</table>\n",
       "<p>266920 rows × 1 columns</p>\n",
       "</div>"
      ],
      "text/plain": [
       "                                                    0\n",
       "0            federer captures connors grand slam mark\n",
       "1             body building drugs worry mine industry\n",
       "2                arts centre delay prompts lease plan\n",
       "3              us troops aid philippines flood rescue\n",
       "4             us italy consult over abbas extradition\n",
       "...                                               ...\n",
       "266915      rain whitsundays brisbane bom flood watch\n",
       "266916  new zealands tsunami warning downgraded after\n",
       "266917          eye gaze technology helps nowra woman\n",
       "266918        indi mp backs wangaratta meatworks plan\n",
       "266919            tim cahill sits out aussie training\n",
       "\n",
       "[266920 rows x 1 columns]"
      ]
     },
     "execution_count": 4,
     "metadata": {},
     "output_type": "execute_result"
    }
   ],
   "source": [
    "df2 = pd.read_csv(f\"{PATH}/data/train/training.txt\", sep=\"\\t\", header=None)\n",
    "df2"
   ]
  },
  {
   "cell_type": "code",
   "execution_count": 7,
   "metadata": {},
   "outputs": [
    {
     "data": {
      "text/plain": [
       "2669"
      ]
     },
     "execution_count": 7,
     "metadata": {},
     "output_type": "execute_result"
    }
   ],
   "source": [
    "# Get a sub-dataset\n",
    "idx2 = random.sample(range(0, len(df2)), int(len(df2) * (0.01)))\n",
    "len(idx2)"
   ]
  },
  {
   "cell_type": "code",
   "execution_count": 9,
   "metadata": {},
   "outputs": [
    {
     "data": {
      "text/html": [
       "<div>\n",
       "<style scoped>\n",
       "    .dataframe tbody tr th:only-of-type {\n",
       "        vertical-align: middle;\n",
       "    }\n",
       "\n",
       "    .dataframe tbody tr th {\n",
       "        vertical-align: top;\n",
       "    }\n",
       "\n",
       "    .dataframe thead th {\n",
       "        text-align: right;\n",
       "    }\n",
       "</style>\n",
       "<table border=\"1\" class=\"dataframe\">\n",
       "  <thead>\n",
       "    <tr style=\"text-align: right;\">\n",
       "      <th></th>\n",
       "      <th>0</th>\n",
       "    </tr>\n",
       "  </thead>\n",
       "  <tbody>\n",
       "    <tr>\n",
       "      <th>37555</th>\n",
       "      <td>china economy gross domestic product data</td>\n",
       "    </tr>\n",
       "    <tr>\n",
       "      <th>185038</th>\n",
       "      <td>parents complicit in solomon islands child</td>\n",
       "    </tr>\n",
       "    <tr>\n",
       "      <th>42565</th>\n",
       "      <td>former vicar paedophiles jail sentence upheld</td>\n",
       "    </tr>\n",
       "    <tr>\n",
       "      <th>159063</th>\n",
       "      <td>pregnant woman killed in truck collision</td>\n",
       "    </tr>\n",
       "    <tr>\n",
       "      <th>14737</th>\n",
       "      <td>australia will dominate for years ponting</td>\n",
       "    </tr>\n",
       "  </tbody>\n",
       "</table>\n",
       "</div>"
      ],
      "text/plain": [
       "                                                    0\n",
       "37555       china economy gross domestic product data\n",
       "185038     parents complicit in solomon islands child\n",
       "42565   former vicar paedophiles jail sentence upheld\n",
       "159063       pregnant woman killed in truck collision\n",
       "14737       australia will dominate for years ponting"
      ]
     },
     "execution_count": 9,
     "metadata": {},
     "output_type": "execute_result"
    }
   ],
   "source": [
    "data2 = df2.iloc[idx2]\n",
    "data2.head()"
   ]
  },
  {
   "cell_type": "code",
   "execution_count": 10,
   "metadata": {},
   "outputs": [
    {
     "data": {
      "text/plain": [
       "2669"
      ]
     },
     "execution_count": 10,
     "metadata": {},
     "output_type": "execute_result"
    }
   ],
   "source": [
    "len(data2)"
   ]
  },
  {
   "cell_type": "markdown",
   "metadata": {},
   "source": [
    "# GP"
   ]
  },
  {
   "cell_type": "code",
   "execution_count": 7,
   "metadata": {},
   "outputs": [
    {
     "data": {
      "text/plain": [
       "2672"
      ]
     },
     "execution_count": 7,
     "metadata": {},
     "output_type": "execute_result"
    }
   ],
   "source": [
    "int(267292 * (0.01))"
   ]
  },
  {
   "cell_type": "code",
   "execution_count": 2,
   "metadata": {},
   "outputs": [
    {
     "name": "stderr",
     "output_type": "stream",
     "text": [
      "/home/nlplab/atwolin/EC/env_ec/lib/python3.12/site-packages/deap/gp.py:254: RuntimeWarning: Ephemeral rand101 function cannot be pickled because its generating function is a lambda function. Use functools.partial instead.\n",
      "  warnings.warn(\"Ephemeral {name} function cannot be \"\n"
     ]
    }
   ],
   "source": [
    "# Define the primitive set for a simple arithmetic expression\n",
    "def protected_div(a, b):\n",
    "    if abs(b) < 1e-6:\n",
    "        return 1\n",
    "    return a / b\n",
    "\n",
    "pset = gp.PrimitiveSet(\"MAIN\", 1)  # One input variable\n",
    "pset.addPrimitive(operator.add, 2)\n",
    "pset.addPrimitive(operator.sub, 2)\n",
    "pset.addPrimitive(operator.mul, 2)\n",
    "pset.addPrimitive(protected_div, 2)\n",
    "pset.addPrimitive(pow, 1)\n",
    "pset.addEphemeralConstant(\"rand101\", lambda: random.randint(-1, 1))  # Random constants\n",
    "pset.renameArguments(ARG0='x')\n",
    "\n",
    "# Define fitness and individual classes\n",
    "creator.create(\"FitnessMax\", base.Fitness, weights=(1.0,))\n",
    "creator.create(\"Individual\", gp.PrimitiveTree, fitness=creator.FitnessMax, pset=pset)\n",
    "\n",
    "# Generate example individuals\n",
    "toolbox = base.Toolbox()\n",
    "toolbox.register(\"expr\", gp.genHalfAndHalf, pset=pset, min_=2, max_=5)\n",
    "toolbox.register(\"individual\", tools.initIterate, creator.Individual, toolbox.expr)\n"
   ]
  },
  {
   "cell_type": "code",
   "execution_count": 3,
   "metadata": {},
   "outputs": [],
   "source": [
    "__type__ = object"
   ]
  },
  {
   "cell_type": "code",
   "execution_count": 4,
   "metadata": {},
   "outputs": [
    {
     "name": "stdout",
     "output_type": "stream",
     "text": [
      "Parent 1: mul(mul(protected_div(x, sub(x, x)), sub(0, x)), sub(protected_div(x, x), sub(x, 1)))\n",
      "Parent 2: protected_div(mul(x, x), mul(mul(1, 1), sub(1, 1)))\n"
     ]
    }
   ],
   "source": [
    "# Define the example trees (Parents)\n",
    "# parent1_str = \"mul(mul(protected_div(x, x), pow(x)), sub(protected_div(x, x), x))\"\n",
    "# parent1_str = \"mul(mul(x, pow(x)), sub(protected_div(x, x), x))\"\n",
    "# parent2_str = \"protected_div(mul(pow(x), sub(x, -1)), mul(mul(1, 1), sub(1, 1)))\"\n",
    "parent1_str = \"mul(mul(protected_div(x, sub(x, x)), sub(0, x)), sub(protected_div(x, x), sub(x, 1)))\"\n",
    "parent2_str = \"protected_div(mul(x, x), mul(mul(1, 1), sub(1, 1)))\"\n",
    "\n",
    "parent1 = gp.PrimitiveTree.from_string(parent1_str, pset)\n",
    "parent2 = gp.PrimitiveTree.from_string(parent2_str, pset)\n",
    "\n",
    "print(\"Parent 1:\", parent1)\n",
    "print(\"Parent 2:\", parent2)"
   ]
  },
  {
   "cell_type": "code",
   "execution_count": 26,
   "metadata": {},
   "outputs": [],
   "source": [
    "def print_tree(individual, file_name):\n",
    "    nodes, edges, labels = gp.graph(individual)\n",
    "    g = pgv.AGraph()\n",
    "    g.add_nodes_from(nodes)\n",
    "    g.add_edges_from(edges)\n",
    "    g.layout(prog=\"dot\")\n",
    "\n",
    "    for i in nodes:\n",
    "        n = g.get_node(i)\n",
    "        n.attr[\"label\"] = labels[i]\n",
    "\n",
    "    g.draw(f\"{file_name}.pdf\")"
   ]
  },
  {
   "cell_type": "code",
   "execution_count": null,
   "metadata": {},
   "outputs": [],
   "source": [
    "g = nx.Graph()\n",
    "g.add_nodes_from(nodes)\n",
    "g.add_edges_from(edges)\n",
    "# pos = nx.graphviz_layout(g, prog=\"dot\", root=nodes[0])\n",
    "\n",
    "nx.draw_networkx_nodes(g, pos)\n",
    "nx.draw_networkx_edges(g, pos)\n",
    "nx.draw_networkx_labels(g, pos, labels)\n",
    "plt.show()"
   ]
  },
  {
   "cell_type": "markdown",
   "metadata": {},
   "source": [
    "## Tree's feature"
   ]
  },
  {
   "cell_type": "code",
   "execution_count": 15,
   "metadata": {},
   "outputs": [
    {
     "name": "stdout",
     "output_type": "stream",
     "text": [
      "Parent 1: pow(add(pow(0), pow(-1)))\n",
      "Parent 2: protected_div(sub(add(x, x), mul(0, 0)), mul(sub(-1, 1), 0))\n"
     ]
    }
   ],
   "source": [
    "ind1 = toolbox.individual()\n",
    "ind2 = toolbox.individual()\n",
    "\n",
    "print(\"Parent 1:\", ind1)\n",
    "print(\"Parent 2:\", ind2)"
   ]
  },
  {
   "cell_type": "code",
   "execution_count": 11,
   "metadata": {},
   "outputs": [
    {
     "data": {
      "text/plain": [
       "<deap.gp.Primitive at 0x7f2898620b80>"
      ]
     },
     "execution_count": 11,
     "metadata": {},
     "output_type": "execute_result"
    }
   ],
   "source": [
    "pset.primitives[object][0]"
   ]
  },
  {
   "cell_type": "code",
   "execution_count": 12,
   "metadata": {},
   "outputs": [
    {
     "name": "stdout",
     "output_type": "stream",
     "text": [
      "add(x, mul(x, 2))\n"
     ]
    }
   ],
   "source": [
    "# Create the tree manually\n",
    "expr = gp.PrimitiveTree.from_string(\"add(x , mul(x, 2))\", pset)\n",
    "\n",
    "print(expr)"
   ]
  },
  {
   "cell_type": "code",
   "execution_count": 13,
   "metadata": {},
   "outputs": [
    {
     "data": {
      "text/plain": [
       "object"
      ]
     },
     "execution_count": 13,
     "metadata": {},
     "output_type": "execute_result"
    }
   ],
   "source": [
    "expr.root.ret"
   ]
  },
  {
   "cell_type": "markdown",
   "metadata": {},
   "source": [
    "## Parents feature"
   ]
  },
  {
   "cell_type": "code",
   "execution_count": null,
   "metadata": {},
   "outputs": [
    {
     "name": "stdout",
     "output_type": "stream",
     "text": [
      "index 0, Function: mul, 2, [<class 'object'>, <class 'object'>], <class 'object'>, mul({0}, {1})\n",
      "index 1, Function: mul, 2, [<class 'object'>, <class 'object'>], <class 'object'>, mul({0}, {1})\n",
      "index 2, Function: protected_div, 2, [<class 'object'>, <class 'object'>], <class 'object'>, protected_div({0}, {1})\n",
      "index 3, Terminal: ARG0, 0, <class 'object'>, x, <class 'str'>\n",
      "index 4, Function: sub, 2, [<class 'object'>, <class 'object'>], <class 'object'>, sub({0}, {1})\n",
      "index 5, Terminal: ARG0, 0, <class 'object'>, x, <class 'str'>\n",
      "index 6, Terminal: ARG0, 0, <class 'object'>, x, <class 'str'>\n",
      "index 7, Function: sub, 2, [<class 'object'>, <class 'object'>], <class 'object'>, sub({0}, {1})\n",
      "index 8, Terminal: 0, 0, <class 'object'>, 0, <built-in function repr>\n",
      "index 9, Terminal: ARG0, 0, <class 'object'>, x, <class 'str'>\n",
      "index 10, Function: sub, 2, [<class 'object'>, <class 'object'>], <class 'object'>, sub({0}, {1})\n",
      "index 11, Function: protected_div, 2, [<class 'object'>, <class 'object'>], <class 'object'>, protected_div({0}, {1})\n",
      "index 12, Terminal: ARG0, 0, <class 'object'>, x, <class 'str'>\n",
      "index 13, Terminal: ARG0, 0, <class 'object'>, x, <class 'str'>\n",
      "index 14, Function: sub, 2, [<class 'object'>, <class 'object'>], <class 'object'>, sub({0}, {1})\n",
      "index 15, Terminal: ARG0, 0, <class 'object'>, x, <class 'str'>\n",
      "index 16, Terminal: 1, 0, <class 'object'>, 1, <built-in function repr>\n"
     ]
    }
   ],
   "source": [
    "for idx, node in enumerate(parent1):\n",
    "    if node.arity != 0:\n",
    "        print(f\"index {idx}, Function: {node.name}, {node.arity}, {node.args}, {node.ret}, {node.seq}\")\n",
    "    else:\n",
    "        print(f\"index {idx}, Terminal: {node.name}, {node.arity}, {node.ret}, {node.value}, {node.conv_fct}\")"
   ]
  },
  {
   "cell_type": "code",
   "execution_count": null,
   "metadata": {},
   "outputs": [
    {
     "name": "stdout",
     "output_type": "stream",
     "text": [
      "index 0, Function: mul, 2\n",
      "index 1, Function: mul, 2\n",
      "index 2, Function: protected_div, 2\n",
      "index 3, Terminal: ARG0, 0\n",
      "index 4, Terminal: ARG0, 0\n",
      "index 5, Function: pow, 1\n",
      "index 6, Terminal: ARG0, 0\n",
      "index 7, Function: sub, 2\n",
      "index 8, Function: protected_div, 2\n",
      "index 9, Terminal: ARG0, 0\n",
      "index 10, Terminal: ARG0, 0\n",
      "index 11, Terminal: ARG0, 0\n",
      "index 0, Function: protected_div, 2\n",
      "index 1, Function: mul, 2\n",
      "index 2, Function: pow, 1\n",
      "index 3, Terminal: ARG0, 0\n",
      "index 4, Function: sub, 2\n",
      "index 5, Terminal: ARG0, 0\n",
      "index 6, Terminal: -1, 0\n",
      "index 7, Function: mul, 2\n",
      "index 8, Function: mul, 2\n",
      "index 9, Terminal: 1, 0\n",
      "index 10, Terminal: 1, 0\n",
      "index 11, Function: sub, 2\n",
      "index 12, Terminal: 1, 0\n",
      "index 13, Terminal: 1, 0\n"
     ]
    }
   ],
   "source": [
    "for idx, node in enumerate(parent1):\n",
    "    if node.arity != 0:\n",
    "        print(f\"index {idx}, Function: {node.name}, {node.arity}\")\n",
    "    else:\n",
    "        print(f\"index {idx}, Terminal: {node.name}, {node.arity}\")\n",
    "for idx, node in enumerate(parent2):\n",
    "    if node.arity != 0:\n",
    "        print(f\"index {idx}, Function: {node.name}, {node.arity}\")\n",
    "    else:\n",
    "        print(f\"index {idx}, Terminal: {node.name}, {node.arity}\")"
   ]
  },
  {
   "cell_type": "code",
   "execution_count": null,
   "metadata": {},
   "outputs": [
    {
     "data": {
      "text/plain": [
       "deap.gp.PrimitiveTree"
      ]
     },
     "metadata": {},
     "output_type": "display_data"
    }
   ],
   "source": [
    "type(parent1)"
   ]
  },
  {
   "cell_type": "code",
   "execution_count": null,
   "metadata": {},
   "outputs": [
    {
     "data": {
      "text/plain": [
       "[0, 1, 5, 6, 7, 8]"
      ]
     },
     "metadata": {},
     "output_type": "display_data"
    }
   ],
   "source": [
    "types1[__type__]"
   ]
  },
  {
   "cell_type": "code",
   "execution_count": null,
   "metadata": {},
   "outputs": [
    {
     "data": {
      "text/plain": [
       "[0, 1, 7, 8, 9, 10]"
      ]
     },
     "metadata": {},
     "output_type": "display_data"
    }
   ],
   "source": [
    "types2[\"index\"]"
   ]
  },
  {
   "cell_type": "code",
   "execution_count": null,
   "metadata": {},
   "outputs": [
    {
     "data": {
      "text/plain": [
       "('mul(mul(protected_div(x, sub(x, x)), sub(0, x)), sub(protected_div(x, x), sub(x, 1)))',\n",
       " 'protected_div(mul(x, x), mul(mul(1, 1), sub(1, 1)))')"
      ]
     },
     "metadata": {},
     "output_type": "display_data"
    }
   ],
   "source": [
    "parent1.__str__(), parent2.__str__()"
   ]
  },
  {
   "cell_type": "code",
   "execution_count": null,
   "metadata": {},
   "outputs": [
    {
     "data": {
      "text/plain": [
       "17"
      ]
     },
     "metadata": {},
     "output_type": "display_data"
    }
   ],
   "source": [
    "len(parent1)"
   ]
  },
  {
   "cell_type": "markdown",
   "metadata": {},
   "source": [
    "## Provided crossover feature"
   ]
  },
  {
   "cell_type": "code",
   "execution_count": 19,
   "metadata": {},
   "outputs": [
    {
     "data": {
      "text/plain": [
       "defaultdict(list, {})"
      ]
     },
     "execution_count": 19,
     "metadata": {},
     "output_type": "execute_result"
    }
   ],
   "source": [
    "\n",
    "types = defaultdict(list)\n",
    "types"
   ]
  },
  {
   "cell_type": "code",
   "execution_count": 24,
   "metadata": {},
   "outputs": [
    {
     "name": "stdout",
     "output_type": "stream",
     "text": [
      "[(1, <deap.gp.Primitive object at 0x7fbf68719760>), (2, <deap.gp.Terminal object at 0x7fbfbc316780>), (3, <deap.gp.Primitive object at 0x7fbf68719bc0>), (4, <deap.gp.Terminal object at 0x7fbfbc316780>), (5, <deap.gp.Terminal object at 0x7fbf6869e180>)]\n"
     ]
    }
   ],
   "source": [
    "print(list(enumerate(expr[1:], 1)))"
   ]
  },
  {
   "cell_type": "code",
   "execution_count": 22,
   "metadata": {},
   "outputs": [
    {
     "data": {
      "text/plain": [
       "defaultdict(list, {object: [1, 2, 3, 4, 5]})"
      ]
     },
     "execution_count": 22,
     "metadata": {},
     "output_type": "execute_result"
    }
   ],
   "source": [
    "types[__type__] = list(range(1, len(expr)))\n",
    "types"
   ]
  },
  {
   "cell_type": "code",
   "execution_count": 61,
   "metadata": {},
   "outputs": [
    {
     "data": {
      "text/plain": [
       "[1, 2, 3, 4, 5]"
      ]
     },
     "execution_count": 61,
     "metadata": {},
     "output_type": "execute_result"
    }
   ],
   "source": [
    "types[__type__]"
   ]
  },
  {
   "cell_type": "code",
   "execution_count": 60,
   "metadata": {},
   "outputs": [
    {
     "data": {
      "text/plain": [
       "4"
      ]
     },
     "execution_count": 60,
     "metadata": {},
     "output_type": "execute_result"
    }
   ],
   "source": [
    "a = random.choice(types[__type__])\n",
    "a"
   ]
  },
  {
   "cell_type": "code",
   "execution_count": 18,
   "metadata": {},
   "outputs": [
    {
     "name": "stdout",
     "output_type": "stream",
     "text": [
      "ret: [<class 'object'>]\n"
     ]
    }
   ],
   "source": [
    "types1 = defaultdict(list)\n",
    "types2 = defaultdict(list)\n",
    "if ind1.root.ret == __type__:\n",
    "    # Not STGP optimization\n",
    "    types1[__type__] = list(range(1, len(ind1)))\n",
    "    types2[__type__] = list(range(1, len(ind2)))\n",
    "    common_types = [__type__]\n",
    "    print(f\"ret: {common_types}\")\n",
    "else:\n",
    "    for idx, node in enumerate(ind1[1:], 1):\n",
    "        types1[node.ret].append(idx)\n",
    "    for idx, node in enumerate(ind2[1:], 1):\n",
    "        types2[node.ret].append(idx)\n",
    "    common_types = set(types1.keys()).intersection(set(types2.keys()))\n",
    "    print(f\"not ret: {common_types}\")"
   ]
  },
  {
   "cell_type": "markdown",
   "metadata": {},
   "source": [
    "## Traversal for 1 tree"
   ]
  },
  {
   "cell_type": "code",
   "execution_count": 5,
   "metadata": {},
   "outputs": [
    {
     "ename": "NameError",
     "evalue": "name 'stack2' is not defined",
     "output_type": "error",
     "traceback": [
      "\u001b[0;31m---------------------------------------------------------------------------\u001b[0m",
      "\u001b[0;31mNameError\u001b[0m                                 Traceback (most recent call last)",
      "Cell \u001b[0;32mIn[5], line 6\u001b[0m\n\u001b[1;32m      4\u001b[0m \u001b[38;5;28;01mfor\u001b[39;00m node \u001b[38;5;129;01min\u001b[39;00m parent1:\n\u001b[1;32m      5\u001b[0m     stack\u001b[38;5;241m.\u001b[39mappend((node, []))\n\u001b[0;32m----> 6\u001b[0m     \u001b[43mstack2\u001b[49m\u001b[38;5;241m.\u001b[39mappend((node\u001b[38;5;241m.\u001b[39mname, []))\n\u001b[1;32m      7\u001b[0m     \u001b[38;5;28mprint\u001b[39m(\u001b[38;5;124mf\u001b[39m\u001b[38;5;124m\"\u001b[39m\u001b[38;5;124mstack2.append((node, [])): \u001b[39m\u001b[38;5;132;01m{\u001b[39;00mstack2\u001b[38;5;132;01m}\u001b[39;00m\u001b[38;5;124m\"\u001b[39m)\n\u001b[1;32m      8\u001b[0m     \u001b[38;5;28;01mwhile\u001b[39;00m \u001b[38;5;28mlen\u001b[39m(stack[\u001b[38;5;241m-\u001b[39m\u001b[38;5;241m1\u001b[39m][\u001b[38;5;241m1\u001b[39m]) \u001b[38;5;241m==\u001b[39m stack[\u001b[38;5;241m-\u001b[39m\u001b[38;5;241m1\u001b[39m][\u001b[38;5;241m0\u001b[39m]\u001b[38;5;241m.\u001b[39marity:\n",
      "\u001b[0;31mNameError\u001b[0m: name 'stack2' is not defined"
     ]
    }
   ],
   "source": [
    "string = \"\"\n",
    "stack = []\n",
    "stack2 = []\n",
    "for node in parent1:\n",
    "    stack.append((node, []))\n",
    "    stack2.append((node.name, []))\n",
    "    print(f\"stack2.append((node, [])): {stack2}\")\n",
    "    while len(stack[-1][1]) == stack[-1][0].arity:\n",
    "        print(f\"{len(stack[-1][1])}, {stack[-1][0].name}, {stack[-1][0].arity}, string: {prim.format(*args)}\")\n",
    "        prim, args = stack.pop()\n",
    "        _, _ = stack2.pop()\n",
    "        string = prim.format(*args)\n",
    "        print(f\"stack2: {stack2}\")\n",
    "        if len(stack) == 0:\n",
    "            break  # If stack is empty, all nodes should have been seen\n",
    "        stack[-1][1].append(string)\n",
    "        stack2[-1][1].append(string)\n",
    "        print(f\"stack2[-1][1].append(string): {stack2[-1][1]}\")\n",
    "    print(f\"==================stack2: {stack2}=================\")"
   ]
  },
  {
   "cell_type": "markdown",
   "metadata": {},
   "source": [
    "## Level order traversal"
   ]
  },
  {
   "cell_type": "code",
   "execution_count": 6,
   "metadata": {},
   "outputs": [],
   "source": [
    "def combine(stack):\n",
    "\n",
    "    while (len(stack[-1][1]) == stack[-1][0].arity and len(stack[-1][1]) < 2):\n",
    "        print(f\"len(stack[-1][1]={len(stack[-1][1])}, stack[-1][0].arity={stack[-1][0].arity}\")\n",
    "        prim, args, i2 = stack.pop()\n",
    "        string = prim.format(*args)\n",
    "        if len(stack) == 0:\n",
    "            break\n",
    "\n",
    "        stack[-1][1].append(string)\n",
    "        print(f\"[UPDATE] append stack: {stack[-1][1]}\")\n",
    "        print(f\"stack: {stack}, {stack[-1][0].arity}\")"
   ]
  },
  {
   "cell_type": "code",
   "execution_count": 156,
   "metadata": {},
   "outputs": [
    {
     "name": "stdout",
     "output_type": "stream",
     "text": [
      "================================NEW================================\n",
      "append stack1: mul\n",
      "append stack2: protected_div\n",
      "stack1: [(<deap.gp.Primitive object at 0x7f9c25798b80>, [], 0)]\n",
      "stack2: [(<deap.gp.Primitive object at 0x7f9c25798cc0>, [], 0)]\n",
      "-------------1 loop for combine------------\n",
      "================================NEW================================\n",
      "append stack1: mul\n",
      "append stack2: mul\n",
      "stack1: [(<deap.gp.Primitive object at 0x7f9c25798b80>, [], 0), (<deap.gp.Primitive object at 0x7f9c25798b80>, [], 1)]\n",
      "stack2: [(<deap.gp.Primitive object at 0x7f9c25798cc0>, [], 0), (<deap.gp.Primitive object at 0x7f9c25798b80>, [], 1)]\n",
      "-------------1 loop for combine------------\n",
      "================================NEW================================\n",
      "append stack1: protected_div\n",
      "append stack2: ARG0\n",
      "stack1: [(<deap.gp.Primitive object at 0x7f9c25798b80>, [], 0), (<deap.gp.Primitive object at 0x7f9c25798b80>, [], 1), (<deap.gp.Primitive object at 0x7f9c25798cc0>, [], 2)]\n",
      "stack2: [(<deap.gp.Primitive object at 0x7f9c25798cc0>, [], 0), (<deap.gp.Primitive object at 0x7f9c25798b80>, [], 1), (<deap.gp.Terminal object at 0x7f9c257b07c0>, [], 2)]\n",
      "res1: 2, res2: 0\n",
      "[WHILE -1] res1: 1\n",
      "[WHILE +arity] res1: 1\n",
      "combine\n",
      "len(stack[-1][1]=0, stack[-1][0].arity=0\n",
      "[UPDATE] append stack: ['x']\n",
      "stack: [(<deap.gp.Primitive object at 0x7f9c25798b80>, [], 0), (<deap.gp.Primitive object at 0x7f9c25798b80>, [], 1), (<deap.gp.Primitive object at 0x7f9c25798cc0>, ['x'], 2)], 2\n",
      "[WHILE -1] res1: 0\n",
      "[WHILE +arity] res1: 2\n",
      "combine\n",
      "[WHILE -1] res1: 1\n",
      "[WHILE +arity] res1: 1\n",
      "combine\n",
      "len(stack[-1][1]=0, stack[-1][0].arity=0\n",
      "[UPDATE] append stack: ['x']\n",
      "stack: [(<deap.gp.Primitive object at 0x7f9c25798b80>, [], 0), (<deap.gp.Primitive object at 0x7f9c25798b80>, [], 1), (<deap.gp.Primitive object at 0x7f9c25798cc0>, ['x'], 2), (<deap.gp.Primitive object at 0x7f9c25798b30>, ['x'], 4)], 2\n",
      "[WHILE -1] res1: 0\n",
      "[WHILE +arity] res1: 0\n",
      "combine\n",
      "len(stack[-1][1]=0, stack[-1][0].arity=0\n",
      "[UPDATE] append stack: ['x', 'x']\n",
      "stack: [(<deap.gp.Primitive object at 0x7f9c25798b80>, [], 0), (<deap.gp.Primitive object at 0x7f9c25798b80>, [], 1), (<deap.gp.Primitive object at 0x7f9c25798cc0>, ['x'], 2), (<deap.gp.Primitive object at 0x7f9c25798b30>, ['x', 'x'], 4)], 2\n",
      "----------------------------------------STACK 2----------------------------------------\n",
      "-------------1 loop for combine------------\n",
      "len(stack[-1][1]=0, stack[-1][0].arity=0\n",
      "[UPDATE] append stack: ['x']\n",
      "stack: [(<deap.gp.Primitive object at 0x7f9c25798cc0>, [], 0), (<deap.gp.Primitive object at 0x7f9c25798b80>, ['x'], 1)], 2\n",
      "================================NEW================================\n",
      "append stack1: sub\n",
      "append stack2: ARG0\n",
      "stack1: [(<deap.gp.Primitive object at 0x7f9c25798b80>, [], 0), (<deap.gp.Primitive object at 0x7f9c25798b80>, [], 1), (<deap.gp.Primitive object at 0x7f9c25798cc0>, ['x'], 2), (<deap.gp.Primitive object at 0x7f9c25798b30>, ['x', 'x'], 4), (<deap.gp.Primitive object at 0x7f9c25798b30>, [], 7)]\n",
      "stack2: [(<deap.gp.Primitive object at 0x7f9c25798cc0>, [], 0), (<deap.gp.Primitive object at 0x7f9c25798b80>, ['x'], 1), (<deap.gp.Terminal object at 0x7f9c257b07c0>, [], 3)]\n",
      "res1: 2, res2: 0\n",
      "[WHILE -1] res1: 1\n",
      "[WHILE +arity] res1: 1\n",
      "combine\n",
      "len(stack[-1][1]=0, stack[-1][0].arity=0\n",
      "[UPDATE] append stack: ['0']\n",
      "stack: [(<deap.gp.Primitive object at 0x7f9c25798b80>, [], 0), (<deap.gp.Primitive object at 0x7f9c25798b80>, [], 1), (<deap.gp.Primitive object at 0x7f9c25798cc0>, ['x'], 2), (<deap.gp.Primitive object at 0x7f9c25798b30>, ['x', 'x'], 4), (<deap.gp.Primitive object at 0x7f9c25798b30>, ['0'], 7)], 2\n",
      "[WHILE -1] res1: 0\n",
      "[WHILE +arity] res1: 0\n",
      "combine\n",
      "len(stack[-1][1]=0, stack[-1][0].arity=0\n",
      "[UPDATE] append stack: ['0', 'x']\n",
      "stack: [(<deap.gp.Primitive object at 0x7f9c25798b80>, [], 0), (<deap.gp.Primitive object at 0x7f9c25798b80>, [], 1), (<deap.gp.Primitive object at 0x7f9c25798cc0>, ['x'], 2), (<deap.gp.Primitive object at 0x7f9c25798b30>, ['x', 'x'], 4), (<deap.gp.Primitive object at 0x7f9c25798b30>, ['0', 'x'], 7)], 2\n",
      "----------------------------------------STACK 2----------------------------------------\n",
      "-------------1 loop for combine------------\n",
      "len(stack[-1][1]=0, stack[-1][0].arity=0\n",
      "[UPDATE] append stack: ['x', 'x']\n",
      "stack: [(<deap.gp.Primitive object at 0x7f9c25798cc0>, [], 0), (<deap.gp.Primitive object at 0x7f9c25798b80>, ['x', 'x'], 1)], 2\n",
      "================================NEW================================\n",
      "append stack1: sub\n",
      "append stack2: mul\n",
      "stack1: [(<deap.gp.Primitive object at 0x7f9c25798b80>, [], 0), (<deap.gp.Primitive object at 0x7f9c25798b80>, [], 1), (<deap.gp.Primitive object at 0x7f9c25798cc0>, ['x'], 2), (<deap.gp.Primitive object at 0x7f9c25798b30>, ['x', 'x'], 4), (<deap.gp.Primitive object at 0x7f9c25798b30>, ['0', 'x'], 7), (<deap.gp.Primitive object at 0x7f9c25798b30>, [], 10)]\n",
      "stack2: [(<deap.gp.Primitive object at 0x7f9c25798cc0>, [], 0), (<deap.gp.Primitive object at 0x7f9c25798b80>, ['x', 'x'], 1), (<deap.gp.Primitive object at 0x7f9c25798b80>, [], 4)]\n",
      "-------------1 loop for combine------------\n",
      "================================NEW================================\n",
      "append stack1: protected_div\n",
      "append stack2: mul\n",
      "stack1: [(<deap.gp.Primitive object at 0x7f9c25798b80>, [], 0), (<deap.gp.Primitive object at 0x7f9c25798b80>, [], 1), (<deap.gp.Primitive object at 0x7f9c25798cc0>, ['x'], 2), (<deap.gp.Primitive object at 0x7f9c25798b30>, ['x', 'x'], 4), (<deap.gp.Primitive object at 0x7f9c25798b30>, ['0', 'x'], 7), (<deap.gp.Primitive object at 0x7f9c25798b30>, [], 10), (<deap.gp.Primitive object at 0x7f9c25798cc0>, [], 11)]\n",
      "stack2: [(<deap.gp.Primitive object at 0x7f9c25798cc0>, [], 0), (<deap.gp.Primitive object at 0x7f9c25798b80>, ['x', 'x'], 1), (<deap.gp.Primitive object at 0x7f9c25798b80>, [], 4), (<deap.gp.Primitive object at 0x7f9c25798b80>, [], 5)]\n",
      "-------------1 loop for combine------------\n",
      "================================NEW================================\n",
      "append stack1: ARG0\n",
      "append stack2: 1\n",
      "stack1: [(<deap.gp.Primitive object at 0x7f9c25798b80>, [], 0), (<deap.gp.Primitive object at 0x7f9c25798b80>, [], 1), (<deap.gp.Primitive object at 0x7f9c25798cc0>, ['x'], 2), (<deap.gp.Primitive object at 0x7f9c25798b30>, ['x', 'x'], 4), (<deap.gp.Primitive object at 0x7f9c25798b30>, ['0', 'x'], 7), (<deap.gp.Primitive object at 0x7f9c25798b30>, [], 10), (<deap.gp.Primitive object at 0x7f9c25798cc0>, [], 11), (<deap.gp.Terminal object at 0x7f9c257b07c0>, [], 12)]\n",
      "stack2: [(<deap.gp.Primitive object at 0x7f9c25798cc0>, [], 0), (<deap.gp.Primitive object at 0x7f9c25798b80>, ['x', 'x'], 1), (<deap.gp.Primitive object at 0x7f9c25798b80>, [], 4), (<deap.gp.Primitive object at 0x7f9c25798b80>, [], 5), (<deap.gp.Terminal object at 0x7f9c25a5ec80>, [], 6)]\n",
      "-------------1 loop for combine------------\n",
      "len(stack[-1][1]=0, stack[-1][0].arity=0\n",
      "[UPDATE] append stack: ['x']\n",
      "stack: [(<deap.gp.Primitive object at 0x7f9c25798b80>, [], 0), (<deap.gp.Primitive object at 0x7f9c25798b80>, [], 1), (<deap.gp.Primitive object at 0x7f9c25798cc0>, ['x'], 2), (<deap.gp.Primitive object at 0x7f9c25798b30>, ['x', 'x'], 4), (<deap.gp.Primitive object at 0x7f9c25798b30>, ['0', 'x'], 7), (<deap.gp.Primitive object at 0x7f9c25798b30>, [], 10), (<deap.gp.Primitive object at 0x7f9c25798cc0>, ['x'], 11)], 2\n",
      "len(stack[-1][1]=0, stack[-1][0].arity=0\n",
      "[UPDATE] append stack: ['1']\n",
      "stack: [(<deap.gp.Primitive object at 0x7f9c25798cc0>, [], 0), (<deap.gp.Primitive object at 0x7f9c25798b80>, ['x', 'x'], 1), (<deap.gp.Primitive object at 0x7f9c25798b80>, [], 4), (<deap.gp.Primitive object at 0x7f9c25798b80>, ['1'], 5)], 2\n",
      "================================NEW================================\n",
      "append stack1: ARG0\n",
      "append stack2: 1\n",
      "stack1: [(<deap.gp.Primitive object at 0x7f9c25798b80>, [], 0), (<deap.gp.Primitive object at 0x7f9c25798b80>, [], 1), (<deap.gp.Primitive object at 0x7f9c25798cc0>, ['x'], 2), (<deap.gp.Primitive object at 0x7f9c25798b30>, ['x', 'x'], 4), (<deap.gp.Primitive object at 0x7f9c25798b30>, ['0', 'x'], 7), (<deap.gp.Primitive object at 0x7f9c25798b30>, [], 10), (<deap.gp.Primitive object at 0x7f9c25798cc0>, ['x'], 11), (<deap.gp.Terminal object at 0x7f9c257b07c0>, [], 13)]\n",
      "stack2: [(<deap.gp.Primitive object at 0x7f9c25798cc0>, [], 0), (<deap.gp.Primitive object at 0x7f9c25798b80>, ['x', 'x'], 1), (<deap.gp.Primitive object at 0x7f9c25798b80>, [], 4), (<deap.gp.Primitive object at 0x7f9c25798b80>, ['1'], 5), (<deap.gp.Terminal object at 0x7f9c604ed500>, [], 7)]\n",
      "-------------1 loop for combine------------\n",
      "len(stack[-1][1]=0, stack[-1][0].arity=0\n",
      "[UPDATE] append stack: ['x', 'x']\n",
      "stack: [(<deap.gp.Primitive object at 0x7f9c25798b80>, [], 0), (<deap.gp.Primitive object at 0x7f9c25798b80>, [], 1), (<deap.gp.Primitive object at 0x7f9c25798cc0>, ['x'], 2), (<deap.gp.Primitive object at 0x7f9c25798b30>, ['x', 'x'], 4), (<deap.gp.Primitive object at 0x7f9c25798b30>, ['0', 'x'], 7), (<deap.gp.Primitive object at 0x7f9c25798b30>, [], 10), (<deap.gp.Primitive object at 0x7f9c25798cc0>, ['x', 'x'], 11)], 2\n",
      "len(stack[-1][1]=0, stack[-1][0].arity=0\n",
      "[UPDATE] append stack: ['1', '1']\n",
      "stack: [(<deap.gp.Primitive object at 0x7f9c25798cc0>, [], 0), (<deap.gp.Primitive object at 0x7f9c25798b80>, ['x', 'x'], 1), (<deap.gp.Primitive object at 0x7f9c25798b80>, [], 4), (<deap.gp.Primitive object at 0x7f9c25798b80>, ['1', '1'], 5)], 2\n",
      "================================NEW================================\n",
      "append stack1: sub\n",
      "append stack2: sub\n",
      "stack1: [(<deap.gp.Primitive object at 0x7f9c25798b80>, [], 0), (<deap.gp.Primitive object at 0x7f9c25798b80>, [], 1), (<deap.gp.Primitive object at 0x7f9c25798cc0>, ['x'], 2), (<deap.gp.Primitive object at 0x7f9c25798b30>, ['x', 'x'], 4), (<deap.gp.Primitive object at 0x7f9c25798b30>, ['0', 'x'], 7), (<deap.gp.Primitive object at 0x7f9c25798b30>, [], 10), (<deap.gp.Primitive object at 0x7f9c25798cc0>, ['x', 'x'], 11), (<deap.gp.Primitive object at 0x7f9c25798b30>, [], 14)]\n",
      "stack2: [(<deap.gp.Primitive object at 0x7f9c25798cc0>, [], 0), (<deap.gp.Primitive object at 0x7f9c25798b80>, ['x', 'x'], 1), (<deap.gp.Primitive object at 0x7f9c25798b80>, [], 4), (<deap.gp.Primitive object at 0x7f9c25798b80>, ['1', '1'], 5), (<deap.gp.Primitive object at 0x7f9c25798b30>, [], 8)]\n",
      "-------------1 loop for combine------------\n",
      "================================NEW================================\n",
      "append stack1: ARG0\n",
      "append stack2: 1\n",
      "stack1: [(<deap.gp.Primitive object at 0x7f9c25798b80>, [], 0), (<deap.gp.Primitive object at 0x7f9c25798b80>, [], 1), (<deap.gp.Primitive object at 0x7f9c25798cc0>, ['x'], 2), (<deap.gp.Primitive object at 0x7f9c25798b30>, ['x', 'x'], 4), (<deap.gp.Primitive object at 0x7f9c25798b30>, ['0', 'x'], 7), (<deap.gp.Primitive object at 0x7f9c25798b30>, [], 10), (<deap.gp.Primitive object at 0x7f9c25798cc0>, ['x', 'x'], 11), (<deap.gp.Primitive object at 0x7f9c25798b30>, [], 14), (<deap.gp.Terminal object at 0x7f9c257b07c0>, [], 15)]\n",
      "stack2: [(<deap.gp.Primitive object at 0x7f9c25798cc0>, [], 0), (<deap.gp.Primitive object at 0x7f9c25798b80>, ['x', 'x'], 1), (<deap.gp.Primitive object at 0x7f9c25798b80>, [], 4), (<deap.gp.Primitive object at 0x7f9c25798b80>, ['1', '1'], 5), (<deap.gp.Primitive object at 0x7f9c25798b30>, [], 8), (<deap.gp.Terminal object at 0x7f9c2591ff40>, [], 9)]\n",
      "-------------1 loop for combine------------\n",
      "len(stack[-1][1]=0, stack[-1][0].arity=0\n",
      "[UPDATE] append stack: ['x']\n",
      "stack: [(<deap.gp.Primitive object at 0x7f9c25798b80>, [], 0), (<deap.gp.Primitive object at 0x7f9c25798b80>, [], 1), (<deap.gp.Primitive object at 0x7f9c25798cc0>, ['x'], 2), (<deap.gp.Primitive object at 0x7f9c25798b30>, ['x', 'x'], 4), (<deap.gp.Primitive object at 0x7f9c25798b30>, ['0', 'x'], 7), (<deap.gp.Primitive object at 0x7f9c25798b30>, [], 10), (<deap.gp.Primitive object at 0x7f9c25798cc0>, ['x', 'x'], 11), (<deap.gp.Primitive object at 0x7f9c25798b30>, ['x'], 14)], 2\n",
      "len(stack[-1][1]=0, stack[-1][0].arity=0\n",
      "[UPDATE] append stack: ['1']\n",
      "stack: [(<deap.gp.Primitive object at 0x7f9c25798cc0>, [], 0), (<deap.gp.Primitive object at 0x7f9c25798b80>, ['x', 'x'], 1), (<deap.gp.Primitive object at 0x7f9c25798b80>, [], 4), (<deap.gp.Primitive object at 0x7f9c25798b80>, ['1', '1'], 5), (<deap.gp.Primitive object at 0x7f9c25798b30>, ['1'], 8)], 2\n",
      "================================NEW================================\n",
      "append stack1: 1\n",
      "append stack2: 1\n",
      "stack1: [(<deap.gp.Primitive object at 0x7f9c25798b80>, [], 0), (<deap.gp.Primitive object at 0x7f9c25798b80>, [], 1), (<deap.gp.Primitive object at 0x7f9c25798cc0>, ['x'], 2), (<deap.gp.Primitive object at 0x7f9c25798b30>, ['x', 'x'], 4), (<deap.gp.Primitive object at 0x7f9c25798b30>, ['0', 'x'], 7), (<deap.gp.Primitive object at 0x7f9c25798b30>, [], 10), (<deap.gp.Primitive object at 0x7f9c25798cc0>, ['x', 'x'], 11), (<deap.gp.Primitive object at 0x7f9c25798b30>, ['x'], 14), (<deap.gp.Terminal object at 0x7f9c2591ed40>, [], 16)]\n",
      "stack2: [(<deap.gp.Primitive object at 0x7f9c25798cc0>, [], 0), (<deap.gp.Primitive object at 0x7f9c25798b80>, ['x', 'x'], 1), (<deap.gp.Primitive object at 0x7f9c25798b80>, [], 4), (<deap.gp.Primitive object at 0x7f9c25798b80>, ['1', '1'], 5), (<deap.gp.Primitive object at 0x7f9c25798b30>, ['1'], 8), (<deap.gp.Terminal object at 0x7f9c604eccc0>, [], 10)]\n",
      "-------------1 loop for combine------------\n",
      "len(stack[-1][1]=0, stack[-1][0].arity=0\n",
      "[UPDATE] append stack: ['x', '1']\n",
      "stack: [(<deap.gp.Primitive object at 0x7f9c25798b80>, [], 0), (<deap.gp.Primitive object at 0x7f9c25798b80>, [], 1), (<deap.gp.Primitive object at 0x7f9c25798cc0>, ['x'], 2), (<deap.gp.Primitive object at 0x7f9c25798b30>, ['x', 'x'], 4), (<deap.gp.Primitive object at 0x7f9c25798b30>, ['0', 'x'], 7), (<deap.gp.Primitive object at 0x7f9c25798b30>, [], 10), (<deap.gp.Primitive object at 0x7f9c25798cc0>, ['x', 'x'], 11), (<deap.gp.Primitive object at 0x7f9c25798b30>, ['x', '1'], 14)], 2\n",
      "len(stack[-1][1]=0, stack[-1][0].arity=0\n",
      "[UPDATE] append stack: ['1', '1']\n",
      "stack: [(<deap.gp.Primitive object at 0x7f9c25798cc0>, [], 0), (<deap.gp.Primitive object at 0x7f9c25798b80>, ['x', 'x'], 1), (<deap.gp.Primitive object at 0x7f9c25798b80>, [], 4), (<deap.gp.Primitive object at 0x7f9c25798b80>, ['1', '1'], 5), (<deap.gp.Primitive object at 0x7f9c25798b30>, ['1', '1'], 8)], 2\n"
     ]
    }
   ],
   "source": [
    "idx1 = 0\n",
    "idx2 = 0\n",
    "\n",
    "# To track the trees\n",
    "stack1 = []\n",
    "stack2 = []\n",
    "\n",
    "# Store the common region\n",
    "region1 = []\n",
    "region2 = []\n",
    "\n",
    "# Start traversing the trees\n",
    "while (idx1 < len(parent1) and idx2 < len(parent2)):\n",
    "    # Push the nodes to the stack\n",
    "    print(\"================================NEW================================\")\n",
    "    stack1.append((parent1[idx1], [], idx1))\n",
    "    stack2.append((parent2[idx2], [], idx2))\n",
    "    print(f\"append stack1: {parent1[idx1].name}\")\n",
    "    print(f\"append stack2: {parent2[idx2].name}\")\n",
    "    print(f\"stack1: {stack1}\")\n",
    "    print(f\"stack2: {stack2}\")\n",
    "\n",
    "\n",
    "    # Not the same region\n",
    "    if (stack1[-1][0].arity != stack2[-1][0].arity):\n",
    "        res1 = stack1[-1][0].arity\n",
    "        res2 = stack2[-1][0].arity\n",
    "        print(f\"res1: {res1}, res2: {res2}\")\n",
    "        # arity1 = 0  # number of child nodes of the current node\n",
    "        # arity2 = 0\n",
    "\n",
    "        while (res1 != 0):\n",
    "            # arity1 += 1\n",
    "            # print(f\"arity1: {arity1}\")\n",
    "\n",
    "            res1 -= 1\n",
    "            print(f\"[WHILE -1] res1: {res1}\")\n",
    "\n",
    "            idx1 += 1\n",
    "            stack1.append((parent1[idx1], [], idx1))\n",
    "            # print(f\"[WHILE] append stack1: {parent1[idx1].name}\")\n",
    "            res1 += parent1[idx1].arity\n",
    "            print(f\"[WHILE +arity] res1: {res1}\")\n",
    "\n",
    "            print(\"combine\")\n",
    "            combine(stack1)\n",
    "\n",
    "            # print(f\"stack1: {stack1}, {stack1[-1][0].arity}\")\n",
    "\n",
    "\n",
    "        print(\"----------------------------------------STACK 2----------------------------------------\")\n",
    "        while (res2 != 0):\n",
    "            # arity2 += 1\n",
    "            # print(f\"arity2: {arity2}\")\n",
    "\n",
    "            res2 -= 1\n",
    "            print(f\"[WHILE -1] res2: {res2}\")\n",
    "\n",
    "            idx2 += 1\n",
    "            stack2.append((parent2[idx2], [], idx2))\n",
    "            print(f\"[WHILE] append stack2: {parent2[idx2].name}\")\n",
    "            res2 += parent2[idx2].arity\n",
    "            print(f\"[WHILE + arity] res2: {res2}\")\n",
    "\n",
    "\n",
    "            print(\"combine\")\n",
    "            combine(stack2)\n",
    "\n",
    "            print(f\"stack2: {stack2}, {stack2[-1][0].arity}\")\n",
    "    else:\n",
    "        region1.append([parent1[idx1], idx1])\n",
    "        region2.append([parent2[idx2], idx2])\n",
    "\n",
    "    print(\"-------------1 loop for combine------------\")\n",
    "    combine(stack1)\n",
    "    combine(stack2)\n",
    "    idx1 += 1\n",
    "    idx2 += 1"
   ]
  },
  {
   "cell_type": "code",
   "execution_count": 157,
   "metadata": {},
   "outputs": [
    {
     "name": "stdout",
     "output_type": "stream",
     "text": [
      "0: mul\n",
      "1: mul\n",
      "10: sub\n",
      "11: protected_div\n",
      "12: ARG0\n",
      "13: ARG0\n",
      "14: sub\n",
      "15: ARG0\n",
      "16: 1\n"
     ]
    }
   ],
   "source": [
    "for pri, idx in region1:\n",
    "    print(f\"{idx}: {pri.name}\")"
   ]
  },
  {
   "cell_type": "code",
   "execution_count": 158,
   "metadata": {},
   "outputs": [
    {
     "name": "stdout",
     "output_type": "stream",
     "text": [
      "0: protected_div\n",
      "1: mul\n",
      "4: mul\n",
      "5: mul\n",
      "6: 1\n",
      "7: 1\n",
      "8: sub\n",
      "9: 1\n",
      "10: 1\n"
     ]
    }
   ],
   "source": [
    "for pri, idx in region2:\n",
    "    print(f\"{idx}: {pri.name}\")"
   ]
  },
  {
   "cell_type": "code",
   "execution_count": 148,
   "metadata": {},
   "outputs": [
    {
     "data": {
      "text/plain": [
       "7"
      ]
     },
     "execution_count": 148,
     "metadata": {},
     "output_type": "execute_result"
    }
   ],
   "source": [
    "# Select crossover point\n",
    "point = random.randint(0, len(region1) - 1)\n",
    "point"
   ]
  },
  {
   "cell_type": "code",
   "execution_count": 149,
   "metadata": {},
   "outputs": [],
   "source": [
    "point = 1"
   ]
  },
  {
   "cell_type": "code",
   "execution_count": 159,
   "metadata": {},
   "outputs": [],
   "source": [
    "region1_copy = region1.copy()\n",
    "region2_copy = region2.copy()"
   ]
  },
  {
   "cell_type": "code",
   "execution_count": 151,
   "metadata": {},
   "outputs": [
    {
     "data": {
      "text/plain": [
       "range(1, 9)"
      ]
     },
     "execution_count": 151,
     "metadata": {},
     "output_type": "execute_result"
    }
   ],
   "source": [
    "range(point, len(region1_copy))"
   ]
  },
  {
   "cell_type": "code",
   "execution_count": 160,
   "metadata": {},
   "outputs": [
    {
     "name": "stdout",
     "output_type": "stream",
     "text": [
      "i: 1, ('mul', 'mul')\n",
      "i: 2, ('sub', 'mul')\n",
      "i: 3, ('protected_div', 'mul')\n",
      "i: 4, ('ARG0', '1')\n",
      "i: 5, ('ARG0', '1')\n",
      "i: 6, ('sub', 'sub')\n",
      "i: 7, ('ARG0', '1')\n",
      "i: 8, ('1', '1')\n"
     ]
    }
   ],
   "source": [
    "for i in range(point, len(region1_copy)):\n",
    "    print(f\"i: {i}, {region1_copy[i][0].name, region2_copy[i][0].name}\")\n",
    "    region1_copy[i][0], region2_copy[i][0] = region2_copy[i][0], region1_copy[i][0]"
   ]
  },
  {
   "cell_type": "code",
   "execution_count": 161,
   "metadata": {},
   "outputs": [
    {
     "name": "stdout",
     "output_type": "stream",
     "text": [
      "0: mul\n",
      "1: mul\n",
      "10: mul\n",
      "11: mul\n",
      "12: 1\n",
      "13: 1\n",
      "14: sub\n",
      "15: 1\n",
      "16: 1\n"
     ]
    }
   ],
   "source": [
    "for pri, idx in region1_copy:\n",
    "    print(f\"{idx}: {pri.name}\")"
   ]
  },
  {
   "cell_type": "code",
   "execution_count": 162,
   "metadata": {},
   "outputs": [
    {
     "name": "stdout",
     "output_type": "stream",
     "text": [
      "0: protected_div\n",
      "1: mul\n",
      "4: sub\n",
      "5: protected_div\n",
      "6: ARG0\n",
      "7: ARG0\n",
      "8: sub\n",
      "9: ARG0\n",
      "10: 1\n"
     ]
    }
   ],
   "source": [
    "for pri, idx in region2_copy:\n",
    "    print(f\"{idx}: {pri.name}\")"
   ]
  },
  {
   "cell_type": "code",
   "execution_count": 163,
   "metadata": {},
   "outputs": [],
   "source": [
    "ind1, ind2 = parent1.copy(), parent2.copy()"
   ]
  },
  {
   "cell_type": "code",
   "execution_count": 145,
   "metadata": {},
   "outputs": [
    {
     "name": "stdout",
     "output_type": "stream",
     "text": [
      "mul(mul(protected_div(x, sub(x, x)), sub(0, x)), sub(protected_div(x, x), sub(x, 1)))\n"
     ]
    }
   ],
   "source": [
    "print(parent1)"
   ]
  },
  {
   "cell_type": "code",
   "execution_count": 142,
   "metadata": {},
   "outputs": [
    {
     "data": {
      "text/plain": [
       "list"
      ]
     },
     "execution_count": 142,
     "metadata": {},
     "output_type": "execute_result"
    }
   ],
   "source": [
    "type(ind1)"
   ]
  },
  {
   "cell_type": "code",
   "execution_count": 164,
   "metadata": {},
   "outputs": [],
   "source": [
    "for pri, idx in region1_copy:\n",
    "    ind1[idx] = pri"
   ]
  },
  {
   "cell_type": "code",
   "execution_count": 165,
   "metadata": {},
   "outputs": [],
   "source": [
    "ind1 = gp.PrimitiveTree(ind1)"
   ]
  },
  {
   "cell_type": "code",
   "execution_count": 166,
   "metadata": {},
   "outputs": [
    {
     "data": {
      "text/plain": [
       "'mul(mul(protected_div(x, sub(x, x)), sub(0, x)), mul(mul(1, 1), sub(1, 1)))'"
      ]
     },
     "execution_count": 166,
     "metadata": {},
     "output_type": "execute_result"
    }
   ],
   "source": [
    "ind1.__str__()"
   ]
  },
  {
   "cell_type": "code",
   "execution_count": 28,
   "metadata": {},
   "outputs": [],
   "source": [
    "print_tree(ind1, \"offspring1\")\n",
    "print_tree(ind2, \"offspring2\")"
   ]
  }
 ],
 "metadata": {
  "kernelspec": {
   "display_name": "env_ec",
   "language": "python",
   "name": "python3"
  },
  "language_info": {
   "codemirror_mode": {
    "name": "ipython",
    "version": 3
   },
   "file_extension": ".py",
   "mimetype": "text/x-python",
   "name": "python",
   "nbconvert_exporter": "python",
   "pygments_lexer": "ipython3",
   "version": "3.9.19"
  }
 },
 "nbformat": 4,
 "nbformat_minor": 2
}
